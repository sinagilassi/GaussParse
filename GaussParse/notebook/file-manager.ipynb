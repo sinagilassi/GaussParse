{
 "cells": [
  {
   "cell_type": "markdown",
   "metadata": {},
   "source": [
    "# Packages\n"
   ]
  },
  {
   "cell_type": "code",
   "execution_count": 7,
   "metadata": {},
   "outputs": [
    {
     "name": "stdout",
     "output_type": "stream",
     "text": [
      "Python 3.9.5\n"
     ]
    }
   ],
   "source": [
    "!python --version"
   ]
  },
  {
   "cell_type": "code",
   "execution_count": 8,
   "metadata": {},
   "outputs": [
    {
     "name": "stdout",
     "output_type": "stream",
     "text": [
      "pip 24.0 from E:\\Python Projects\\GaussParse\\venv\\lib\\site-packages\\pip (python 3.9)\n",
      "\n"
     ]
    }
   ],
   "source": [
    "!pip --version"
   ]
  },
  {
   "cell_type": "code",
   "execution_count": 9,
   "metadata": {},
   "outputs": [],
   "source": [
    "# import packages/modules\n",
    "import numpy as np\n",
    "# import matplotlib.pyplot as plt\n",
    "import pandas as pd\n",
    "import os\n",
    "import re\n",
    "import csv\n",
    "# added\n",
    "import shutil"
   ]
  },
  {
   "cell_type": "markdown",
   "metadata": {},
   "source": [
    "### Set base directory\n"
   ]
  },
  {
   "cell_type": "code",
   "execution_count": 18,
   "metadata": {},
   "outputs": [
    {
     "name": "stdout",
     "output_type": "stream",
     "text": [
      "base_dir e:\\Python Projects\\GaussParse\\GaussParse\\notebook\n"
     ]
    }
   ],
   "source": [
    "# current directory\n",
    "base_dir = os.getcwd()\n",
    "print(f\"base_dir {base_dir}\")"
   ]
  },
  {
   "cell_type": "markdown",
   "metadata": {},
   "source": [
    "### Open an excel file\n",
    "\n",
    "**_ `VARS` _**\n",
    "\n",
    "1. excel_file\n",
    "2. sheet_name\n"
   ]
  },
  {
   "cell_type": "code",
   "execution_count": 19,
   "metadata": {},
   "outputs": [
    {
     "name": "stdout",
     "output_type": "stream",
     "text": [
      "target_folder D:\\OneDrive\\Project Analysis\\Computational Chemistry\\analysis\\terpens epoxidation\\extract data\\acetone-limonene-mechanism-2.xlsx\n"
     ]
    },
    {
     "data": {
      "text/html": [
       "<div>\n",
       "<style scoped>\n",
       "    .dataframe tbody tr th:only-of-type {\n",
       "        vertical-align: middle;\n",
       "    }\n",
       "\n",
       "    .dataframe tbody tr th {\n",
       "        vertical-align: top;\n",
       "    }\n",
       "\n",
       "    .dataframe thead th {\n",
       "        text-align: right;\n",
       "    }\n",
       "</style>\n",
       "<table border=\"1\" class=\"dataframe\">\n",
       "  <thead>\n",
       "    <tr style=\"text-align: right;\">\n",
       "      <th></th>\n",
       "      <th>No</th>\n",
       "      <th>Name</th>\n",
       "      <th>src</th>\n",
       "    </tr>\n",
       "  </thead>\n",
       "  <tbody>\n",
       "    <tr>\n",
       "      <th>0</th>\n",
       "      <td>1</td>\n",
       "      <td>limonene</td>\n",
       "      <td>D:\\OneDrive\\Project Analysis\\Computational Che...</td>\n",
       "    </tr>\n",
       "    <tr>\n",
       "      <th>1</th>\n",
       "      <td>2</td>\n",
       "      <td>dmdo</td>\n",
       "      <td>D:\\OneDrive\\Project Analysis\\Computational Che...</td>\n",
       "    </tr>\n",
       "    <tr>\n",
       "      <th>2</th>\n",
       "      <td>3</td>\n",
       "      <td>aceton</td>\n",
       "      <td>D:\\OneDrive\\Project Analysis\\Computational Che...</td>\n",
       "    </tr>\n",
       "    <tr>\n",
       "      <th>3</th>\n",
       "      <td>4</td>\n",
       "      <td>RC1</td>\n",
       "      <td>D:\\OneDrive\\Project Analysis\\Computational Che...</td>\n",
       "    </tr>\n",
       "    <tr>\n",
       "      <th>4</th>\n",
       "      <td>5</td>\n",
       "      <td>TS1-cis</td>\n",
       "      <td>D:\\OneDrive\\Project Analysis\\Computational Che...</td>\n",
       "    </tr>\n",
       "    <tr>\n",
       "      <th>5</th>\n",
       "      <td>6</td>\n",
       "      <td>PC1</td>\n",
       "      <td>D:\\OneDrive\\Project Analysis\\Computational Che...</td>\n",
       "    </tr>\n",
       "    <tr>\n",
       "      <th>6</th>\n",
       "      <td>7</td>\n",
       "      <td>1,2LO</td>\n",
       "      <td>D:\\OneDrive\\Project Analysis\\Computational Che...</td>\n",
       "    </tr>\n",
       "    <tr>\n",
       "      <th>7</th>\n",
       "      <td>8</td>\n",
       "      <td>RC2-1</td>\n",
       "      <td>D:\\OneDrive\\Project Analysis\\Computational Che...</td>\n",
       "    </tr>\n",
       "    <tr>\n",
       "      <th>8</th>\n",
       "      <td>9</td>\n",
       "      <td>TS2-1</td>\n",
       "      <td>D:\\OneDrive\\Project Analysis\\Computational Che...</td>\n",
       "    </tr>\n",
       "    <tr>\n",
       "      <th>9</th>\n",
       "      <td>10</td>\n",
       "      <td>PC2-1</td>\n",
       "      <td>D:\\OneDrive\\Project Analysis\\Computational Che...</td>\n",
       "    </tr>\n",
       "    <tr>\n",
       "      <th>10</th>\n",
       "      <td>11</td>\n",
       "      <td>LDO-1</td>\n",
       "      <td>D:\\OneDrive\\Project Analysis\\Computational Che...</td>\n",
       "    </tr>\n",
       "    <tr>\n",
       "      <th>11</th>\n",
       "      <td>12</td>\n",
       "      <td>RC2-2</td>\n",
       "      <td>D:\\OneDrive\\Project Analysis\\Computational Che...</td>\n",
       "    </tr>\n",
       "    <tr>\n",
       "      <th>12</th>\n",
       "      <td>13</td>\n",
       "      <td>TS2-2</td>\n",
       "      <td>D:\\OneDrive\\Project Analysis\\Computational Che...</td>\n",
       "    </tr>\n",
       "    <tr>\n",
       "      <th>13</th>\n",
       "      <td>14</td>\n",
       "      <td>PC2-2</td>\n",
       "      <td>D:\\OneDrive\\Project Analysis\\Computational Che...</td>\n",
       "    </tr>\n",
       "    <tr>\n",
       "      <th>14</th>\n",
       "      <td>15</td>\n",
       "      <td>LDO-2</td>\n",
       "      <td>D:\\OneDrive\\Project Analysis\\Computational Che...</td>\n",
       "    </tr>\n",
       "  </tbody>\n",
       "</table>\n",
       "</div>"
      ],
      "text/plain": [
       "    No      Name                                                src\n",
       "0    1  limonene  D:\\OneDrive\\Project Analysis\\Computational Che...\n",
       "1    2      dmdo  D:\\OneDrive\\Project Analysis\\Computational Che...\n",
       "2    3    aceton  D:\\OneDrive\\Project Analysis\\Computational Che...\n",
       "3    4       RC1  D:\\OneDrive\\Project Analysis\\Computational Che...\n",
       "4    5   TS1-cis  D:\\OneDrive\\Project Analysis\\Computational Che...\n",
       "5    6       PC1  D:\\OneDrive\\Project Analysis\\Computational Che...\n",
       "6    7     1,2LO  D:\\OneDrive\\Project Analysis\\Computational Che...\n",
       "7    8     RC2-1  D:\\OneDrive\\Project Analysis\\Computational Che...\n",
       "8    9     TS2-1  D:\\OneDrive\\Project Analysis\\Computational Che...\n",
       "9   10     PC2-1  D:\\OneDrive\\Project Analysis\\Computational Che...\n",
       "10  11     LDO-1  D:\\OneDrive\\Project Analysis\\Computational Che...\n",
       "11  12     RC2-2  D:\\OneDrive\\Project Analysis\\Computational Che...\n",
       "12  13     TS2-2  D:\\OneDrive\\Project Analysis\\Computational Che...\n",
       "13  14     PC2-2  D:\\OneDrive\\Project Analysis\\Computational Che...\n",
       "14  15     LDO-2  D:\\OneDrive\\Project Analysis\\Computational Che..."
      ]
     },
     "execution_count": 19,
     "metadata": {},
     "output_type": "execute_result"
    }
   ],
   "source": [
    "# excel file\n",
    "excel_file = 'acetone-limonene-mechanism-2.xlsx'\n",
    "excel_file_external_path = \"D:\\\\OneDrive\\\\Project Analysis\\\\Computational Chemistry\\\\analysis\\\\terpens epoxidation\\\\extract data\"\n",
    "# target folder\n",
    "target_folder = os.path.join(excel_file_external_path, excel_file)\n",
    "\n",
    "print(f\"target_folder {target_folder}\")\n",
    "\n",
    "# load excel file\n",
    "df = pd.read_excel(target_folder, sheet_name=\"Sheet2\")\n",
    "df"
   ]
  },
  {
   "cell_type": "code",
   "execution_count": 20,
   "metadata": {},
   "outputs": [],
   "source": [
    "# # excel file\n",
    "# excel_file = 'acetone-limonene-mechanism-1.xlsx'\n",
    "# # excel folder\n",
    "# excel_folder = 'data'\n",
    "# # target folder\n",
    "# target_folder = os.path.join(base_dir, excel_folder, excel_file)\n",
    "\n",
    "# # load excel file\n",
    "# df = pd.read_excel(target_folder, sheet_name=\"Sheet1\")\n",
    "\n",
    "# df"
   ]
  },
  {
   "cell_type": "markdown",
   "metadata": {},
   "source": [
    "### Store data in a list\n"
   ]
  },
  {
   "cell_type": "code",
   "execution_count": 20,
   "metadata": {},
   "outputs": [
    {
     "data": {
      "text/plain": [
       "[[1,\n",
       "  'limonene',\n",
       "  'D:\\\\OneDrive\\\\Project Analysis\\\\Computational Chemistry\\\\models\\\\limonene\\\\res 2\\\\solvent\\\\res 2\\\\g09_exp.txt'],\n",
       " [2,\n",
       "  'dmdo',\n",
       "  'D:\\\\OneDrive\\\\Project Analysis\\\\Computational Chemistry\\\\models\\\\dimethyldioxirane\\\\res 1\\\\solvent\\\\acetone\\\\res 1\\\\g09_exp.txt'],\n",
       " [3,\n",
       "  'aceton',\n",
       "  'D:\\\\OneDrive\\\\Project Analysis\\\\Computational Chemistry\\\\models\\\\acetone\\\\res 1\\\\solvent\\\\res 1\\\\g09_exp.txt'],\n",
       " [4,\n",
       "  'RC1',\n",
       "  'D:\\\\OneDrive\\\\Project Analysis\\\\Computational Chemistry\\\\models\\\\terpens epoxidation\\\\limonene-dmdo\\\\mechanism 2\\\\step 1\\\\qst3\\\\res 1\\\\tight\\\\res 1\\\\solvent-acetone\\\\qst3\\\\res 1\\\\lg bs\\\\res 1\\\\irc\\\\res 1\\\\reactants\\\\res 1\\\\g09_exp.txt'],\n",
       " [5,\n",
       "  'TS1-cis',\n",
       "  'D:\\\\OneDrive\\\\Project Analysis\\\\Computational Chemistry\\\\models\\\\terpens epoxidation\\\\limonene-dmdo\\\\mechanism 2\\\\step 1\\\\qst3\\\\res 1\\\\tight\\\\res 1\\\\solvent-acetone\\\\qst3\\\\res 1\\\\lg bs\\\\res 1\\\\g09_exp.txt'],\n",
       " [6,\n",
       "  'PC1',\n",
       "  'D:\\\\OneDrive\\\\Project Analysis\\\\Computational Chemistry\\\\models\\\\terpens epoxidation\\\\limonene-dmdo\\\\mechanism 2\\\\step 1\\\\qst3\\\\res 1\\\\tight\\\\res 1\\\\solvent-acetone\\\\qst3\\\\res 1\\\\lg bs\\\\res 1\\\\irc\\\\res 1\\\\products\\\\res 1\\\\g09_exp.txt'],\n",
       " [7,\n",
       "  '1,2LO',\n",
       "  'D:\\\\OneDrive\\\\Project Analysis\\\\Computational Chemistry\\\\models\\\\terpens epoxidation\\\\limonene-dmdo\\\\mechanism 2\\\\step 1\\\\qst3\\\\res 1\\\\tight\\\\res 1\\\\irc\\\\res 1\\\\1,2 LO\\\\res 1\\\\link\\\\res 1\\\\solvent\\\\res 1\\\\g09_exp.txt'],\n",
       " [8,\n",
       "  'RC2-1',\n",
       "  'D:\\\\OneDrive\\\\Project Analysis\\\\Computational Chemistry\\\\models\\\\terpens epoxidation\\\\limonene-dmdo\\\\mechanism 2\\\\step 2\\\\qst3-1\\\\res 1\\\\tight\\\\res 1\\\\solvent-acetone\\\\qst3\\\\res 1\\\\lg bs\\\\res 1\\\\irc\\\\reactants\\\\res 1\\\\g09_exp.txt'],\n",
       " [9,\n",
       "  'TS2-1',\n",
       "  'D:\\\\OneDrive\\\\Project Analysis\\\\Computational Chemistry\\\\models\\\\terpens epoxidation\\\\limonene-dmdo\\\\mechanism 2\\\\step 2\\\\qst3-1\\\\res 1\\\\tight\\\\res 1\\\\solvent-acetone\\\\qst3\\\\res 1\\\\lg bs\\\\res 1\\\\g09_exp.txt'],\n",
       " [10,\n",
       "  'PC2-1',\n",
       "  'D:\\\\OneDrive\\\\Project Analysis\\\\Computational Chemistry\\\\models\\\\terpens epoxidation\\\\limonene-dmdo\\\\mechanism 2\\\\step 2\\\\qst3-1\\\\res 1\\\\tight\\\\res 1\\\\solvent-acetone\\\\qst3\\\\res 1\\\\lg bs\\\\res 1\\\\irc\\\\products\\\\res 1\\\\g09_exp.txt'],\n",
       " [11,\n",
       "  'LDO-1',\n",
       "  'D:\\\\OneDrive\\\\Project Analysis\\\\Computational Chemistry\\\\models\\\\terpens epoxidation\\\\limonene-dmdo\\\\mechanism 2\\\\step 2\\\\qst3-1\\\\res 1\\\\tight\\\\res 1\\\\irc\\\\res 1\\\\LDO\\\\solvent-acetone\\\\res 1\\\\g09_exp.txt'],\n",
       " [12,\n",
       "  'RC2-2',\n",
       "  'D:\\\\OneDrive\\\\Project Analysis\\\\Computational Chemistry\\\\models\\\\terpens epoxidation\\\\limonene-dmdo\\\\mechanism 2\\\\step 2\\\\qst3-2\\\\res 1\\\\tight\\\\res 1\\\\solvent-acetone\\\\qst3\\\\res 1\\\\lg bs\\\\res 1\\\\irc\\\\res 1\\\\reactants\\\\res 1\\\\g09_exp.txt'],\n",
       " [13,\n",
       "  'TS2-2',\n",
       "  'D:\\\\OneDrive\\\\Project Analysis\\\\Computational Chemistry\\\\models\\\\terpens epoxidation\\\\limonene-dmdo\\\\mechanism 2\\\\step 2\\\\qst3-2\\\\res 1\\\\tight\\\\res 1\\\\solvent-acetone\\\\qst3\\\\res 1\\\\lg bs\\\\res 1\\\\g09_exp.txt'],\n",
       " [14,\n",
       "  'PC2-2',\n",
       "  'D:\\\\OneDrive\\\\Project Analysis\\\\Computational Chemistry\\\\models\\\\terpens epoxidation\\\\limonene-dmdo\\\\mechanism 2\\\\step 2\\\\qst3-2\\\\res 1\\\\tight\\\\res 1\\\\solvent-acetone\\\\qst3\\\\res 1\\\\lg bs\\\\res 1\\\\irc\\\\res 1\\\\products\\\\res 1\\\\g09_exp.txt'],\n",
       " [15,\n",
       "  'LDO-2',\n",
       "  'D:\\\\OneDrive\\\\Project Analysis\\\\Computational Chemistry\\\\models\\\\terpens epoxidation\\\\limonene-dmdo\\\\mechanism 2\\\\step 2\\\\qst3-2\\\\res 1\\\\tight\\\\res 1\\\\irc\\\\res 1\\\\LDO\\\\solvent-acetone\\\\res 1\\\\g09_exp.txt']]"
      ]
     },
     "execution_count": 20,
     "metadata": {},
     "output_type": "execute_result"
    }
   ],
   "source": [
    "df_list = df.values.tolist()\n",
    "df_list"
   ]
  },
  {
   "cell_type": "code",
   "execution_count": 21,
   "metadata": {},
   "outputs": [
    {
     "name": "stdout",
     "output_type": "stream",
     "text": [
      "D:\\OneDrive\\Project Analysis\\Computational Chemistry\\models\\limonene\\res 2\\solvent\\res 2\\g09_exp.txt\n",
      "D:\\OneDrive\\Project Analysis\\Computational Chemistry\\models\\dimethyldioxirane\\res 1\\solvent\\acetone\\res 1\\g09_exp.txt\n",
      "D:\\OneDrive\\Project Analysis\\Computational Chemistry\\models\\acetone\\res 1\\solvent\\res 1\\g09_exp.txt\n",
      "D:\\OneDrive\\Project Analysis\\Computational Chemistry\\models\\terpens epoxidation\\limonene-dmdo\\mechanism 2\\step 1\\qst3\\res 1\\tight\\res 1\\solvent-acetone\\qst3\\res 1\\lg bs\\res 1\\irc\\res 1\\reactants\\res 1\\g09_exp.txt\n",
      "D:\\OneDrive\\Project Analysis\\Computational Chemistry\\models\\terpens epoxidation\\limonene-dmdo\\mechanism 2\\step 1\\qst3\\res 1\\tight\\res 1\\solvent-acetone\\qst3\\res 1\\lg bs\\res 1\\g09_exp.txt\n",
      "D:\\OneDrive\\Project Analysis\\Computational Chemistry\\models\\terpens epoxidation\\limonene-dmdo\\mechanism 2\\step 1\\qst3\\res 1\\tight\\res 1\\solvent-acetone\\qst3\\res 1\\lg bs\\res 1\\irc\\res 1\\products\\res 1\\g09_exp.txt\n",
      "D:\\OneDrive\\Project Analysis\\Computational Chemistry\\models\\terpens epoxidation\\limonene-dmdo\\mechanism 2\\step 1\\qst3\\res 1\\tight\\res 1\\irc\\res 1\\1,2 LO\\res 1\\link\\res 1\\solvent\\res 1\\g09_exp.txt\n",
      "D:\\OneDrive\\Project Analysis\\Computational Chemistry\\models\\terpens epoxidation\\limonene-dmdo\\mechanism 2\\step 2\\qst3-1\\res 1\\tight\\res 1\\solvent-acetone\\qst3\\res 1\\lg bs\\res 1\\irc\\reactants\\res 1\\g09_exp.txt\n",
      "D:\\OneDrive\\Project Analysis\\Computational Chemistry\\models\\terpens epoxidation\\limonene-dmdo\\mechanism 2\\step 2\\qst3-1\\res 1\\tight\\res 1\\solvent-acetone\\qst3\\res 1\\lg bs\\res 1\\g09_exp.txt\n",
      "D:\\OneDrive\\Project Analysis\\Computational Chemistry\\models\\terpens epoxidation\\limonene-dmdo\\mechanism 2\\step 2\\qst3-1\\res 1\\tight\\res 1\\solvent-acetone\\qst3\\res 1\\lg bs\\res 1\\irc\\products\\res 1\\g09_exp.txt\n",
      "D:\\OneDrive\\Project Analysis\\Computational Chemistry\\models\\terpens epoxidation\\limonene-dmdo\\mechanism 2\\step 2\\qst3-1\\res 1\\tight\\res 1\\irc\\res 1\\LDO\\solvent-acetone\\res 1\\g09_exp.txt\n",
      "D:\\OneDrive\\Project Analysis\\Computational Chemistry\\models\\terpens epoxidation\\limonene-dmdo\\mechanism 2\\step 2\\qst3-2\\res 1\\tight\\res 1\\solvent-acetone\\qst3\\res 1\\lg bs\\res 1\\irc\\res 1\\reactants\\res 1\\g09_exp.txt\n",
      "D:\\OneDrive\\Project Analysis\\Computational Chemistry\\models\\terpens epoxidation\\limonene-dmdo\\mechanism 2\\step 2\\qst3-2\\res 1\\tight\\res 1\\solvent-acetone\\qst3\\res 1\\lg bs\\res 1\\g09_exp.txt\n",
      "D:\\OneDrive\\Project Analysis\\Computational Chemistry\\models\\terpens epoxidation\\limonene-dmdo\\mechanism 2\\step 2\\qst3-2\\res 1\\tight\\res 1\\solvent-acetone\\qst3\\res 1\\lg bs\\res 1\\irc\\res 1\\products\\res 1\\g09_exp.txt\n",
      "D:\\OneDrive\\Project Analysis\\Computational Chemistry\\models\\terpens epoxidation\\limonene-dmdo\\mechanism 2\\step 2\\qst3-2\\res 1\\tight\\res 1\\irc\\res 1\\LDO\\solvent-acetone\\res 1\\g09_exp.txt\n"
     ]
    }
   ],
   "source": [
    "for r in df_list:\n",
    "    # file no\n",
    "    file_no = r[0]\n",
    "    # file name\n",
    "    file_name = r[1]\n",
    "    # file src\n",
    "    file_src = r[2]\n",
    "\n",
    "    # file dir\n",
    "    file_dir = os.path.join(file_src)\n",
    "    print(file_dir)"
   ]
  },
  {
   "cell_type": "markdown",
   "metadata": {},
   "source": [
    "### Read an example file\n"
   ]
  },
  {
   "cell_type": "code",
   "execution_count": 22,
   "metadata": {},
   "outputs": [
    {
     "name": "stdout",
     "output_type": "stream",
     "text": [
      "D:\\OneDrive\\Project Analysis\\Computational Chemistry\\models\\limonene\\res 2\\solvent\\res 2\\g09_exp.txt\n",
      "file_name_full: Filename = D:/OneDrive/Project Analysis/Computational Chemistry/models/limonene/res 2/solvent/res 2/g09_exp.log\n",
      "\n",
      "Overview Tab Data Section:\n",
      "limonene optimization and frequencies (Optimization completed)\n",
      "D:/OneDrive/Project Analysis/Computational Chemistry/models/limonene/res 2/solvent/res 2/g09_exp.log\n",
      "File Type = .log\n",
      "Calculation Type = FREQ\n",
      "Calculation Method = RM062X\n",
      "Basis Set = 6-311++G(d,p)\n",
      "Charge = 0\n",
      "Spin = Singlet\n",
      "Solvation = scrf=solvent=acetone\n",
      "E(RM062X) = -390.59003 Hartree\n",
      "RMS Gradient Norm = 5.08e-07 Hartree/Bohr\n",
      "Imaginary Freq = 0\n",
      "Dipole Moment = 0.66807204 Debye\n",
      "Polarizability (?) = 150.57467 a.u.\n",
      "Point Group = C1\n",
      "Job cpu time:       0 days  3 hours 27 minutes 29.7 seconds.\n",
      "\n",
      "Thermo Tab Data Section:\n",
      "Imaginary Freq = 0\n",
      "Temperature = 298.15 Kelvin\n",
      "Pressure = 1 atm\n",
      "Frequencies scaled by = 1\n",
      "Electronic Energy (EE) = -390.59003 Hartree\n",
      "Zero-point Energy Correction = 0.236143 Hartree\n",
      "Thermal Correction to Energy = 0.246733 Hartree\n",
      "Thermal Correction to Enthalpy = 0.247677 Hartree\n",
      "Thermal Correction to Free Energy = 0.200537 Hartree\n",
      "EE + Zero-point Energy = -390.35388 Hartree\n",
      "EE + Thermal Energy Correction = -390.3433 Hartree\n",
      "EE + Thermal Enthalpy Correction = -390.34235 Hartree\n",
      "EE + Thermal Free Energy Correction = -390.38949 Hartree\n",
      "E (Thermal) = 154.827 kcal/mol\n",
      "Heat Capacity (Cv) = 41.127 cal/mol-kelvin\n",
      "Entropy (S) = 99.214 cal/mol-kelvin\n",
      "\n",
      "Opt Tab Data Section:\n",
      "Step number = 1\n",
      "Maximum force = 0 Converged\n",
      "RMS force = 0 Converged\n",
      "Maximum displacement = 5.1e-05 Converged\n",
      "RMS displacement = 9e-06 Converged\n",
      "Predicted energy change = -3.775906e-12 Hartree\n",
      "\n"
     ]
    }
   ],
   "source": [
    "# file dir\n",
    "file_test_dir = os.path.join(df_list[0][2])\n",
    "file_test_dir = file_test_dir.strip()\n",
    "print(file_test_dir)\n",
    "\n",
    "with open(file_test_dir, \"r\") as f:\n",
    "    content = f.read()\n",
    "    print(f\"file_name_full: {content}\")"
   ]
  },
  {
   "cell_type": "markdown",
   "metadata": {},
   "source": [
    "### Copy the list to the new folder\n",
    "\n",
    "**_ `destination_folder_name` _**\n"
   ]
  },
  {
   "cell_type": "code",
   "execution_count": 23,
   "metadata": {},
   "outputs": [
    {
     "name": "stdout",
     "output_type": "stream",
     "text": [
      "D:\\OneDrive\\Project Analysis\\Computational Chemistry\\analysis\\terpens epoxidation\\extract data\\acetone-limonene-mechanism-2\n"
     ]
    }
   ],
   "source": [
    "# method 1\n",
    "# new folder\n",
    "destination_folder_name = excel_file.split(\".\")[0]\n",
    "destination_folder_dir = os.path.join(\n",
    "    excel_file_external_path, destination_folder_name)\n",
    "print(destination_folder_dir)"
   ]
  },
  {
   "cell_type": "markdown",
   "metadata": {},
   "source": [
    "log extension for gaussian output\n",
    "\n",
    "txt extension for summary result\n"
   ]
  },
  {
   "cell_type": "code",
   "execution_count": 24,
   "metadata": {},
   "outputs": [],
   "source": [
    "def copy_files(df_list, destination_folder_dir, file_extension='txt'):\n",
    "    '''\n",
    "    copy all files from the source folder to the destination folder \n",
    "\n",
    "    '''\n",
    "    # check destination folder\n",
    "    if os.path.exists(destination_folder_dir) is False:\n",
    "        os.makedirs(destination_folder_dir, exist_ok=True)\n",
    "\n",
    "    for r in df_list:\n",
    "        # file no\n",
    "        file_no = r[0]\n",
    "        # file name\n",
    "        file_name = r[1]\n",
    "        # file src\n",
    "        file_src = (r[2]).strip()\n",
    "\n",
    "        # file name with extension\n",
    "        file_name_full = file_name + '.' + file_extension\n",
    "\n",
    "        # file dir\n",
    "        source_folder = os.path.dirname(file_src)\n",
    "        # file name (in dir)\n",
    "        source_file_name = os.path.basename(file_src)\n",
    "\n",
    "        # Check if the source folder exists\n",
    "        if os.path.exists(source_folder):\n",
    "            # Copy all files from the source folder to the destination folder\n",
    "            for filename in os.listdir(source_folder):\n",
    "                shutil.copy(os.path.join(source_folder, source_file_name),\n",
    "                            os.path.join(destination_folder_dir, file_name_full))\n",
    "        else:\n",
    "            print('Source folder does not exist.')"
   ]
  },
  {
   "cell_type": "markdown",
   "metadata": {},
   "source": [
    "log for gaussian output files\n",
    "\n",
    "txt for summary result\n"
   ]
  },
  {
   "cell_type": "code",
   "execution_count": 25,
   "metadata": {},
   "outputs": [],
   "source": [
    "# test\n",
    "copy_files(df_list, destination_folder_dir, file_extension='txt')"
   ]
  },
  {
   "cell_type": "markdown",
   "metadata": {},
   "source": [
    "# Old version\n"
   ]
  },
  {
   "cell_type": "code",
   "execution_count": null,
   "metadata": {},
   "outputs": [],
   "source": [
    "# new folder\n",
    "destination_folder_name = 'data\\\\isolate-gas'\n",
    "destination_folder_dir = os.path.join(base_dir, destination_folder_name)\n",
    "\n",
    "# check destination folder\n",
    "if os.path.exists(destination_folder_dir) is False:\n",
    "    os.makedirs(destination_folder_dir, exist_ok=True)\n",
    "\n",
    "for r in df_list:\n",
    "    # file no\n",
    "    file_no = r[0]\n",
    "    # file name\n",
    "    file_name = r[1]\n",
    "    # file src\n",
    "    file_src = (r[2]).strip()\n",
    "\n",
    "    # file name with extension\n",
    "    file_name_full = file_name + '.log'\n",
    "\n",
    "    # file dir\n",
    "    source_folder = os.path.dirname(file_src)\n",
    "    # file name (in dir)\n",
    "    source_file_name = os.path.basename(file_src)\n",
    "\n",
    "    # Check if the source folder exists\n",
    "    if os.path.exists(source_folder):\n",
    "        # Copy all files from the source folder to the destination folder\n",
    "        for filename in os.listdir(source_folder):\n",
    "            shutil.copy(os.path.join(source_folder, source_file_name),\n",
    "                        os.path.join(destination_folder_dir, file_name_full))\n",
    "    else:\n",
    "        print('Source folder does not exist.')"
   ]
  }
 ],
 "metadata": {
  "kernelspec": {
   "display_name": "venv",
   "language": "python",
   "name": "python3"
  },
  "language_info": {
   "codemirror_mode": {
    "name": "ipython",
    "version": 3
   },
   "file_extension": ".py",
   "mimetype": "text/x-python",
   "name": "python",
   "nbconvert_exporter": "python",
   "pygments_lexer": "ipython3",
   "version": "3.9.5"
  }
 },
 "nbformat": 4,
 "nbformat_minor": 2
}
