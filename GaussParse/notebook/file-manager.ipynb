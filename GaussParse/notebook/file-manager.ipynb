{
 "cells": [
  {
   "cell_type": "markdown",
   "metadata": {},
   "source": [
    "# Packages\n"
   ]
  },
  {
   "cell_type": "code",
   "execution_count": 1,
   "metadata": {},
   "outputs": [
    {
     "name": "stdout",
     "output_type": "stream",
     "text": [
      "Python 3.9.5\n"
     ]
    }
   ],
   "source": [
    "!python --version"
   ]
  },
  {
   "cell_type": "code",
   "execution_count": 2,
   "metadata": {},
   "outputs": [
    {
     "name": "stdout",
     "output_type": "stream",
     "text": [
      "pip 24.0 from E:\\Python Projects\\GaussParse\\venv\\lib\\site-packages\\pip (python 3.9)\n",
      "\n"
     ]
    }
   ],
   "source": [
    "!pip --version"
   ]
  },
  {
   "cell_type": "code",
   "execution_count": 3,
   "metadata": {},
   "outputs": [],
   "source": [
    "# import packages/modules\n",
    "import numpy as np\n",
    "# import matplotlib.pyplot as plt\n",
    "import pandas as pd\n",
    "import os\n",
    "import re\n",
    "import csv\n",
    "# added\n",
    "import shutil"
   ]
  },
  {
   "cell_type": "markdown",
   "metadata": {},
   "source": [
    "### Set base directory\n"
   ]
  },
  {
   "cell_type": "code",
   "execution_count": 4,
   "metadata": {},
   "outputs": [
    {
     "name": "stdout",
     "output_type": "stream",
     "text": [
      "base_dir e:\\Python Projects\\GaussParse\\GaussParse\\notebook\n"
     ]
    }
   ],
   "source": [
    "# current directory\n",
    "base_dir = os.getcwd()\n",
    "print(f\"base_dir {base_dir}\")"
   ]
  },
  {
   "cell_type": "markdown",
   "metadata": {},
   "source": [
    "### Open an excel file\n",
    "\n",
    "**_ `VARS` _**\n",
    "\n",
    "1. excel_file\n",
    "2. sheet_name\n",
    "\n",
    "Sheet1 contains the file path of the Gaussian output file (.log)\n",
    "Sheet2 contains the file path of the Gaussian summary file (.txt)\n"
   ]
  },
  {
   "cell_type": "code",
   "execution_count": 5,
   "metadata": {},
   "outputs": [
    {
     "name": "stdout",
     "output_type": "stream",
     "text": [
      "target_folder D:\\OneDrive\\Project Analysis\\Computational Chemistry\\analysis\\terpens epoxidation\\extract data\\acetone-TS2-data.xlsx\n"
     ]
    },
    {
     "data": {
      "text/html": [
       "<div>\n",
       "<style scoped>\n",
       "    .dataframe tbody tr th:only-of-type {\n",
       "        vertical-align: middle;\n",
       "    }\n",
       "\n",
       "    .dataframe tbody tr th {\n",
       "        vertical-align: top;\n",
       "    }\n",
       "\n",
       "    .dataframe thead th {\n",
       "        text-align: right;\n",
       "    }\n",
       "</style>\n",
       "<table border=\"1\" class=\"dataframe\">\n",
       "  <thead>\n",
       "    <tr style=\"text-align: right;\">\n",
       "      <th></th>\n",
       "      <th>No</th>\n",
       "      <th>Name</th>\n",
       "      <th>src</th>\n",
       "    </tr>\n",
       "  </thead>\n",
       "  <tbody>\n",
       "    <tr>\n",
       "      <th>0</th>\n",
       "      <td>1</td>\n",
       "      <td>TS2-spiro-U1</td>\n",
       "      <td>D:\\OneDrive\\Project Analysis\\Computational Che...</td>\n",
       "    </tr>\n",
       "    <tr>\n",
       "      <th>1</th>\n",
       "      <td>2</td>\n",
       "      <td>TS2-P-U2</td>\n",
       "      <td>D:\\OneDrive\\Project Analysis\\Computational Che...</td>\n",
       "    </tr>\n",
       "    <tr>\n",
       "      <th>2</th>\n",
       "      <td>3</td>\n",
       "      <td>TS2-P-U1</td>\n",
       "      <td>D:\\OneDrive\\Project Analysis\\Computational Che...</td>\n",
       "    </tr>\n",
       "    <tr>\n",
       "      <th>3</th>\n",
       "      <td>4</td>\n",
       "      <td>TS2-planar</td>\n",
       "      <td>D:\\OneDrive\\Project Analysis\\Computational Che...</td>\n",
       "    </tr>\n",
       "    <tr>\n",
       "      <th>4</th>\n",
       "      <td>5</td>\n",
       "      <td>TS2-P-B1</td>\n",
       "      <td>D:\\OneDrive\\Project Analysis\\Computational Che...</td>\n",
       "    </tr>\n",
       "    <tr>\n",
       "      <th>5</th>\n",
       "      <td>6</td>\n",
       "      <td>TS2-P-B2</td>\n",
       "      <td>D:\\OneDrive\\Project Analysis\\Computational Che...</td>\n",
       "    </tr>\n",
       "    <tr>\n",
       "      <th>6</th>\n",
       "      <td>7</td>\n",
       "      <td>TS2-spiro-B1</td>\n",
       "      <td>D:\\OneDrive\\Project Analysis\\Computational Che...</td>\n",
       "    </tr>\n",
       "    <tr>\n",
       "      <th>7</th>\n",
       "      <td>8</td>\n",
       "      <td>TS2-spiro-B2</td>\n",
       "      <td>D:\\OneDrive\\Project Analysis\\Computational Che...</td>\n",
       "    </tr>\n",
       "  </tbody>\n",
       "</table>\n",
       "</div>"
      ],
      "text/plain": [
       "   No          Name                                                src\n",
       "0   1  TS2-spiro-U1  D:\\OneDrive\\Project Analysis\\Computational Che...\n",
       "1   2      TS2-P-U2  D:\\OneDrive\\Project Analysis\\Computational Che...\n",
       "2   3      TS2-P-U1  D:\\OneDrive\\Project Analysis\\Computational Che...\n",
       "3   4    TS2-planar  D:\\OneDrive\\Project Analysis\\Computational Che...\n",
       "4   5      TS2-P-B1  D:\\OneDrive\\Project Analysis\\Computational Che...\n",
       "5   6      TS2-P-B2  D:\\OneDrive\\Project Analysis\\Computational Che...\n",
       "6   7  TS2-spiro-B1  D:\\OneDrive\\Project Analysis\\Computational Che...\n",
       "7   8  TS2-spiro-B2  D:\\OneDrive\\Project Analysis\\Computational Che..."
      ]
     },
     "execution_count": 5,
     "metadata": {},
     "output_type": "execute_result"
    }
   ],
   "source": [
    "# excel file\n",
    "excel_file = 'acetone-TS2-data.xlsx'\n",
    "excel_file_external_path = \"D:\\\\OneDrive\\\\Project Analysis\\\\Computational Chemistry\\\\analysis\\\\terpens epoxidation\\\\extract data\"\n",
    "# target folder\n",
    "target_folder = os.path.join(excel_file_external_path, excel_file)\n",
    "\n",
    "print(f\"target_folder {target_folder}\")\n",
    "\n",
    "# load excel file\n",
    "df = pd.read_excel(target_folder, sheet_name=\"Sheet2\")\n",
    "df"
   ]
  },
  {
   "cell_type": "code",
   "execution_count": null,
   "metadata": {},
   "outputs": [],
   "source": [
    "# # excel file\n",
    "# excel_file = 'acetone-limonene-mechanism-1.xlsx'\n",
    "# # excel folder\n",
    "# excel_folder = 'data'\n",
    "# # target folder\n",
    "# target_folder = os.path.join(base_dir, excel_folder, excel_file)\n",
    "\n",
    "# # load excel file\n",
    "# df = pd.read_excel(target_folder, sheet_name=\"Sheet1\")\n",
    "\n",
    "# df"
   ]
  },
  {
   "cell_type": "markdown",
   "metadata": {},
   "source": [
    "### Store data in a list\n"
   ]
  },
  {
   "cell_type": "code",
   "execution_count": 6,
   "metadata": {},
   "outputs": [
    {
     "data": {
      "text/plain": [
       "[[1,\n",
       "  'TS2-spiro-U1',\n",
       "  'D:\\\\OneDrive\\\\Project Analysis\\\\Computational Chemistry\\\\models\\\\terpens epoxidation\\\\limonene-dmdo\\\\mechanism 1\\\\step 2\\\\qst3-1\\\\plannar\\\\res 2\\\\lg bs-solvent\\\\mod str 2\\\\res 1\\\\mod str\\\\res 1\\\\mod str\\\\res 1\\\\g09_exp.txt'],\n",
       " [2,\n",
       "  'TS2-P-U2',\n",
       "  'D:\\\\OneDrive\\\\Project Analysis\\\\Computational Chemistry\\\\models\\\\terpens epoxidation\\\\limonene-dmdo\\\\mechanism 1\\\\step 2\\\\qst3-1\\\\plannar\\\\res 2\\\\lg bs-solvent\\\\mod str 2\\\\res 1\\\\mod str\\\\res 1\\\\g09_exp.txt'],\n",
       " [3,\n",
       "  'TS2-P-U1',\n",
       "  'D:\\\\OneDrive\\\\Project Analysis\\\\Computational Chemistry\\\\models\\\\terpens epoxidation\\\\limonene-dmdo\\\\mechanism 1\\\\step 2\\\\qst3-1\\\\plannar\\\\res 2\\\\lg bs-solvent\\\\mod str 2\\\\res 1\\\\g09_exp.txt'],\n",
       " [4,\n",
       "  'TS2-planar',\n",
       "  'D:\\\\OneDrive\\\\Project Analysis\\\\Computational Chemistry\\\\models\\\\terpens epoxidation\\\\limonene-dmdo\\\\mechanism 1\\\\step 2\\\\qst3-1\\\\plannar\\\\res 2\\\\lg bs-solvent\\\\g09_exp.txt'],\n",
       " [5,\n",
       "  'TS2-P-B1',\n",
       "  'D:\\\\OneDrive\\\\Project Analysis\\\\Computational Chemistry\\\\models\\\\terpens epoxidation\\\\limonene-dmdo\\\\mechanism 1\\\\step 2\\\\qst3-1\\\\plannar\\\\res 2\\\\lg bs-solvent\\\\mod str\\\\res 1\\\\g09_exp.txt'],\n",
       " [6,\n",
       "  'TS2-P-B2',\n",
       "  'D:\\\\OneDrive\\\\Project Analysis\\\\Computational Chemistry\\\\models\\\\terpens epoxidation\\\\limonene-dmdo\\\\mechanism 1\\\\step 2\\\\qst3-1\\\\plannar\\\\res 2\\\\lg bs-solvent\\\\mod str\\\\res 1\\\\mod str\\\\res 1\\\\g09_exp.txt'],\n",
       " [7,\n",
       "  'TS2-spiro-B1',\n",
       "  'D:\\\\OneDrive\\\\Project Analysis\\\\Computational Chemistry\\\\models\\\\terpens epoxidation\\\\limonene-dmdo\\\\mechanism 1\\\\step 2\\\\qst3-1\\\\plannar\\\\res 2\\\\lg bs-solvent\\\\mod str\\\\res 1\\\\mod str\\\\res 1\\\\mod str\\\\res 1\\\\g09_exp.txt'],\n",
       " [8,\n",
       "  'TS2-spiro-B2',\n",
       "  'D:\\\\OneDrive\\\\Project Analysis\\\\Computational Chemistry\\\\models\\\\terpens epoxidation\\\\limonene-dmdo\\\\mechanism 1\\\\step 2\\\\qst3-1\\\\solvent-acetone\\\\nodownhill\\\\res 1\\\\g09_exp.txt']]"
      ]
     },
     "execution_count": 6,
     "metadata": {},
     "output_type": "execute_result"
    }
   ],
   "source": [
    "df_list = df.values.tolist()\n",
    "df_list"
   ]
  },
  {
   "cell_type": "code",
   "execution_count": 7,
   "metadata": {},
   "outputs": [
    {
     "name": "stdout",
     "output_type": "stream",
     "text": [
      "D:\\OneDrive\\Project Analysis\\Computational Chemistry\\models\\terpens epoxidation\\limonene-dmdo\\mechanism 1\\step 2\\qst3-1\\plannar\\res 2\\lg bs-solvent\\mod str 2\\res 1\\mod str\\res 1\\mod str\\res 1\\g09_exp.txt\n",
      "D:\\OneDrive\\Project Analysis\\Computational Chemistry\\models\\terpens epoxidation\\limonene-dmdo\\mechanism 1\\step 2\\qst3-1\\plannar\\res 2\\lg bs-solvent\\mod str 2\\res 1\\mod str\\res 1\\g09_exp.txt\n",
      "D:\\OneDrive\\Project Analysis\\Computational Chemistry\\models\\terpens epoxidation\\limonene-dmdo\\mechanism 1\\step 2\\qst3-1\\plannar\\res 2\\lg bs-solvent\\mod str 2\\res 1\\g09_exp.txt\n",
      "D:\\OneDrive\\Project Analysis\\Computational Chemistry\\models\\terpens epoxidation\\limonene-dmdo\\mechanism 1\\step 2\\qst3-1\\plannar\\res 2\\lg bs-solvent\\g09_exp.txt\n",
      "D:\\OneDrive\\Project Analysis\\Computational Chemistry\\models\\terpens epoxidation\\limonene-dmdo\\mechanism 1\\step 2\\qst3-1\\plannar\\res 2\\lg bs-solvent\\mod str\\res 1\\g09_exp.txt\n",
      "D:\\OneDrive\\Project Analysis\\Computational Chemistry\\models\\terpens epoxidation\\limonene-dmdo\\mechanism 1\\step 2\\qst3-1\\plannar\\res 2\\lg bs-solvent\\mod str\\res 1\\mod str\\res 1\\g09_exp.txt\n",
      "D:\\OneDrive\\Project Analysis\\Computational Chemistry\\models\\terpens epoxidation\\limonene-dmdo\\mechanism 1\\step 2\\qst3-1\\plannar\\res 2\\lg bs-solvent\\mod str\\res 1\\mod str\\res 1\\mod str\\res 1\\g09_exp.txt\n",
      "D:\\OneDrive\\Project Analysis\\Computational Chemistry\\models\\terpens epoxidation\\limonene-dmdo\\mechanism 1\\step 2\\qst3-1\\solvent-acetone\\nodownhill\\res 1\\g09_exp.txt\n"
     ]
    }
   ],
   "source": [
    "for r in df_list:\n",
    "    # file no\n",
    "    file_no = r[0]\n",
    "    # file name\n",
    "    file_name = r[1]\n",
    "    # file src\n",
    "    file_src = r[2]\n",
    "\n",
    "    # file dir\n",
    "    file_dir = os.path.join(file_src)\n",
    "    print(file_dir)"
   ]
  },
  {
   "cell_type": "markdown",
   "metadata": {},
   "source": [
    "Check the file exists in that directory\n"
   ]
  },
  {
   "cell_type": "code",
   "execution_count": 8,
   "metadata": {},
   "outputs": [
    {
     "name": "stdout",
     "output_type": "stream",
     "text": [
      "exists *** 1 TS2-spiro-U1 D:\\OneDrive\\Project Analysis\\Computational Chemistry\\models\\terpens epoxidation\\limonene-dmdo\\mechanism 1\\step 2\\qst3-1\\plannar\\res 2\\lg bs-solvent\\mod str 2\\res 1\\mod str\\res 1\\mod str\\res 1\\g09_exp.txt *** \n",
      "exists *** 2 TS2-P-U2 D:\\OneDrive\\Project Analysis\\Computational Chemistry\\models\\terpens epoxidation\\limonene-dmdo\\mechanism 1\\step 2\\qst3-1\\plannar\\res 2\\lg bs-solvent\\mod str 2\\res 1\\mod str\\res 1\\g09_exp.txt *** \n",
      "exists *** 3 TS2-P-U1 D:\\OneDrive\\Project Analysis\\Computational Chemistry\\models\\terpens epoxidation\\limonene-dmdo\\mechanism 1\\step 2\\qst3-1\\plannar\\res 2\\lg bs-solvent\\mod str 2\\res 1\\g09_exp.txt *** \n",
      "exists *** 4 TS2-planar D:\\OneDrive\\Project Analysis\\Computational Chemistry\\models\\terpens epoxidation\\limonene-dmdo\\mechanism 1\\step 2\\qst3-1\\plannar\\res 2\\lg bs-solvent\\g09_exp.txt *** \n",
      "exists *** 5 TS2-P-B1 D:\\OneDrive\\Project Analysis\\Computational Chemistry\\models\\terpens epoxidation\\limonene-dmdo\\mechanism 1\\step 2\\qst3-1\\plannar\\res 2\\lg bs-solvent\\mod str\\res 1\\g09_exp.txt *** \n",
      "exists *** 6 TS2-P-B2 D:\\OneDrive\\Project Analysis\\Computational Chemistry\\models\\terpens epoxidation\\limonene-dmdo\\mechanism 1\\step 2\\qst3-1\\plannar\\res 2\\lg bs-solvent\\mod str\\res 1\\mod str\\res 1\\g09_exp.txt *** \n",
      "exists *** 7 TS2-spiro-B1 D:\\OneDrive\\Project Analysis\\Computational Chemistry\\models\\terpens epoxidation\\limonene-dmdo\\mechanism 1\\step 2\\qst3-1\\plannar\\res 2\\lg bs-solvent\\mod str\\res 1\\mod str\\res 1\\mod str\\res 1\\g09_exp.txt *** \n",
      "exists *** 8 TS2-spiro-B2 D:\\OneDrive\\Project Analysis\\Computational Chemistry\\models\\terpens epoxidation\\limonene-dmdo\\mechanism 1\\step 2\\qst3-1\\solvent-acetone\\nodownhill\\res 1\\g09_exp.txt *** \n"
     ]
    }
   ],
   "source": [
    "for r in df_list:\n",
    "    # file no\n",
    "    file_no = r[0]\n",
    "    # file name\n",
    "    file_name = r[1]\n",
    "    # file src\n",
    "    file_src = (r[2]).strip()\n",
    "\n",
    "    # check file exists\n",
    "    if os.path.isfile(file_src):\n",
    "        print(f\"exists *** {file_no} {file_name} {file_src} *** \")\n",
    "    else:\n",
    "        print(f\"does not exist *** {file_no} {file_name} {file_src} *** \")"
   ]
  },
  {
   "cell_type": "markdown",
   "metadata": {},
   "source": [
    "### Read an example file\n"
   ]
  },
  {
   "cell_type": "code",
   "execution_count": 9,
   "metadata": {},
   "outputs": [
    {
     "name": "stdout",
     "output_type": "stream",
     "text": [
      "D:\\OneDrive\\Project Analysis\\Computational Chemistry\\models\\terpens epoxidation\\limonene-dmdo\\mechanism 1\\step 2\\qst3-1\\plannar\\res 2\\lg bs-solvent\\mod str 2\\res 1\\mod str\\res 1\\mod str\\res 1\\g09_exp.txt\n",
      "file_name_full: Filename = C:/Users/sinag/OneDrive/Project Analysis/Computational Chemistry/models/terpens epoxidation/limonene-dmdo/mechanism 1/step 2/qst3-1/plannar/res 2/lg bs-solvent/mod str 2/res 1/mod str/res 1/mod str/res 1/g09_exp.log\n",
      "\n",
      "Overview Tab Data Section:\n",
      "mod str by vibration\n",
      "C:/Users/sinag/OneDrive/Project Analysis/Computational Chemistry/models/terpens epoxidation/limonene-dmdo/mechanism 1/step 2/qst3-1/plannar/res 2/lg bs-solvent/mod str 2/res 1/mod str/res 1/mod str/res 1/g09_exp.log\n",
      "File Type = .log\n",
      "Calculation Type = FREQ\n",
      "Calculation Method = RM062X\n",
      "Basis Set = 6-311++G(d,p)\n",
      "Charge = 0\n",
      "Spin = Singlet\n",
      "Solvation = scrf=solvent=acetone\n",
      "E(RM062X) = -734.00803 Hartree\n",
      "RMS Gradient Norm = 0.00025571 Hartree/Bohr\n",
      "Imaginary Freq = 1\n",
      "Dipole Moment = 8.7516997 Debye\n",
      "Polarizability (?) = 243.23033 a.u.\n",
      "Point Group = C1\n",
      "Job cpu time:       0 days 14 hours 59 minutes  6.4 seconds.\n",
      "\n",
      "Thermo Tab Data Section:\n",
      "Imaginary Freq = 1\n",
      "Temperature = 298.15 Kelvin\n",
      "Pressure = 1 atm\n",
      "Frequencies scaled by = 1\n",
      "Electronic Energy (EE) = -734.00803 Hartree\n",
      "Zero-point Energy Correction = 0.330792 Hartree\n",
      "Thermal Correction to Energy = 0.34827 Hartree\n",
      "Thermal Correction to Enthalpy = 0.349214 Hartree\n",
      "Thermal Correction to Free Energy = 0.285725 Hartree\n",
      "EE + Zero-point Energy = -733.67724 Hartree\n",
      "EE + Thermal Energy Correction = -733.65976 Hartree\n",
      "EE + Thermal Enthalpy Correction = -733.65881 Hartree\n",
      "EE + Thermal Free Energy Correction = -733.7223 Hartree\n",
      "E (Thermal) = 218.543 kcal/mol\n",
      "Heat Capacity (Cv) = 67.052 cal/mol-kelvin\n",
      "Entropy (S) = 133.624 cal/mol-kelvin\n",
      "\n",
      "Opt Tab Data Section:\n",
      "Step number = 1\n",
      "Maximum force = 0 Converged\n",
      "RMS force = 0 Converged\n",
      "Maximum displacement = 3.9e-05 Converged\n",
      "RMS displacement = 6e-06 Converged\n",
      "Predicted energy change = -3.091139e-12 Hartree\n",
      "\n"
     ]
    }
   ],
   "source": [
    "# file dir\n",
    "file_test_dir = os.path.join(df_list[0][2])\n",
    "file_test_dir = file_test_dir.strip()\n",
    "print(file_test_dir)\n",
    "\n",
    "with open(file_test_dir, \"r\") as f:\n",
    "    content = f.read()\n",
    "    print(f\"file_name_full: {content}\")"
   ]
  },
  {
   "cell_type": "markdown",
   "metadata": {},
   "source": [
    "### Copy the list to the new folder\n",
    "\n",
    "**_ `destination_folder_name` _**\n"
   ]
  },
  {
   "cell_type": "code",
   "execution_count": 10,
   "metadata": {},
   "outputs": [
    {
     "name": "stdout",
     "output_type": "stream",
     "text": [
      "D:\\OneDrive\\Project Analysis\\Computational Chemistry\\analysis\\terpens epoxidation\\extract data\\acetone-TS2-data\n"
     ]
    }
   ],
   "source": [
    "# method 1\n",
    "# new folder\n",
    "destination_folder_name = excel_file.split(\".\")[0]\n",
    "destination_folder_dir = os.path.join(\n",
    "    excel_file_external_path, destination_folder_name)\n",
    "print(destination_folder_dir)"
   ]
  },
  {
   "cell_type": "markdown",
   "metadata": {},
   "source": [
    "log extension for gaussian output\n",
    "\n",
    "txt extension for summary result\n"
   ]
  },
  {
   "cell_type": "code",
   "execution_count": 11,
   "metadata": {},
   "outputs": [],
   "source": [
    "def copy_files(df_list, destination_folder_dir, file_extension='txt'):\n",
    "    '''\n",
    "    copy all files from the source folder to the destination folder \n",
    "\n",
    "    '''\n",
    "    # check destination folder\n",
    "    if os.path.exists(destination_folder_dir) is False:\n",
    "        os.makedirs(destination_folder_dir, exist_ok=True)\n",
    "\n",
    "    total_files_copied = 0\n",
    "    # copy files\n",
    "    for r in df_list:\n",
    "        # file no\n",
    "        file_no = r[0]\n",
    "        # file name\n",
    "        file_name = r[1]\n",
    "        # file src\n",
    "        file_src = (r[2]).strip()\n",
    "\n",
    "        # file name with extension\n",
    "        file_name_full = file_name + '.' + file_extension\n",
    "\n",
    "        # file dir\n",
    "        source_folder = os.path.dirname(file_src)\n",
    "        # file name (in dir)\n",
    "        source_file_name = os.path.basename(file_src)\n",
    "\n",
    "        # Check if the source folder exists\n",
    "        if os.path.exists(source_folder):\n",
    "            # Copy all files from the source folder to the destination folder\n",
    "            for filename in os.listdir(source_folder):\n",
    "                shutil.copy(os.path.join(source_folder, source_file_name),\n",
    "                            os.path.join(destination_folder_dir, file_name_full))\n",
    "            # update total number of files copied\n",
    "            total_files_copied += 1\n",
    "        else:\n",
    "            print('Source folder does not exist.')\n",
    "\n",
    "    # total number of files copied\n",
    "    print(\n",
    "        f\"total number of files copied: {total_files_copied} of {len(df_list)}\")"
   ]
  },
  {
   "cell_type": "markdown",
   "metadata": {},
   "source": [
    "log for gaussian output files\n",
    "\n",
    "txt for summary result\n"
   ]
  },
  {
   "cell_type": "code",
   "execution_count": 12,
   "metadata": {},
   "outputs": [
    {
     "name": "stdout",
     "output_type": "stream",
     "text": [
      "total number of files copied: 8 of 8\n"
     ]
    }
   ],
   "source": [
    "# test\n",
    "copy_files(df_list, destination_folder_dir, file_extension='txt')"
   ]
  },
  {
   "cell_type": "markdown",
   "metadata": {},
   "source": [
    "# Open a file\n"
   ]
  },
  {
   "cell_type": "code",
   "execution_count": 13,
   "metadata": {},
   "outputs": [],
   "source": [
    "# for each row in the dataframe\n",
    "def open_files(df_list, destination_folder_dir, file_id):\n",
    "    # find record in df with file_id\n",
    "    r = df_list[file_id]\n",
    "\n",
    "    # file no\n",
    "    file_no = r[0]\n",
    "    # file name\n",
    "    file_name = r[1]\n",
    "    # file src\n",
    "    file_src = (r[2]).strip()\n",
    "\n",
    "    # file name with extension\n",
    "    file_name_full = file_name + '.txt'\n",
    "\n",
    "    # file path\n",
    "    file_path = os.path.join(destination_folder_dir, file_name_full)\n",
    "\n",
    "    # check file exists\n",
    "    if os.path.isfile(file_path):\n",
    "        # open the file and shows the content\n",
    "        with open(file_path, \"r\") as f:\n",
    "            content = f.read()\n",
    "            print(f\"{file_name}: {content}\")\n",
    "    else:\n",
    "        print(f\"does not exist *** {file_no} {file_name} {file_path} *** \")\n",
    "\n",
    "    # number of files\n",
    "    print(len(df_list))\n",
    "    # close the file\n",
    "    f.close()"
   ]
  },
  {
   "cell_type": "code",
   "execution_count": 15,
   "metadata": {},
   "outputs": [
    {
     "name": "stdout",
     "output_type": "stream",
     "text": [
      "TS2-P-U2: Filename = D:/OneDrive/Project Analysis/Computational Chemistry/models/terpens epoxidation/limonene-dmdo/mechanism 1/step 2/qst3-1/plannar/res 2/lg bs-solvent/mod str 2/res 1/mod str/res 1/g09_exp.log\n",
      "\n",
      "Overview Tab Data Section:\n",
      "mod str by vibration (Optimization completed)\n",
      "D:/OneDrive/Project Analysis/Computational Chemistry/models/terpens epoxidation/limonene-dmdo/mechanism 1/step 2/qst3-1/plannar/res 2/lg bs-solvent/mod str 2/res 1/mod str/res 1/g09_exp.log\n",
      "File Type = .log\n",
      "Calculation Type = FREQ\n",
      "Calculation Method = RM062X\n",
      "Basis Set = 6-311++G(d,p)\n",
      "Charge = 0\n",
      "Spin = Singlet\n",
      "Solvation = scrf=solvent=acetone\n",
      "E(RM062X) = -734.00749 Hartree\n",
      "RMS Gradient Norm = 0.000390158 Hartree/Bohr\n",
      "Imaginary Freq = 2\n",
      "Dipole Moment = 8.8397218 Debye\n",
      "Polarizability (?) = 243.91833 a.u.\n",
      "Point Group = C1\n",
      "Job cpu time:       0 days 15 hours 11 minutes 38.9 seconds.\n",
      "\n",
      "Thermo Tab Data Section:\n",
      "Imaginary Freq = 2\n",
      "Temperature = 298.15 Kelvin\n",
      "Pressure = 1 atm\n",
      "Frequencies scaled by = 1\n",
      "Electronic Energy (EE) = -734.00749 Hartree\n",
      "Zero-point Energy Correction = 0.330665 Hartree\n",
      "Thermal Correction to Energy = 0.347283 Hartree\n",
      "Thermal Correction to Enthalpy = 0.348227 Hartree\n",
      "Thermal Correction to Free Energy = 0.287403 Hartree\n",
      "EE + Zero-point Energy = -733.67683 Hartree\n",
      "EE + Thermal Energy Correction = -733.66021 Hartree\n",
      "EE + Thermal Enthalpy Correction = -733.65927 Hartree\n",
      "EE + Thermal Free Energy Correction = -733.72009 Hartree\n",
      "E (Thermal) = 217.923 kcal/mol\n",
      "Heat Capacity (Cv) = 65.09 cal/mol-kelvin\n",
      "Entropy (S) = 128.014 cal/mol-kelvin\n",
      "\n",
      "Opt Tab Data Section:\n",
      "Step number = 1\n",
      "Maximum force = 0 Converged\n",
      "RMS force = 0 Converged\n",
      "Maximum displacement = 2.1e-05 Converged\n",
      "RMS displacement = 3e-06 Converged\n",
      "Predicted energy change = -1.038533e-12 Hartree\n",
      "\n",
      "8\n"
     ]
    }
   ],
   "source": [
    "open_files(df_list, destination_folder_dir, 1)"
   ]
  },
  {
   "cell_type": "markdown",
   "metadata": {},
   "source": [
    "# Old version\n"
   ]
  },
  {
   "cell_type": "code",
   "execution_count": null,
   "metadata": {},
   "outputs": [],
   "source": [
    "# new folder\n",
    "destination_folder_name = 'data\\\\isolate-gas'\n",
    "destination_folder_dir = os.path.join(base_dir, destination_folder_name)\n",
    "\n",
    "# check destination folder\n",
    "if os.path.exists(destination_folder_dir) is False:\n",
    "    os.makedirs(destination_folder_dir, exist_ok=True)\n",
    "\n",
    "for r in df_list:\n",
    "    # file no\n",
    "    file_no = r[0]\n",
    "    # file name\n",
    "    file_name = r[1]\n",
    "    # file src\n",
    "    file_src = (r[2]).strip()\n",
    "\n",
    "    # file name with extension\n",
    "    file_name_full = file_name + '.log'\n",
    "\n",
    "    # file dir\n",
    "    source_folder = os.path.dirname(file_src)\n",
    "    # file name (in dir)\n",
    "    source_file_name = os.path.basename(file_src)\n",
    "\n",
    "    # Check if the source folder exists\n",
    "    if os.path.exists(source_folder):\n",
    "        # Copy all files from the source folder to the destination folder\n",
    "        for filename in os.listdir(source_folder):\n",
    "            shutil.copy(os.path.join(source_folder, source_file_name),\n",
    "                        os.path.join(destination_folder_dir, file_name_full))\n",
    "    else:\n",
    "        print('Source folder does not exist.')"
   ]
  }
 ],
 "metadata": {
  "kernelspec": {
   "display_name": "venv",
   "language": "python",
   "name": "python3"
  },
  "language_info": {
   "codemirror_mode": {
    "name": "ipython",
    "version": 3
   },
   "file_extension": ".py",
   "mimetype": "text/x-python",
   "name": "python",
   "nbconvert_exporter": "python",
   "pygments_lexer": "ipython3",
   "version": "3.9.5"
  }
 },
 "nbformat": 4,
 "nbformat_minor": 2
}
