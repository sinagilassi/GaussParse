{
 "cells": [
  {
   "cell_type": "markdown",
   "metadata": {},
   "source": [
    "# Packages\n"
   ]
  },
  {
   "cell_type": "code",
   "execution_count": 2,
   "metadata": {},
   "outputs": [
    {
     "name": "stdout",
     "output_type": "stream",
     "text": [
      "Python 3.9.5\n"
     ]
    }
   ],
   "source": [
    "!python --version"
   ]
  },
  {
   "cell_type": "code",
   "execution_count": 3,
   "metadata": {},
   "outputs": [
    {
     "name": "stdout",
     "output_type": "stream",
     "text": [
      "pip 24.0 from E:\\Python Projects\\GaussParse\\venv\\lib\\site-packages\\pip (python 3.9)\n",
      "\n"
     ]
    }
   ],
   "source": [
    "!pip --version"
   ]
  },
  {
   "cell_type": "code",
   "execution_count": 2,
   "metadata": {},
   "outputs": [],
   "source": [
    "# import packages/modules\n",
    "import numpy as np\n",
    "# import matplotlib.pyplot as plt\n",
    "import pandas as pd\n",
    "import os\n",
    "import re\n",
    "import csv\n",
    "# added\n",
    "import shutil"
   ]
  },
  {
   "cell_type": "markdown",
   "metadata": {},
   "source": [
    "### Set base directory\n"
   ]
  },
  {
   "cell_type": "code",
   "execution_count": 3,
   "metadata": {},
   "outputs": [
    {
     "name": "stdout",
     "output_type": "stream",
     "text": [
      "base_dir e:\\Python Projects\\GaussParse\\GaussParse\\notebook\n"
     ]
    }
   ],
   "source": [
    "# current directory\n",
    "base_dir = os.getcwd()\n",
    "print(f\"base_dir {base_dir}\")"
   ]
  },
  {
   "cell_type": "markdown",
   "metadata": {},
   "source": [
    "### Open an excel file\n",
    "\n",
    "**_ `VARS` _**\n",
    "\n",
    "1. excel_file\n",
    "2. sheet_name\n"
   ]
  },
  {
   "cell_type": "code",
   "execution_count": 4,
   "metadata": {},
   "outputs": [
    {
     "name": "stdout",
     "output_type": "stream",
     "text": [
      "target_folder D:\\OneDrive\\Project Analysis\\Computational Chemistry\\analysis\\terpens epoxidation\\extract data\\acetone-limonene-mechanism-1.xlsx\n"
     ]
    },
    {
     "ename": "PermissionError",
     "evalue": "[Errno 13] Permission denied: 'D:\\\\OneDrive\\\\Project Analysis\\\\Computational Chemistry\\\\analysis\\\\terpens epoxidation\\\\extract data\\\\acetone-limonene-mechanism-1.xlsx'",
     "output_type": "error",
     "traceback": [
      "\u001b[1;31m---------------------------------------------------------------------------\u001b[0m",
      "\u001b[1;31mPermissionError\u001b[0m                           Traceback (most recent call last)",
      "Cell \u001b[1;32mIn[4], line 10\u001b[0m\n\u001b[0;32m      7\u001b[0m \u001b[38;5;28mprint\u001b[39m(\u001b[38;5;124mf\u001b[39m\u001b[38;5;124m\"\u001b[39m\u001b[38;5;124mtarget_folder \u001b[39m\u001b[38;5;132;01m{\u001b[39;00mtarget_folder\u001b[38;5;132;01m}\u001b[39;00m\u001b[38;5;124m\"\u001b[39m)\n\u001b[0;32m      9\u001b[0m \u001b[38;5;66;03m# load excel file\u001b[39;00m\n\u001b[1;32m---> 10\u001b[0m df \u001b[38;5;241m=\u001b[39m \u001b[43mpd\u001b[49m\u001b[38;5;241;43m.\u001b[39;49m\u001b[43mread_excel\u001b[49m\u001b[43m(\u001b[49m\u001b[43mtarget_folder\u001b[49m\u001b[43m,\u001b[49m\u001b[43m \u001b[49m\u001b[43msheet_name\u001b[49m\u001b[38;5;241;43m=\u001b[39;49m\u001b[38;5;124;43m\"\u001b[39;49m\u001b[38;5;124;43mSheet2\u001b[39;49m\u001b[38;5;124;43m\"\u001b[39;49m\u001b[43m)\u001b[49m\n\u001b[0;32m     11\u001b[0m df\n",
      "File \u001b[1;32me:\\Python Projects\\GaussParse\\venv\\lib\\site-packages\\pandas\\io\\excel\\_base.py:495\u001b[0m, in \u001b[0;36mread_excel\u001b[1;34m(io, sheet_name, header, names, index_col, usecols, dtype, engine, converters, true_values, false_values, skiprows, nrows, na_values, keep_default_na, na_filter, verbose, parse_dates, date_parser, date_format, thousands, decimal, comment, skipfooter, storage_options, dtype_backend, engine_kwargs)\u001b[0m\n\u001b[0;32m    493\u001b[0m \u001b[38;5;28;01mif\u001b[39;00m \u001b[38;5;129;01mnot\u001b[39;00m \u001b[38;5;28misinstance\u001b[39m(io, ExcelFile):\n\u001b[0;32m    494\u001b[0m     should_close \u001b[38;5;241m=\u001b[39m \u001b[38;5;28;01mTrue\u001b[39;00m\n\u001b[1;32m--> 495\u001b[0m     io \u001b[38;5;241m=\u001b[39m \u001b[43mExcelFile\u001b[49m\u001b[43m(\u001b[49m\n\u001b[0;32m    496\u001b[0m \u001b[43m        \u001b[49m\u001b[43mio\u001b[49m\u001b[43m,\u001b[49m\n\u001b[0;32m    497\u001b[0m \u001b[43m        \u001b[49m\u001b[43mstorage_options\u001b[49m\u001b[38;5;241;43m=\u001b[39;49m\u001b[43mstorage_options\u001b[49m\u001b[43m,\u001b[49m\n\u001b[0;32m    498\u001b[0m \u001b[43m        \u001b[49m\u001b[43mengine\u001b[49m\u001b[38;5;241;43m=\u001b[39;49m\u001b[43mengine\u001b[49m\u001b[43m,\u001b[49m\n\u001b[0;32m    499\u001b[0m \u001b[43m        \u001b[49m\u001b[43mengine_kwargs\u001b[49m\u001b[38;5;241;43m=\u001b[39;49m\u001b[43mengine_kwargs\u001b[49m\u001b[43m,\u001b[49m\n\u001b[0;32m    500\u001b[0m \u001b[43m    \u001b[49m\u001b[43m)\u001b[49m\n\u001b[0;32m    501\u001b[0m \u001b[38;5;28;01melif\u001b[39;00m engine \u001b[38;5;129;01mand\u001b[39;00m engine \u001b[38;5;241m!=\u001b[39m io\u001b[38;5;241m.\u001b[39mengine:\n\u001b[0;32m    502\u001b[0m     \u001b[38;5;28;01mraise\u001b[39;00m \u001b[38;5;167;01mValueError\u001b[39;00m(\n\u001b[0;32m    503\u001b[0m         \u001b[38;5;124m\"\u001b[39m\u001b[38;5;124mEngine should not be specified when passing \u001b[39m\u001b[38;5;124m\"\u001b[39m\n\u001b[0;32m    504\u001b[0m         \u001b[38;5;124m\"\u001b[39m\u001b[38;5;124man ExcelFile - ExcelFile already has the engine set\u001b[39m\u001b[38;5;124m\"\u001b[39m\n\u001b[0;32m    505\u001b[0m     )\n",
      "File \u001b[1;32me:\\Python Projects\\GaussParse\\venv\\lib\\site-packages\\pandas\\io\\excel\\_base.py:1550\u001b[0m, in \u001b[0;36mExcelFile.__init__\u001b[1;34m(self, path_or_buffer, engine, storage_options, engine_kwargs)\u001b[0m\n\u001b[0;32m   1548\u001b[0m     ext \u001b[38;5;241m=\u001b[39m \u001b[38;5;124m\"\u001b[39m\u001b[38;5;124mxls\u001b[39m\u001b[38;5;124m\"\u001b[39m\n\u001b[0;32m   1549\u001b[0m \u001b[38;5;28;01melse\u001b[39;00m:\n\u001b[1;32m-> 1550\u001b[0m     ext \u001b[38;5;241m=\u001b[39m \u001b[43minspect_excel_format\u001b[49m\u001b[43m(\u001b[49m\n\u001b[0;32m   1551\u001b[0m \u001b[43m        \u001b[49m\u001b[43mcontent_or_path\u001b[49m\u001b[38;5;241;43m=\u001b[39;49m\u001b[43mpath_or_buffer\u001b[49m\u001b[43m,\u001b[49m\u001b[43m \u001b[49m\u001b[43mstorage_options\u001b[49m\u001b[38;5;241;43m=\u001b[39;49m\u001b[43mstorage_options\u001b[49m\n\u001b[0;32m   1552\u001b[0m \u001b[43m    \u001b[49m\u001b[43m)\u001b[49m\n\u001b[0;32m   1553\u001b[0m     \u001b[38;5;28;01mif\u001b[39;00m ext \u001b[38;5;129;01mis\u001b[39;00m \u001b[38;5;28;01mNone\u001b[39;00m:\n\u001b[0;32m   1554\u001b[0m         \u001b[38;5;28;01mraise\u001b[39;00m \u001b[38;5;167;01mValueError\u001b[39;00m(\n\u001b[0;32m   1555\u001b[0m             \u001b[38;5;124m\"\u001b[39m\u001b[38;5;124mExcel file format cannot be determined, you must specify \u001b[39m\u001b[38;5;124m\"\u001b[39m\n\u001b[0;32m   1556\u001b[0m             \u001b[38;5;124m\"\u001b[39m\u001b[38;5;124man engine manually.\u001b[39m\u001b[38;5;124m\"\u001b[39m\n\u001b[0;32m   1557\u001b[0m         )\n",
      "File \u001b[1;32me:\\Python Projects\\GaussParse\\venv\\lib\\site-packages\\pandas\\io\\excel\\_base.py:1402\u001b[0m, in \u001b[0;36minspect_excel_format\u001b[1;34m(content_or_path, storage_options)\u001b[0m\n\u001b[0;32m   1399\u001b[0m \u001b[38;5;28;01mif\u001b[39;00m \u001b[38;5;28misinstance\u001b[39m(content_or_path, \u001b[38;5;28mbytes\u001b[39m):\n\u001b[0;32m   1400\u001b[0m     content_or_path \u001b[38;5;241m=\u001b[39m BytesIO(content_or_path)\n\u001b[1;32m-> 1402\u001b[0m \u001b[38;5;28;01mwith\u001b[39;00m \u001b[43mget_handle\u001b[49m\u001b[43m(\u001b[49m\n\u001b[0;32m   1403\u001b[0m \u001b[43m    \u001b[49m\u001b[43mcontent_or_path\u001b[49m\u001b[43m,\u001b[49m\u001b[43m \u001b[49m\u001b[38;5;124;43m\"\u001b[39;49m\u001b[38;5;124;43mrb\u001b[39;49m\u001b[38;5;124;43m\"\u001b[39;49m\u001b[43m,\u001b[49m\u001b[43m \u001b[49m\u001b[43mstorage_options\u001b[49m\u001b[38;5;241;43m=\u001b[39;49m\u001b[43mstorage_options\u001b[49m\u001b[43m,\u001b[49m\u001b[43m \u001b[49m\u001b[43mis_text\u001b[49m\u001b[38;5;241;43m=\u001b[39;49m\u001b[38;5;28;43;01mFalse\u001b[39;49;00m\n\u001b[0;32m   1404\u001b[0m \u001b[43m\u001b[49m\u001b[43m)\u001b[49m \u001b[38;5;28;01mas\u001b[39;00m handle:\n\u001b[0;32m   1405\u001b[0m     stream \u001b[38;5;241m=\u001b[39m handle\u001b[38;5;241m.\u001b[39mhandle\n\u001b[0;32m   1406\u001b[0m     stream\u001b[38;5;241m.\u001b[39mseek(\u001b[38;5;241m0\u001b[39m)\n",
      "File \u001b[1;32me:\\Python Projects\\GaussParse\\venv\\lib\\site-packages\\pandas\\io\\common.py:882\u001b[0m, in \u001b[0;36mget_handle\u001b[1;34m(path_or_buf, mode, encoding, compression, memory_map, is_text, errors, storage_options)\u001b[0m\n\u001b[0;32m    873\u001b[0m         handle \u001b[38;5;241m=\u001b[39m \u001b[38;5;28mopen\u001b[39m(\n\u001b[0;32m    874\u001b[0m             handle,\n\u001b[0;32m    875\u001b[0m             ioargs\u001b[38;5;241m.\u001b[39mmode,\n\u001b[1;32m   (...)\u001b[0m\n\u001b[0;32m    878\u001b[0m             newline\u001b[38;5;241m=\u001b[39m\u001b[38;5;124m\"\u001b[39m\u001b[38;5;124m\"\u001b[39m,\n\u001b[0;32m    879\u001b[0m         )\n\u001b[0;32m    880\u001b[0m     \u001b[38;5;28;01melse\u001b[39;00m:\n\u001b[0;32m    881\u001b[0m         \u001b[38;5;66;03m# Binary mode\u001b[39;00m\n\u001b[1;32m--> 882\u001b[0m         handle \u001b[38;5;241m=\u001b[39m \u001b[38;5;28;43mopen\u001b[39;49m\u001b[43m(\u001b[49m\u001b[43mhandle\u001b[49m\u001b[43m,\u001b[49m\u001b[43m \u001b[49m\u001b[43mioargs\u001b[49m\u001b[38;5;241;43m.\u001b[39;49m\u001b[43mmode\u001b[49m\u001b[43m)\u001b[49m\n\u001b[0;32m    883\u001b[0m     handles\u001b[38;5;241m.\u001b[39mappend(handle)\n\u001b[0;32m    885\u001b[0m \u001b[38;5;66;03m# Convert BytesIO or file objects passed with an encoding\u001b[39;00m\n",
      "\u001b[1;31mPermissionError\u001b[0m: [Errno 13] Permission denied: 'D:\\\\OneDrive\\\\Project Analysis\\\\Computational Chemistry\\\\analysis\\\\terpens epoxidation\\\\extract data\\\\acetone-limonene-mechanism-1.xlsx'"
     ]
    }
   ],
   "source": [
    "# excel file\n",
    "excel_file = 'acetone-limonene-mechanism-1.xlsx'\n",
    "excel_file_external_path = \"D:\\\\OneDrive\\\\Project Analysis\\\\Computational Chemistry\\\\analysis\\\\terpens epoxidation\\\\extract data\"\n",
    "# target folder\n",
    "target_folder = os.path.join(excel_file_external_path, excel_file)\n",
    "\n",
    "print(f\"target_folder {target_folder}\")\n",
    "\n",
    "# load excel file\n",
    "df = pd.read_excel(target_folder, sheet_name=\"Sheet1\")\n",
    "df"
   ]
  },
  {
   "cell_type": "code",
   "execution_count": 20,
   "metadata": {},
   "outputs": [],
   "source": [
    "# # excel file\n",
    "# excel_file = 'acetone-limonene-mechanism-1.xlsx'\n",
    "# # excel folder\n",
    "# excel_folder = 'data'\n",
    "# # target folder\n",
    "# target_folder = os.path.join(base_dir, excel_folder, excel_file)\n",
    "\n",
    "# # load excel file\n",
    "# df = pd.read_excel(target_folder, sheet_name=\"Sheet1\")\n",
    "\n",
    "# df"
   ]
  },
  {
   "cell_type": "markdown",
   "metadata": {},
   "source": [
    "### Store data in a list\n"
   ]
  },
  {
   "cell_type": "code",
   "execution_count": 42,
   "metadata": {},
   "outputs": [
    {
     "data": {
      "text/plain": [
       "[[1,\n",
       "  'RC1',\n",
       "  'D:\\\\OneDrive\\\\Project Analysis\\\\Computational Chemistry\\\\models\\\\terpens epoxidation\\\\limonene-dmdo\\\\mechanism 2\\\\step 1\\\\qst3\\\\res 1\\\\tight\\\\res 1\\\\solvent-acetone\\\\qst3\\\\res 1\\\\lg bs\\\\res 1\\\\irc\\\\res 1\\\\reactants\\\\res 1\\\\g09_exp.txt'],\n",
       " [2,\n",
       "  'TS1-cis',\n",
       "  'D:\\\\OneDrive\\\\Project Analysis\\\\Computational Chemistry\\\\models\\\\terpens epoxidation\\\\limonene-dmdo\\\\mechanism 2\\\\step 1\\\\qst3\\\\res 1\\\\tight\\\\res 1\\\\solvent-acetone\\\\qst3\\\\res 1\\\\lg bs\\\\res 1\\\\g09_exp.txt'],\n",
       " [3,\n",
       "  'PC1',\n",
       "  'D:\\\\OneDrive\\\\Project Analysis\\\\Computational Chemistry\\\\models\\\\terpens epoxidation\\\\limonene-dmdo\\\\mechanism 2\\\\step 1\\\\qst3\\\\res 1\\\\tight\\\\res 1\\\\solvent-acetone\\\\qst3\\\\res 1\\\\lg bs\\\\res 1\\\\irc\\\\res 1\\\\products\\\\res 1\\\\g09_exp.txt'],\n",
       " [4,\n",
       "  '1,2LO',\n",
       "  'D:\\\\OneDrive\\\\Project Analysis\\\\Computational Chemistry\\\\models\\\\terpens epoxidation\\\\limonene-dmdo\\\\mechanism 2\\\\step 1\\\\qst3\\\\res 1\\\\tight\\\\res 1\\\\irc\\\\res 1\\\\1,2 LO\\\\res 1\\\\link\\\\res 1\\\\solvent\\\\res 1\\\\g09_exp.txt'],\n",
       " [5,\n",
       "  'RC2-1',\n",
       "  'D:\\\\OneDrive\\\\Project Analysis\\\\Computational Chemistry\\\\models\\\\terpens epoxidation\\\\limonene-dmdo\\\\mechanism 2\\\\step 2\\\\qst3-1\\\\res 1\\\\tight\\\\res 1\\\\solvent-acetone\\\\qst3\\\\res 1\\\\lg bs\\\\res 1\\\\irc\\\\reactants\\\\res 1\\\\g09_exp.txt'],\n",
       " [6,\n",
       "  'TS2-1',\n",
       "  'D:\\\\OneDrive\\\\Project Analysis\\\\Computational Chemistry\\\\models\\\\terpens epoxidation\\\\limonene-dmdo\\\\mechanism 2\\\\step 2\\\\qst3-1\\\\res 1\\\\tight\\\\res 1\\\\solvent-acetone\\\\qst3\\\\res 1\\\\lg bs\\\\res 1\\\\g09_exp.txt'],\n",
       " [7,\n",
       "  'PC2-1',\n",
       "  'D:\\\\OneDrive\\\\Project Analysis\\\\Computational Chemistry\\\\models\\\\terpens epoxidation\\\\limonene-dmdo\\\\mechanism 2\\\\step 2\\\\qst3-1\\\\res 1\\\\tight\\\\res 1\\\\solvent-acetone\\\\qst3\\\\res 1\\\\lg bs\\\\res 1\\\\irc\\\\products\\\\res 1\\\\g09_exp.txt'],\n",
       " [8,\n",
       "  'LDO-1',\n",
       "  'D:\\\\OneDrive\\\\Project Analysis\\\\Computational Chemistry\\\\models\\\\terpens epoxidation\\\\limonene-dmdo\\\\mechanism 2\\\\step 2\\\\qst3-1\\\\res 1\\\\tight\\\\res 1\\\\irc\\\\res 1\\\\LDO\\\\solvent-acetone\\\\res 1\\\\g09_exp.txt'],\n",
       " [9,\n",
       "  'RC2-2',\n",
       "  'D:\\\\OneDrive\\\\Project Analysis\\\\Computational Chemistry\\\\models\\\\terpens epoxidation\\\\limonene-dmdo\\\\mechanism 2\\\\step 2\\\\qst3-2\\\\res 1\\\\tight\\\\res 1\\\\solvent-acetone\\\\qst3\\\\res 1\\\\lg bs\\\\res 1\\\\irc\\\\res 1\\\\reactants\\\\res 1\\\\g09_exp.txt'],\n",
       " [10,\n",
       "  'TS2-2',\n",
       "  'D:\\\\OneDrive\\\\Project Analysis\\\\Computational Chemistry\\\\models\\\\terpens epoxidation\\\\limonene-dmdo\\\\mechanism 2\\\\step 2\\\\qst3-2\\\\res 1\\\\tight\\\\res 1\\\\solvent-acetone\\\\qst3\\\\res 1\\\\lg bs\\\\res 1\\\\g09_exp.txt'],\n",
       " [11,\n",
       "  'PC2-2',\n",
       "  'D:\\\\OneDrive\\\\Project Analysis\\\\Computational Chemistry\\\\models\\\\terpens epoxidation\\\\limonene-dmdo\\\\mechanism 2\\\\step 2\\\\qst3-2\\\\res 1\\\\tight\\\\res 1\\\\solvent-acetone\\\\qst3\\\\res 1\\\\lg bs\\\\res 1\\\\irc\\\\res 1\\\\products\\\\res 1\\\\g09_exp.txt'],\n",
       " [12,\n",
       "  'LDO-2',\n",
       "  'D:\\\\OneDrive\\\\Project Analysis\\\\Computational Chemistry\\\\models\\\\terpens epoxidation\\\\limonene-dmdo\\\\mechanism 2\\\\step 2\\\\qst3-2\\\\res 1\\\\tight\\\\res 1\\\\irc\\\\res 1\\\\LDO\\\\solvent-acetone\\\\res 1\\\\g09_exp.txt']]"
      ]
     },
     "execution_count": 42,
     "metadata": {},
     "output_type": "execute_result"
    }
   ],
   "source": [
    "df_list = df.values.tolist()\n",
    "df_list"
   ]
  },
  {
   "cell_type": "code",
   "execution_count": 43,
   "metadata": {},
   "outputs": [
    {
     "name": "stdout",
     "output_type": "stream",
     "text": [
      "D:\\OneDrive\\Project Analysis\\Computational Chemistry\\models\\terpens epoxidation\\limonene-dmdo\\mechanism 2\\step 1\\qst3\\res 1\\tight\\res 1\\solvent-acetone\\qst3\\res 1\\lg bs\\res 1\\irc\\res 1\\reactants\\res 1\\g09_exp.txt\n",
      "D:\\OneDrive\\Project Analysis\\Computational Chemistry\\models\\terpens epoxidation\\limonene-dmdo\\mechanism 2\\step 1\\qst3\\res 1\\tight\\res 1\\solvent-acetone\\qst3\\res 1\\lg bs\\res 1\\g09_exp.txt\n",
      "D:\\OneDrive\\Project Analysis\\Computational Chemistry\\models\\terpens epoxidation\\limonene-dmdo\\mechanism 2\\step 1\\qst3\\res 1\\tight\\res 1\\solvent-acetone\\qst3\\res 1\\lg bs\\res 1\\irc\\res 1\\products\\res 1\\g09_exp.txt\n",
      "D:\\OneDrive\\Project Analysis\\Computational Chemistry\\models\\terpens epoxidation\\limonene-dmdo\\mechanism 2\\step 1\\qst3\\res 1\\tight\\res 1\\irc\\res 1\\1,2 LO\\res 1\\link\\res 1\\solvent\\res 1\\g09_exp.txt\n",
      "D:\\OneDrive\\Project Analysis\\Computational Chemistry\\models\\terpens epoxidation\\limonene-dmdo\\mechanism 2\\step 2\\qst3-1\\res 1\\tight\\res 1\\solvent-acetone\\qst3\\res 1\\lg bs\\res 1\\irc\\reactants\\res 1\\g09_exp.txt\n",
      "D:\\OneDrive\\Project Analysis\\Computational Chemistry\\models\\terpens epoxidation\\limonene-dmdo\\mechanism 2\\step 2\\qst3-1\\res 1\\tight\\res 1\\solvent-acetone\\qst3\\res 1\\lg bs\\res 1\\g09_exp.txt\n",
      "D:\\OneDrive\\Project Analysis\\Computational Chemistry\\models\\terpens epoxidation\\limonene-dmdo\\mechanism 2\\step 2\\qst3-1\\res 1\\tight\\res 1\\solvent-acetone\\qst3\\res 1\\lg bs\\res 1\\irc\\products\\res 1\\g09_exp.txt\n",
      "D:\\OneDrive\\Project Analysis\\Computational Chemistry\\models\\terpens epoxidation\\limonene-dmdo\\mechanism 2\\step 2\\qst3-1\\res 1\\tight\\res 1\\irc\\res 1\\LDO\\solvent-acetone\\res 1\\g09_exp.txt\n",
      "D:\\OneDrive\\Project Analysis\\Computational Chemistry\\models\\terpens epoxidation\\limonene-dmdo\\mechanism 2\\step 2\\qst3-2\\res 1\\tight\\res 1\\solvent-acetone\\qst3\\res 1\\lg bs\\res 1\\irc\\res 1\\reactants\\res 1\\g09_exp.txt\n",
      "D:\\OneDrive\\Project Analysis\\Computational Chemistry\\models\\terpens epoxidation\\limonene-dmdo\\mechanism 2\\step 2\\qst3-2\\res 1\\tight\\res 1\\solvent-acetone\\qst3\\res 1\\lg bs\\res 1\\g09_exp.txt\n",
      "D:\\OneDrive\\Project Analysis\\Computational Chemistry\\models\\terpens epoxidation\\limonene-dmdo\\mechanism 2\\step 2\\qst3-2\\res 1\\tight\\res 1\\solvent-acetone\\qst3\\res 1\\lg bs\\res 1\\irc\\res 1\\products\\res 1\\g09_exp.txt\n",
      "D:\\OneDrive\\Project Analysis\\Computational Chemistry\\models\\terpens epoxidation\\limonene-dmdo\\mechanism 2\\step 2\\qst3-2\\res 1\\tight\\res 1\\irc\\res 1\\LDO\\solvent-acetone\\res 1\\g09_exp.txt\n"
     ]
    }
   ],
   "source": [
    "for r in df_list:\n",
    "    # file no\n",
    "    file_no = r[0]\n",
    "    # file name\n",
    "    file_name = r[1]\n",
    "    # file src\n",
    "    file_src = r[2]\n",
    "\n",
    "    # file dir\n",
    "    file_dir = os.path.join(file_src)\n",
    "    print(file_dir)"
   ]
  },
  {
   "cell_type": "markdown",
   "metadata": {},
   "source": [
    "### Read an example file\n"
   ]
  },
  {
   "cell_type": "code",
   "execution_count": 44,
   "metadata": {},
   "outputs": [
    {
     "name": "stdout",
     "output_type": "stream",
     "text": [
      "D:\\OneDrive\\Project Analysis\\Computational Chemistry\\models\\terpens epoxidation\\limonene-dmdo\\mechanism 2\\step 1\\qst3\\res 1\\tight\\res 1\\solvent-acetone\\qst3\\res 1\\lg bs\\res 1\\irc\\res 1\\reactants\\res 1\\g09_exp.txt\n",
      "file_name_full: Filename = D:/OneDrive/Project Analysis/Computational Chemistry/models/terpens epoxidation/limonene-dmdo/mechanism 2/step 1/qst3/res 1/tight/res 1/solvent-acetone/qst3/res 1/lg bs/res 1/irc/res 1/reactants/res 1/g09_exp.log\n",
      "\n",
      "Overview Tab Data Section:\n",
      "final optimization and frequencies analysis (Optimization completed)\n",
      "D:/OneDrive/Project Analysis/Computational Chemistry/models/terpens epoxidation/limonene-dmdo/mechanism 2/step 1/qst3/res 1/tight/res 1/solvent-acetone/qst3/res 1/lg bs/res 1/irc/res 1/reactants/res 1/g09_exp.log\n",
      "File Type = .log\n",
      "Calculation Type = FREQ\n",
      "Calculation Method = RM062X\n",
      "Basis Set = 6-311++G(d,p)\n",
      "Charge = 0\n",
      "Spin = Singlet\n",
      "Solvation = scrf=solvent=acetone\n",
      "E(RM062X) = -658.83343 Hartree\n",
      "RMS Gradient Norm = 2.195e-06 Hartree/Bohr\n",
      "Imaginary Freq = 0\n",
      "Dipole Moment = 3.7106769 Debye\n",
      "Polarizability (?) = 204.074 a.u.\n",
      "Point Group = C1\n",
      "Job cpu time:       0 days  9 hours 22 minutes  1.3 seconds.\n",
      "\n",
      "Thermo Tab Data Section:\n",
      "Imaginary Freq = 0\n",
      "Temperature = 298.15 Kelvin\n",
      "Pressure = 1 atm\n",
      "Frequencies scaled by = 1\n",
      "Electronic Energy (EE) = -658.83343 Hartree\n",
      "Zero-point Energy Correction = 0.326462 Hartree\n",
      "Thermal Correction to Energy = 0.344295 Hartree\n",
      "Thermal Correction to Enthalpy = 0.345239 Hartree\n",
      "Thermal Correction to Free Energy = 0.280047 Hartree\n",
      "EE + Zero-point Energy = -658.50697 Hartree\n",
      "EE + Thermal Energy Correction = -658.48913 Hartree\n",
      "EE + Thermal Enthalpy Correction = -658.48819 Hartree\n",
      "EE + Thermal Free Energy Correction = -658.55338 Hartree\n",
      "E (Thermal) = 216.048 kcal/mol\n",
      "Heat Capacity (Cv) = 66.018 cal/mol-kelvin\n",
      "Entropy (S) = 137.208 cal/mol-kelvin\n",
      "\n",
      "Opt Tab Data Section:\n",
      "Step number = 1\n",
      "Maximum force = 0 Converged\n",
      "RMS force = 0 Converged\n",
      "Maximum displacement = 3.2e-05 Converged\n",
      "RMS displacement = 7e-06 Converged\n",
      "Predicted energy change = -2.092066e-12 Hartree\n",
      "\n"
     ]
    }
   ],
   "source": [
    "# file dir\n",
    "file_test_dir = os.path.join(df_list[0][2])\n",
    "file_test_dir = file_test_dir.strip()\n",
    "print(file_test_dir)\n",
    "\n",
    "with open(file_test_dir, \"r\") as f:\n",
    "    content = f.read()\n",
    "    print(f\"file_name_full: {content}\")"
   ]
  },
  {
   "cell_type": "markdown",
   "metadata": {},
   "source": [
    "### Copy the list to the new folder\n",
    "\n",
    "**_ `destination_folder_name` _**\n"
   ]
  },
  {
   "cell_type": "code",
   "execution_count": 45,
   "metadata": {},
   "outputs": [
    {
     "name": "stdout",
     "output_type": "stream",
     "text": [
      "D:\\OneDrive\\Project Analysis\\Computational Chemistry\\analysis\\terpens epoxidation\\extract data\\acetone-limonene-mechanism-2\n"
     ]
    }
   ],
   "source": [
    "# method 1\n",
    "# new folder\n",
    "destination_folder_name = excel_file.split(\".\")[0]\n",
    "destination_folder_dir = os.path.join(\n",
    "    excel_file_external_path, destination_folder_name)\n",
    "print(destination_folder_dir)"
   ]
  },
  {
   "cell_type": "markdown",
   "metadata": {},
   "source": [
    "log extension for gaussian output\n",
    "\n",
    "txt extension for summary result\n"
   ]
  },
  {
   "cell_type": "code",
   "execution_count": 47,
   "metadata": {},
   "outputs": [],
   "source": [
    "def copy_files(df_list, destination_folder_dir, file_extension='txt'):\n",
    "    '''\n",
    "    copy all files from the source folder to the destination folder \n",
    "\n",
    "    '''\n",
    "    # check destination folder\n",
    "    if os.path.exists(destination_folder_dir) is False:\n",
    "        os.makedirs(destination_folder_dir, exist_ok=True)\n",
    "\n",
    "    for r in df_list:\n",
    "        # file no\n",
    "        file_no = r[0]\n",
    "        # file name\n",
    "        file_name = r[1]\n",
    "        # file src\n",
    "        file_src = (r[2]).strip()\n",
    "\n",
    "        # file name with extension\n",
    "        file_name_full = file_name + '.' + file_extension\n",
    "\n",
    "        # file dir\n",
    "        source_folder = os.path.dirname(file_src)\n",
    "        # file name (in dir)\n",
    "        source_file_name = os.path.basename(file_src)\n",
    "\n",
    "        # Check if the source folder exists\n",
    "        if os.path.exists(source_folder):\n",
    "            # Copy all files from the source folder to the destination folder\n",
    "            for filename in os.listdir(source_folder):\n",
    "                shutil.copy(os.path.join(source_folder, source_file_name),\n",
    "                            os.path.join(destination_folder_dir, file_name_full))\n",
    "        else:\n",
    "            print('Source folder does not exist.')"
   ]
  },
  {
   "cell_type": "markdown",
   "metadata": {},
   "source": [
    "log for gaussian output files\n",
    "\n",
    "txt for summary result\n"
   ]
  },
  {
   "cell_type": "code",
   "execution_count": 48,
   "metadata": {},
   "outputs": [],
   "source": [
    "# test\n",
    "copy_files(df_list, destination_folder_dir, file_extension='txt')"
   ]
  },
  {
   "cell_type": "markdown",
   "metadata": {},
   "source": [
    "# Old version\n"
   ]
  },
  {
   "cell_type": "code",
   "execution_count": null,
   "metadata": {},
   "outputs": [],
   "source": [
    "# new folder\n",
    "destination_folder_name = 'data\\\\isolate-gas'\n",
    "destination_folder_dir = os.path.join(base_dir, destination_folder_name)\n",
    "\n",
    "# check destination folder\n",
    "if os.path.exists(destination_folder_dir) is False:\n",
    "    os.makedirs(destination_folder_dir, exist_ok=True)\n",
    "\n",
    "for r in df_list:\n",
    "    # file no\n",
    "    file_no = r[0]\n",
    "    # file name\n",
    "    file_name = r[1]\n",
    "    # file src\n",
    "    file_src = (r[2]).strip()\n",
    "\n",
    "    # file name with extension\n",
    "    file_name_full = file_name + '.log'\n",
    "\n",
    "    # file dir\n",
    "    source_folder = os.path.dirname(file_src)\n",
    "    # file name (in dir)\n",
    "    source_file_name = os.path.basename(file_src)\n",
    "\n",
    "    # Check if the source folder exists\n",
    "    if os.path.exists(source_folder):\n",
    "        # Copy all files from the source folder to the destination folder\n",
    "        for filename in os.listdir(source_folder):\n",
    "            shutil.copy(os.path.join(source_folder, source_file_name),\n",
    "                        os.path.join(destination_folder_dir, file_name_full))\n",
    "    else:\n",
    "        print('Source folder does not exist.')"
   ]
  }
 ],
 "metadata": {
  "kernelspec": {
   "display_name": "venv",
   "language": "python",
   "name": "python3"
  },
  "language_info": {
   "codemirror_mode": {
    "name": "ipython",
    "version": 3
   },
   "file_extension": ".py",
   "mimetype": "text/x-python",
   "name": "python",
   "nbconvert_exporter": "python",
   "pygments_lexer": "ipython3",
   "version": "3.9.5"
  }
 },
 "nbformat": 4,
 "nbformat_minor": 2
}
