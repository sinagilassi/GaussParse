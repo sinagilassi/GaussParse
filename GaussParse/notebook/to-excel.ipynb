{
 "cells": [
  {
   "cell_type": "markdown",
   "metadata": {},
   "source": [
    "# Packages\n"
   ]
  },
  {
   "cell_type": "code",
   "execution_count": 1,
   "metadata": {},
   "outputs": [],
   "source": [
    "# import packages/modules\n",
    "import numpy as np\n",
    "# import matplotlib.pyplot as plt\n",
    "import pandas as pd\n",
    "from math import pow, exp, log, sqrt\n",
    "# from scipy import optimize\n",
    "import os\n",
    "import re\n",
    "import csv\n",
    "import openpyxl\n",
    "import xlsxwriter\n",
    "# word\n",
    "# from docx import Document"
   ]
  },
  {
   "cell_type": "markdown",
   "metadata": {},
   "source": [
    "### Base Dir\n"
   ]
  },
  {
   "cell_type": "code",
   "execution_count": 2,
   "metadata": {},
   "outputs": [
    {
     "name": "stdout",
     "output_type": "stream",
     "text": [
      "base_dir e:\\Python Projects\\GaussParse\\GaussParse\\notebook\n"
     ]
    }
   ],
   "source": [
    "# current directory\n",
    "base_dir = os.getcwd()\n",
    "print(f\"base_dir {base_dir}\")"
   ]
  },
  {
   "cell_type": "markdown",
   "metadata": {},
   "source": [
    "### List uploaded files from desired folder\n"
   ]
  },
  {
   "cell_type": "code",
   "execution_count": 3,
   "metadata": {},
   "outputs": [],
   "source": [
    "def ListFiles(targetPath, fileExtension='txt'):\n",
    "    '''\n",
    "    list files in a target file\n",
    "\n",
    "    args:\n",
    "        targetPath: target path\n",
    "        fileExtension: file extension, default is empty\n",
    "\n",
    "    return:\n",
    "        a list of files in the target path\n",
    "    '''\n",
    "    try:\n",
    "        # check\n",
    "        if os.path.exists(targetPath):\n",
    "            filesFound = []\n",
    "            for f in os.listdir(targetPath):\n",
    "                if f.endswith('.'+str(fileExtension)):\n",
    "                    filesFound.append(f)\n",
    "            # res\n",
    "            return filesFound\n",
    "        else:\n",
    "            raise Exception(\"target path is not valid.\")\n",
    "\n",
    "    except Exception as e:\n",
    "        raise"
   ]
  },
  {
   "cell_type": "code",
   "execution_count": 4,
   "metadata": {},
   "outputs": [],
   "source": [
    "def CheckFileFormat(filePath):\n",
    "    '''\n",
    "    check file format\n",
    "\n",
    "    args:\n",
    "        filePath: file name dir\n",
    "\n",
    "    return:\n",
    "        file directory, file name, file format\n",
    "    '''\n",
    "    # check file exist\n",
    "    if os.path.isfile(filePath):\n",
    "        # file analysis\n",
    "        fileDir = os.path.dirname(filePath)\n",
    "        fileNameWithExtension = os.path.basename(filePath)\n",
    "        fileName, fileExtension = os.path.splitext(fileNameWithExtension)\n",
    "        # res\n",
    "        return fileDir, fileName, fileExtension\n",
    "    else:\n",
    "        raise Exception('file path is not valid.')"
   ]
  },
  {
   "cell_type": "markdown",
   "metadata": {},
   "source": [
    "### Load file names\n",
    "\n",
    "**_ `file_folder` _**\n",
    "\n",
    "a directory in which all log file are stored.\n"
   ]
  },
  {
   "cell_type": "code",
   "execution_count": 5,
   "metadata": {},
   "outputs": [
    {
     "name": "stdout",
     "output_type": "stream",
     "text": [
      "res: ['1,2LO.txt', 'PC1.txt', 'RC1.txt', 'TS1-cis.txt']\n",
      "count:  4\n"
     ]
    }
   ],
   "source": [
    "# log dir\n",
    "target_folder = \"D:\\\\OneDrive\\\\Project Analysis\\\\Computational Chemistry\\\\analysis\\\\terpens epoxidation\\\\extract data\\\\fructose-dioxirane-limonene-mechanism-3\"\n",
    "\n",
    "# list files\n",
    "file_list = ListFiles(target_folder, \"txt\")\n",
    "print(\"res:\", file_list)\n",
    "print(\"count: \", len(file_list))"
   ]
  },
  {
   "cell_type": "code",
   "execution_count": 7,
   "metadata": {},
   "outputs": [],
   "source": [
    "# # file folder\n",
    "# file_folder = \"data\\\\isolate-sol\"\n",
    "# # target folder\n",
    "# target_folder = os.path.join(base_dir, file_folder)\n",
    "\n",
    "# # list files\n",
    "# file_list = ListFiles(target_folder, \"log\")\n",
    "# print(\"res:\", file_list)"
   ]
  },
  {
   "cell_type": "markdown",
   "metadata": {},
   "source": [
    "### Sort file list based on model\n"
   ]
  },
  {
   "cell_type": "markdown",
   "metadata": {},
   "source": [
    "Read log file\n"
   ]
  },
  {
   "cell_type": "code",
   "execution_count": 6,
   "metadata": {},
   "outputs": [],
   "source": [
    "def ReadFile(filePath):\n",
    "    '''\n",
    "    read the content of file and put the info in a matrix\n",
    "\n",
    "    args:\n",
    "        filePath: full name of file with directory and format\n",
    "\n",
    "    return:\n",
    "        res: matrix of info\n",
    "    '''\n",
    "    try:\n",
    "        # file info\n",
    "        fileDir, fileName, fileExtension = CheckFileFormat(filePath)\n",
    "\n",
    "        # dict\n",
    "        item_rows = {}\n",
    "        column_names = ['Parameter', 'Value', 'Unit']\n",
    "\n",
    "        # index\n",
    "        k = 1\n",
    "\n",
    "        # file open\n",
    "        with open(filePath, \"r\") as f:\n",
    "            # find main section\n",
    "            fContent = f.readlines()\n",
    "\n",
    "            for item in fContent:\n",
    "                # to skip empty line\n",
    "                if len(item) > 1:\n",
    "                    # set id\n",
    "                    _id = \"data \"+str(k)\n",
    "                    # find \"=\" otherwise is description line\n",
    "                    if item.find(\"=\") > -1:\n",
    "                        # split: data 1 = data 2\n",
    "                        data1, data2 = item.strip().split(\"=\", 1)\n",
    "\n",
    "                        # key\n",
    "                        _key = str(data1).replace(\"\\n\", \"\").strip()\n",
    "\n",
    "                        # check \"space\" between number and string\n",
    "                        _str_search = data2.strip()\n",
    "                        if _str_search.find(\" \") > -1:\n",
    "                            # check begins with [-][+][number]\n",
    "                            if _str_search.startswith(\"-\") or _str_search.startswith(\"+\") or _str_search[0].isdigit():\n",
    "                                # sort data\n",
    "                                _ext = re.search(\n",
    "                                    r\"([-+]?\\d*\\.?\\d+([eE][-+]?\\d+)?)\\s*(.*)\", _str_search, re.M)\n",
    "                                # check\n",
    "                                if _ext:\n",
    "                                    numeric_value = float(_ext.group(1))\n",
    "                                    unit = str(_ext.group(3))\n",
    "                            else:\n",
    "                                numeric_value = _str_search\n",
    "                                unit = ''\n",
    "                        else:\n",
    "                            # only one part value (without unit)\n",
    "                            # check numeric\n",
    "                            _data2 = str(data2).replace(\n",
    "                                \"\\n\", \"\").replace(\".\", \"\").strip()\n",
    "                            if _data2.isnumeric():\n",
    "                                # number\n",
    "                                numeric_value = float(data2)\n",
    "                            else:\n",
    "                                # string\n",
    "                                numeric_value = data2\n",
    "                            unit = \"\"\n",
    "\n",
    "                    else:\n",
    "                        # description line\n",
    "                        _key = str(item).replace(\"\\n\", \"\")\n",
    "                        numeric_value = ''\n",
    "                        unit = ''\n",
    "\n",
    "                    # store\n",
    "                    item_rows[_id] = {\"Parameter\": str(\n",
    "                        _key), \"Value\": numeric_value, \"Unit\": str(unit)}\n",
    "\n",
    "                    # set\n",
    "                    k += 1\n",
    "\n",
    "        return fileName, item_rows, column_names\n",
    "    except Exception as e:\n",
    "        raise"
   ]
  },
  {
   "cell_type": "code",
   "execution_count": 7,
   "metadata": {},
   "outputs": [],
   "source": [
    "def AnalyzeFiles(targetPath, fileList):\n",
    "    '''\n",
    "    analyze each file\n",
    "\n",
    "    args:\n",
    "        targetPath: target folder\n",
    "        fileList: list of selected files\n",
    "\n",
    "    output:\n",
    "        res: dict\n",
    "    '''\n",
    "    try:\n",
    "        # check\n",
    "        if len(fileList) > 0:\n",
    "            # res\n",
    "            res = []\n",
    "            for item in fileList:\n",
    "                # file path\n",
    "                _file_full_path = os.path.join(str(targetPath), str(item))\n",
    "                # read file\n",
    "                _res = ReadFile(_file_full_path)\n",
    "                # save\n",
    "                res.append(_res)\n",
    "\n",
    "            # return\n",
    "            return res\n",
    "        else:\n",
    "            raise Exception(\"file list is empty!\")\n",
    "\n",
    "    except Exception as e:\n",
    "        raise"
   ]
  },
  {
   "cell_type": "code",
   "execution_count": 8,
   "metadata": {},
   "outputs": [
    {
     "name": "stdout",
     "output_type": "stream",
     "text": [
      "D:\\OneDrive\\Project Analysis\\Computational Chemistry\\analysis\\terpens epoxidation\\extract data\\fructose-dioxirane-limonene-mechanism-3\n",
      "['1,2LO.txt', 'PC1.txt', 'RC1.txt', 'TS1-cis.txt']\n",
      "4\n"
     ]
    }
   ],
   "source": [
    "# target folder\n",
    "print(target_folder)\n",
    "# file list\n",
    "print(file_list)\n",
    "# count\n",
    "print(len(file_list))"
   ]
  },
  {
   "cell_type": "code",
   "execution_count": 9,
   "metadata": {},
   "outputs": [
    {
     "name": "stdout",
     "output_type": "stream",
     "text": [
      "1,2LO\n",
      "{'data 1': {'Parameter': 'Filename', 'Value': 'D:/OneDrive/Project Analysis/Computational Chemistry/models/terpens epoxidation/limonene-dmdo/mechanism 2/step 1/qst3/res 1/tight/res 1/irc/res 1/1,2 LO/res 1/link/res 1/solvent/res 2/g09_exp.log', 'Unit': ''}, 'data 2': {'Parameter': 'Overview Tab Data Section:', 'Value': '', 'Unit': ''}, 'data 3': {'Parameter': 'TS1 (Optimization completed)', 'Value': '', 'Unit': ''}, 'data 4': {'Parameter': 'D:/OneDrive/Project Analysis/Computational Chemistry/models/terpens epoxidation/limonene-dmdo/mechanism 2/step 1/qst3/res 1/tight/res 1/irc/res 1/1,2 LO/res 1/link/res 1/solvent/res 2/g09_exp.log', 'Value': '', 'Unit': ''}, 'data 5': {'Parameter': 'File Type', 'Value': ' .log', 'Unit': ''}, 'data 6': {'Parameter': 'Calculation Type', 'Value': ' FREQ', 'Unit': ''}, 'data 7': {'Parameter': 'Calculation Method', 'Value': ' RM062X', 'Unit': ''}, 'data 8': {'Parameter': 'Basis Set', 'Value': ' 6-311++G(d,p)', 'Unit': ''}, 'data 9': {'Parameter': 'Charge', 'Value': 0.0, 'Unit': ''}, 'data 10': {'Parameter': 'Spin', 'Value': ' Singlet', 'Unit': ''}, 'data 11': {'Parameter': 'Solvation', 'Value': ' scrf=solvent=acetonitrile', 'Unit': ''}, 'data 12': {'Parameter': 'E(RM062X)', 'Value': -465.80165, 'Unit': 'Hartree'}, 'data 13': {'Parameter': 'RMS Gradient Norm', 'Value': 1.122e-06, 'Unit': 'Hartree/Bohr'}, 'data 14': {'Parameter': 'Imaginary Freq', 'Value': 0.0, 'Unit': ''}, 'data 15': {'Parameter': 'Dipole Moment', 'Value': 2.2065367, 'Unit': 'Debye'}, 'data 16': {'Parameter': 'Polarizability (?)', 'Value': 150.516, 'Unit': 'a.u.'}, 'data 17': {'Parameter': 'Point Group', 'Value': ' C1', 'Unit': ''}, 'data 18': {'Parameter': 'Job cpu time:       0 days  4 hours 36 minutes 35.9 seconds.', 'Value': '', 'Unit': ''}, 'data 19': {'Parameter': 'Thermo Tab Data Section:', 'Value': '', 'Unit': ''}, 'data 20': {'Parameter': 'Imaginary Freq', 'Value': 0.0, 'Unit': ''}, 'data 21': {'Parameter': 'Temperature', 'Value': 298.15, 'Unit': 'Kelvin'}, 'data 22': {'Parameter': 'Pressure', 'Value': 1.0, 'Unit': 'atm'}, 'data 23': {'Parameter': 'Frequencies scaled by', 'Value': 1.0, 'Unit': ''}, 'data 24': {'Parameter': 'Electronic Energy (EE)', 'Value': -465.80165, 'Unit': 'Hartree'}, 'data 25': {'Parameter': 'Zero-point Energy Correction', 'Value': 0.241637, 'Unit': 'Hartree'}, 'data 26': {'Parameter': 'Thermal Correction to Energy', 'Value': 0.252688, 'Unit': 'Hartree'}, 'data 27': {'Parameter': 'Thermal Correction to Enthalpy', 'Value': 0.253633, 'Unit': 'Hartree'}, 'data 28': {'Parameter': 'Thermal Correction to Free Energy', 'Value': 0.20529, 'Unit': 'Hartree'}, 'data 29': {'Parameter': 'EE + Zero-point Energy', 'Value': -465.56001, 'Unit': 'Hartree'}, 'data 30': {'Parameter': 'EE + Thermal Energy Correction', 'Value': -465.54896, 'Unit': 'Hartree'}, 'data 31': {'Parameter': 'EE + Thermal Enthalpy Correction', 'Value': -465.54802, 'Unit': 'Hartree'}, 'data 32': {'Parameter': 'EE + Thermal Free Energy Correction', 'Value': -465.59636, 'Unit': 'Hartree'}, 'data 33': {'Parameter': 'E (Thermal)', 'Value': 158.564, 'Unit': 'kcal/mol'}, 'data 34': {'Parameter': 'Heat Capacity (Cv)', 'Value': 43.465, 'Unit': 'cal/mol-kelvin'}, 'data 35': {'Parameter': 'Entropy (S)', 'Value': 101.745, 'Unit': 'cal/mol-kelvin'}, 'data 36': {'Parameter': 'Opt Tab Data Section:', 'Value': '', 'Unit': ''}, 'data 37': {'Parameter': 'Step number', 'Value': 1.0, 'Unit': ''}, 'data 38': {'Parameter': 'Maximum force', 'Value': 0.0, 'Unit': 'Converged'}, 'data 39': {'Parameter': 'RMS force', 'Value': 0.0, 'Unit': 'Converged'}, 'data 40': {'Parameter': 'Maximum displacement', 'Value': 4e-06, 'Unit': 'Converged'}, 'data 41': {'Parameter': 'RMS displacement', 'Value': 1e-06, 'Unit': 'Converged'}, 'data 42': {'Parameter': 'Predicted energy change', 'Value': -7.546755e-14, 'Unit': 'Hartree'}}\n",
      "['Parameter', 'Value', 'Unit']\n",
      "4\n"
     ]
    }
   ],
   "source": [
    "res = AnalyzeFiles(target_folder, file_list)\n",
    "print(res[0][0])\n",
    "print(res[0][1])\n",
    "print(res[0][2])\n",
    "print(len(res))"
   ]
  },
  {
   "cell_type": "code",
   "execution_count": 10,
   "metadata": {},
   "outputs": [
    {
     "name": "stdout",
     "output_type": "stream",
     "text": [
      "1,2LO\n",
      "[{'Parameter': 'Filename', 'Value': 'D:/OneDrive/Project Analysis/Computational Chemistry/models/terpens epoxidation/limonene-dmdo/mechanism 2/step 1/qst3/res 1/tight/res 1/irc/res 1/1,2 LO/res 1/link/res 1/solvent/res 2/g09_exp.log', 'Unit': ''}, {'Parameter': 'Overview Tab Data Section:', 'Value': '', 'Unit': ''}, {'Parameter': 'TS1 (Optimization completed)', 'Value': '', 'Unit': ''}, {'Parameter': 'D:/OneDrive/Project Analysis/Computational Chemistry/models/terpens epoxidation/limonene-dmdo/mechanism 2/step 1/qst3/res 1/tight/res 1/irc/res 1/1,2 LO/res 1/link/res 1/solvent/res 2/g09_exp.log', 'Value': '', 'Unit': ''}, {'Parameter': 'File Type', 'Value': ' .log', 'Unit': ''}, {'Parameter': 'Calculation Type', 'Value': ' FREQ', 'Unit': ''}, {'Parameter': 'Calculation Method', 'Value': ' RM062X', 'Unit': ''}, {'Parameter': 'Basis Set', 'Value': ' 6-311++G(d,p)', 'Unit': ''}, {'Parameter': 'Charge', 'Value': 0.0, 'Unit': ''}, {'Parameter': 'Spin', 'Value': ' Singlet', 'Unit': ''}, {'Parameter': 'Solvation', 'Value': ' scrf=solvent=acetonitrile', 'Unit': ''}, {'Parameter': 'E(RM062X)', 'Value': -465.80165, 'Unit': 'Hartree'}, {'Parameter': 'RMS Gradient Norm', 'Value': 1.122e-06, 'Unit': 'Hartree/Bohr'}, {'Parameter': 'Imaginary Freq', 'Value': 0.0, 'Unit': ''}, {'Parameter': 'Dipole Moment', 'Value': 2.2065367, 'Unit': 'Debye'}, {'Parameter': 'Polarizability (?)', 'Value': 150.516, 'Unit': 'a.u.'}, {'Parameter': 'Point Group', 'Value': ' C1', 'Unit': ''}, {'Parameter': 'Job cpu time:       0 days  4 hours 36 minutes 35.9 seconds.', 'Value': '', 'Unit': ''}, {'Parameter': 'Thermo Tab Data Section:', 'Value': '', 'Unit': ''}, {'Parameter': 'Imaginary Freq', 'Value': 0.0, 'Unit': ''}, {'Parameter': 'Temperature', 'Value': 298.15, 'Unit': 'Kelvin'}, {'Parameter': 'Pressure', 'Value': 1.0, 'Unit': 'atm'}, {'Parameter': 'Frequencies scaled by', 'Value': 1.0, 'Unit': ''}, {'Parameter': 'Electronic Energy (EE)', 'Value': -465.80165, 'Unit': 'Hartree'}, {'Parameter': 'Zero-point Energy Correction', 'Value': 0.241637, 'Unit': 'Hartree'}, {'Parameter': 'Thermal Correction to Energy', 'Value': 0.252688, 'Unit': 'Hartree'}, {'Parameter': 'Thermal Correction to Enthalpy', 'Value': 0.253633, 'Unit': 'Hartree'}, {'Parameter': 'Thermal Correction to Free Energy', 'Value': 0.20529, 'Unit': 'Hartree'}, {'Parameter': 'EE + Zero-point Energy', 'Value': -465.56001, 'Unit': 'Hartree'}, {'Parameter': 'EE + Thermal Energy Correction', 'Value': -465.54896, 'Unit': 'Hartree'}, {'Parameter': 'EE + Thermal Enthalpy Correction', 'Value': -465.54802, 'Unit': 'Hartree'}, {'Parameter': 'EE + Thermal Free Energy Correction', 'Value': -465.59636, 'Unit': 'Hartree'}, {'Parameter': 'E (Thermal)', 'Value': 158.564, 'Unit': 'kcal/mol'}, {'Parameter': 'Heat Capacity (Cv)', 'Value': 43.465, 'Unit': 'cal/mol-kelvin'}, {'Parameter': 'Entropy (S)', 'Value': 101.745, 'Unit': 'cal/mol-kelvin'}, {'Parameter': 'Opt Tab Data Section:', 'Value': '', 'Unit': ''}, {'Parameter': 'Step number', 'Value': 1.0, 'Unit': ''}, {'Parameter': 'Maximum force', 'Value': 0.0, 'Unit': 'Converged'}, {'Parameter': 'RMS force', 'Value': 0.0, 'Unit': 'Converged'}, {'Parameter': 'Maximum displacement', 'Value': 4e-06, 'Unit': 'Converged'}, {'Parameter': 'RMS displacement', 'Value': 1e-06, 'Unit': 'Converged'}, {'Parameter': 'Predicted energy change', 'Value': -7.546755e-14, 'Unit': 'Hartree'}]\n",
      "['Parameter', 'Value', 'Unit']\n"
     ]
    }
   ],
   "source": [
    "# file name (sheet name)\n",
    "dict_name = res[0][0]\n",
    "print(dict_name)\n",
    "\n",
    "dict_data = list(res[0][1].values())\n",
    "print(dict_data)\n",
    "\n",
    "# define columns\n",
    "dict_column_name = res[0][2]\n",
    "print(dict_column_name)"
   ]
  },
  {
   "cell_type": "markdown",
   "metadata": {},
   "source": [
    "# Save csv\n"
   ]
  },
  {
   "cell_type": "code",
   "execution_count": 5,
   "metadata": {},
   "outputs": [],
   "source": [
    "def dict_to_csv(dict_data, dict_column_name, csv_name, path=''):\n",
    "    with open(str(csv_name), 'w') as f:\n",
    "        writer = csv.DictWriter(f, fieldnames=dict_column_name)\n",
    "        writer.writeheader()\n",
    "        writer.writerows(dict_data)"
   ]
  },
  {
   "cell_type": "code",
   "execution_count": null,
   "metadata": {},
   "outputs": [],
   "source": [
    "with open('test.csv', 'w') as f:\n",
    "    writer = csv.DictWriter(f, fieldnames=dict_column_name)\n",
    "    writer.writeheader()\n",
    "    writer.writerows(dict_data)"
   ]
  },
  {
   "cell_type": "markdown",
   "metadata": {},
   "source": [
    "### Display data in table\n"
   ]
  },
  {
   "cell_type": "code",
   "execution_count": 11,
   "metadata": {},
   "outputs": [],
   "source": [
    "def save_data_to_excel(d, excel_file_dir='', excel_file_name='res', excel_engine='xlsxwriter'):\n",
    "    '''\n",
    "    save gaussian output.log to excel\n",
    "\n",
    "    args:\n",
    "        d: input data\n",
    "            file name\n",
    "    '''\n",
    "    # file name\n",
    "    excel_file_name = excel_file_name+'.xlsx'\n",
    "    #  excel file path\n",
    "    if len(excel_file_dir) > 0:\n",
    "        # chosen path\n",
    "        excel_file_path = os.path.join(\n",
    "            excel_file_dir, excel_file_name)\n",
    "    else:\n",
    "        # current directory\n",
    "        excel_file_path = os.getcwd()+'/'+excel_file_name\n",
    "\n",
    "    # check file exist\n",
    "    # if not os.path.isfile(excel_file_path):\n",
    "    #     if not os.path.exists(excel_file_path):\n",
    "    #         # create excel file\n",
    "    #         writer = pd.ExcelWriter(excel_file_path,engine='xlsxwriter')\n",
    "    #         # writer.close()\n",
    "\n",
    "    writer = pd.ExcelWriter(excel_file_path, engine='xlsxwriter')\n",
    "\n",
    "    # add each df to the excel sheet\n",
    "    for item in d:\n",
    "        # sheet name\n",
    "        sheet_name = item[0]\n",
    "        sheet_data = list(item[1].values())\n",
    "        sheet_column_name = item[2]\n",
    "\n",
    "        # df\n",
    "        df = pd.DataFrame.from_dict(sheet_data)\n",
    "        # size\n",
    "        row, col = df.shape\n",
    "\n",
    "        # check excel engine\n",
    "        if excel_engine == 'xlsxwriter':\n",
    "            # store\n",
    "            df.to_excel(writer, sheet_name=str(sheet_name),\n",
    "                        index=False, header=True, columns=sheet_column_name)\n",
    "\n",
    "            # workbook and worksheet objects\n",
    "            workbook = writer.book\n",
    "            worksheet = writer.sheets[str(sheet_name)]\n",
    "\n",
    "            # set column\n",
    "            worksheet.set_column(0, 0, 110)\n",
    "            worksheet.set_column(1, 2, 30)\n",
    "\n",
    "            # set boarder\n",
    "            border_format = workbook.add_format({'border': 1})\n",
    "            worksheet.conditional_format(\n",
    "                0, 0, row, col, {'type': 'no_blanks', 'format': border_format})\n",
    "            worksheet.conditional_format(\n",
    "                0, 0, row, col, {'type': 'blanks', 'format': border_format})\n",
    "\n",
    "        else:\n",
    "            # store\n",
    "            with pd.ExcelWriter(excel_file_path, engine='openpyxl', mode='a', if_sheet_exists=\"new\") as writer2:\n",
    "                try:\n",
    "                    df.to_excel(writer2, sheet_name=str(\n",
    "                        sheet_name), index=False, header=True, columns=sheet_column_name)\n",
    "                except:\n",
    "                    df.to_excel(writer2, sheet_name=str(\n",
    "                        sheet_name), index=False)\n",
    "\n",
    "    # close\n",
    "    writer.close()"
   ]
  },
  {
   "cell_type": "markdown",
   "metadata": {},
   "source": [
    "Save to excel files\n"
   ]
  },
  {
   "cell_type": "code",
   "execution_count": 14,
   "metadata": {},
   "outputs": [],
   "source": [
    "# test\n",
    "excel_file_name = \"fructose-dioxirane-m3\"\n",
    "\n",
    "\n",
    "# store data in excel\n",
    "\n",
    "\n",
    "save_data_to_excel(res, excel_file_dir=target_folder,\n",
    "                   excel_file_name=excel_file_name)"
   ]
  }
 ],
 "metadata": {
  "kernelspec": {
   "display_name": "venv",
   "language": "python",
   "name": "python3"
  },
  "language_info": {
   "codemirror_mode": {
    "name": "ipython",
    "version": 3
   },
   "file_extension": ".py",
   "mimetype": "text/x-python",
   "name": "python",
   "nbconvert_exporter": "python",
   "pygments_lexer": "ipython3",
   "version": "3.9.5"
  }
 },
 "nbformat": 4,
 "nbformat_minor": 2
}
