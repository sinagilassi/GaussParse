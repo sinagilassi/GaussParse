{
  "cells": [
    {
      "cell_type": "markdown",
      "metadata": {
        "id": "5QMVl2YMoyyF"
      },
      "source": [
        "# Packages/modules\n"
      ]
    },
    {
      "cell_type": "code",
      "execution_count": 1,
      "metadata": {
        "id": "EiyGuX_1oxFR"
      },
      "outputs": [],
      "source": [
        "# import packages/modules\n",
        "import numpy as np\n",
        "import pandas as pd\n",
        "import os\n",
        "import re"
      ]
    },
    {
      "cell_type": "markdown",
      "metadata": {
        "id": "NJPyB-GKpFCB"
      },
      "source": [
        "# Load gaussian log file\n"
      ]
    },
    {
      "cell_type": "code",
      "execution_count": 4,
      "metadata": {
        "id": "L_nYQZY9s9Oq"
      },
      "outputs": [
        {
          "data": {
            "text/plain": [
              "'D:\\\\Google Cloud\\\\Python Source\\\\Gaussian\\\\limonene.log'"
            ]
          },
          "execution_count": 4,
          "metadata": {},
          "output_type": "execute_result"
        }
      ],
      "source": [
        "# target folder\n",
        "file_src = 'D:\\\\Google Cloud\\\\Python Source\\\\Gaussian\\\\limonene.log'\n",
        "file_src"
      ]
    },
    {
      "cell_type": "markdown",
      "metadata": {
        "id": "xIjsnjREqFpt"
      },
      "source": [
        "# Util\n"
      ]
    },
    {
      "cell_type": "code",
      "execution_count": 5,
      "metadata": {
        "id": "9FjHxqWdqHS3"
      },
      "outputs": [],
      "source": [
        "def CheckFileFormat(filePath):\n",
        "    '''\n",
        "    check file format\n",
        "\n",
        "    args:\n",
        "      filePath: file name dir\n",
        "\n",
        "    return:\n",
        "      file directory, file name, file format\n",
        "    '''\n",
        "    # check file exist\n",
        "    if os.path.isfile(filePath):\n",
        "        # file analysis\n",
        "        fileDir = os.path.dirname(filePath)\n",
        "        fileNameWithExtension = os.path.basename(filePath)\n",
        "        fileName, fileExtension = os.path.splitext(fileNameWithExtension)\n",
        "        # res\n",
        "        return fileDir, fileName, fileExtension\n",
        "    else:\n",
        "        raise Exception('file path is not valid.')"
      ]
    },
    {
      "cell_type": "code",
      "execution_count": 6,
      "metadata": {
        "colab": {
          "base_uri": "https://localhost:8080/"
        },
        "id": "iObxw48msYEn",
        "outputId": "a8b6a691-ed0f-4b70-a4a9-e822448deaae"
      },
      "outputs": [
        {
          "data": {
            "text/plain": [
              "('D:\\\\Google Cloud\\\\Python Source\\\\Gaussian', 'limonene', '.log')"
            ]
          },
          "execution_count": 6,
          "metadata": {},
          "output_type": "execute_result"
        }
      ],
      "source": [
        "CheckFileFormat(file_src)"
      ]
    },
    {
      "cell_type": "markdown",
      "metadata": {
        "id": "FwZS89mY_FN2"
      },
      "source": [
        "# Periodic table\n"
      ]
    },
    {
      "cell_type": "code",
      "execution_count": 7,
      "metadata": {
        "colab": {
          "base_uri": "https://localhost:8080/",
          "height": 244
        },
        "id": "3BdqkKSB_Huz",
        "outputId": "f73376b2-ff01-48ba-ef64-f3e6942ad6d3"
      },
      "outputs": [
        {
          "data": {
            "text/html": [
              "<div>\n",
              "<style scoped>\n",
              "    .dataframe tbody tr th:only-of-type {\n",
              "        vertical-align: middle;\n",
              "    }\n",
              "\n",
              "    .dataframe tbody tr th {\n",
              "        vertical-align: top;\n",
              "    }\n",
              "\n",
              "    .dataframe thead th {\n",
              "        text-align: right;\n",
              "    }\n",
              "</style>\n",
              "<table border=\"1\" class=\"dataframe\">\n",
              "  <thead>\n",
              "    <tr style=\"text-align: right;\">\n",
              "      <th></th>\n",
              "      <th>AtomicNumber</th>\n",
              "      <th>Symbol</th>\n",
              "      <th>Name</th>\n",
              "      <th>AtomicMass</th>\n",
              "      <th>CPKHexColor</th>\n",
              "      <th>ElectronConfiguration</th>\n",
              "      <th>Electronegativity</th>\n",
              "      <th>AtomicRadius</th>\n",
              "      <th>IonizationEnergy</th>\n",
              "      <th>ElectronAffinity</th>\n",
              "      <th>OxidationStates</th>\n",
              "      <th>StandardState</th>\n",
              "      <th>MeltingPoint</th>\n",
              "      <th>BoilingPoint</th>\n",
              "      <th>Density</th>\n",
              "      <th>GroupBlock</th>\n",
              "      <th>YearDiscovered</th>\n",
              "    </tr>\n",
              "  </thead>\n",
              "  <tbody>\n",
              "    <tr>\n",
              "      <th>0</th>\n",
              "      <td>1</td>\n",
              "      <td>H</td>\n",
              "      <td>Hydrogen</td>\n",
              "      <td>1.008000</td>\n",
              "      <td>FFFFFF</td>\n",
              "      <td>1s1</td>\n",
              "      <td>2.20</td>\n",
              "      <td>120.0</td>\n",
              "      <td>13.598</td>\n",
              "      <td>0.754</td>\n",
              "      <td>+1, -1</td>\n",
              "      <td>Gas</td>\n",
              "      <td>13.81</td>\n",
              "      <td>20.28</td>\n",
              "      <td>0.000090</td>\n",
              "      <td>Nonmetal</td>\n",
              "      <td>1766</td>\n",
              "    </tr>\n",
              "    <tr>\n",
              "      <th>1</th>\n",
              "      <td>2</td>\n",
              "      <td>He</td>\n",
              "      <td>Helium</td>\n",
              "      <td>4.002600</td>\n",
              "      <td>D9FFFF</td>\n",
              "      <td>1s2</td>\n",
              "      <td>NaN</td>\n",
              "      <td>140.0</td>\n",
              "      <td>24.587</td>\n",
              "      <td>NaN</td>\n",
              "      <td>0</td>\n",
              "      <td>Gas</td>\n",
              "      <td>0.95</td>\n",
              "      <td>4.22</td>\n",
              "      <td>0.000179</td>\n",
              "      <td>Noble gas</td>\n",
              "      <td>1868</td>\n",
              "    </tr>\n",
              "    <tr>\n",
              "      <th>2</th>\n",
              "      <td>3</td>\n",
              "      <td>Li</td>\n",
              "      <td>Lithium</td>\n",
              "      <td>7.000000</td>\n",
              "      <td>CC80FF</td>\n",
              "      <td>[He]2s1</td>\n",
              "      <td>0.98</td>\n",
              "      <td>182.0</td>\n",
              "      <td>5.392</td>\n",
              "      <td>0.618</td>\n",
              "      <td>+1</td>\n",
              "      <td>Solid</td>\n",
              "      <td>453.65</td>\n",
              "      <td>1615.00</td>\n",
              "      <td>0.534000</td>\n",
              "      <td>Alkali metal</td>\n",
              "      <td>1817</td>\n",
              "    </tr>\n",
              "    <tr>\n",
              "      <th>3</th>\n",
              "      <td>4</td>\n",
              "      <td>Be</td>\n",
              "      <td>Beryllium</td>\n",
              "      <td>9.012183</td>\n",
              "      <td>C2FF00</td>\n",
              "      <td>[He]2s2</td>\n",
              "      <td>1.57</td>\n",
              "      <td>153.0</td>\n",
              "      <td>9.323</td>\n",
              "      <td>NaN</td>\n",
              "      <td>+2</td>\n",
              "      <td>Solid</td>\n",
              "      <td>1560.00</td>\n",
              "      <td>2744.00</td>\n",
              "      <td>1.850000</td>\n",
              "      <td>Alkaline earth metal</td>\n",
              "      <td>1798</td>\n",
              "    </tr>\n",
              "    <tr>\n",
              "      <th>4</th>\n",
              "      <td>5</td>\n",
              "      <td>B</td>\n",
              "      <td>Boron</td>\n",
              "      <td>10.810000</td>\n",
              "      <td>FFB5B5</td>\n",
              "      <td>[He]2s2 2p1</td>\n",
              "      <td>2.04</td>\n",
              "      <td>192.0</td>\n",
              "      <td>8.298</td>\n",
              "      <td>0.277</td>\n",
              "      <td>+3</td>\n",
              "      <td>Solid</td>\n",
              "      <td>2348.00</td>\n",
              "      <td>4273.00</td>\n",
              "      <td>2.370000</td>\n",
              "      <td>Metalloid</td>\n",
              "      <td>1808</td>\n",
              "    </tr>\n",
              "  </tbody>\n",
              "</table>\n",
              "</div>"
            ],
            "text/plain": [
              "   AtomicNumber Symbol       Name  AtomicMass CPKHexColor  \\\n",
              "0             1      H   Hydrogen    1.008000      FFFFFF   \n",
              "1             2     He     Helium    4.002600      D9FFFF   \n",
              "2             3     Li    Lithium    7.000000      CC80FF   \n",
              "3             4     Be  Beryllium    9.012183      C2FF00   \n",
              "4             5      B      Boron   10.810000      FFB5B5   \n",
              "\n",
              "  ElectronConfiguration  Electronegativity  AtomicRadius  IonizationEnergy  \\\n",
              "0                   1s1               2.20         120.0            13.598   \n",
              "1                   1s2                NaN         140.0            24.587   \n",
              "2               [He]2s1               0.98         182.0             5.392   \n",
              "3               [He]2s2               1.57         153.0             9.323   \n",
              "4           [He]2s2 2p1               2.04         192.0             8.298   \n",
              "\n",
              "   ElectronAffinity OxidationStates StandardState  MeltingPoint  BoilingPoint  \\\n",
              "0             0.754          +1, -1           Gas         13.81         20.28   \n",
              "1               NaN               0           Gas          0.95          4.22   \n",
              "2             0.618              +1         Solid        453.65       1615.00   \n",
              "3               NaN              +2         Solid       1560.00       2744.00   \n",
              "4             0.277              +3         Solid       2348.00       4273.00   \n",
              "\n",
              "    Density            GroupBlock YearDiscovered  \n",
              "0  0.000090              Nonmetal           1766  \n",
              "1  0.000179             Noble gas           1868  \n",
              "2  0.534000          Alkali metal           1817  \n",
              "3  1.850000  Alkaline earth metal           1798  \n",
              "4  2.370000             Metalloid           1808  "
            ]
          },
          "execution_count": 7,
          "metadata": {},
          "output_type": "execute_result"
        }
      ],
      "source": [
        "url = \"https://pubchem.ncbi.nlm.nih.gov/rest/pug/periodictable/CSV?response_type=display\"\n",
        "pt_df = pd.read_csv(url)\n",
        "pt_df.head()"
      ]
    },
    {
      "cell_type": "code",
      "execution_count": null,
      "metadata": {
        "colab": {
          "base_uri": "https://localhost:8080/",
          "height": 36
        },
        "id": "eWDa2uaXAUbx",
        "outputId": "a80b4059-865f-4d7e-cb59-cbe4d36a39df"
      },
      "outputs": [
        {
          "data": {
            "application/vnd.google.colaboratory.intrinsic+json": {
              "type": "string"
            },
            "text/plain": [
              "'Li'"
            ]
          },
          "execution_count": 79,
          "metadata": {},
          "output_type": "execute_result"
        }
      ],
      "source": [
        "# find atomic symbol from dataframe\n",
        "_atomic_symbol = pt_df[pt_df['AtomicNumber'] == 3]['Symbol'].values[0]\n",
        "_atomic_symbol"
      ]
    },
    {
      "cell_type": "code",
      "execution_count": 8,
      "metadata": {
        "id": "S9_--4cFAAAh"
      },
      "outputs": [],
      "source": [
        "def FindAtomicSymbol(atomic_number, df):\n",
        "    '''\n",
        "    Find atomic symbol\n",
        "\n",
        "    args:\n",
        "      atomic_number {number/str}: atomic number\n",
        "      df {dataframe}: periodic table data\n",
        "    '''\n",
        "    _atomic_symbol = df[df['AtomicNumber']\n",
        "                        == atomic_number]['Symbol'].values[0]\n",
        "    return _atomic_symbol"
      ]
    },
    {
      "cell_type": "code",
      "execution_count": 9,
      "metadata": {
        "colab": {
          "base_uri": "https://localhost:8080/",
          "height": 35
        },
        "id": "G6bRJIrQCYrC",
        "outputId": "cae21ca4-5e8b-4941-fbad-2ef0f5a53e49"
      },
      "outputs": [
        {
          "data": {
            "text/plain": [
              "'He'"
            ]
          },
          "execution_count": 9,
          "metadata": {},
          "output_type": "execute_result"
        }
      ],
      "source": [
        "FindAtomicSymbol(2, pt_df)"
      ]
    },
    {
      "cell_type": "code",
      "execution_count": null,
      "metadata": {
        "id": "q-fEHOYEFl4p"
      },
      "outputs": [],
      "source": [
        "df2 = pt_df.copy()\n",
        "df3 = df2.drop('Symbol', axis=1)\n",
        "df3['Symbol2'] = df3['AtomicNumber'].apply(FindAtomicSymbol, args=(pt_df,))\n",
        "df3"
      ]
    },
    {
      "cell_type": "markdown",
      "metadata": {
        "id": "DHeTb_y4TkXy"
      },
      "source": [
        "save a dictionary with atomic number and symbol\n"
      ]
    },
    {
      "cell_type": "code",
      "execution_count": 10,
      "metadata": {
        "colab": {
          "base_uri": "https://localhost:8080/",
          "height": 424
        },
        "id": "0Cclvp1oTpYP",
        "outputId": "66366500-96de-4017-d184-76cf3ce59acb"
      },
      "outputs": [
        {
          "data": {
            "text/html": [
              "<div>\n",
              "<style scoped>\n",
              "    .dataframe tbody tr th:only-of-type {\n",
              "        vertical-align: middle;\n",
              "    }\n",
              "\n",
              "    .dataframe tbody tr th {\n",
              "        vertical-align: top;\n",
              "    }\n",
              "\n",
              "    .dataframe thead th {\n",
              "        text-align: right;\n",
              "    }\n",
              "</style>\n",
              "<table border=\"1\" class=\"dataframe\">\n",
              "  <thead>\n",
              "    <tr style=\"text-align: right;\">\n",
              "      <th></th>\n",
              "      <th>AtomicNumber</th>\n",
              "      <th>Symbol</th>\n",
              "    </tr>\n",
              "  </thead>\n",
              "  <tbody>\n",
              "    <tr>\n",
              "      <th>0</th>\n",
              "      <td>1</td>\n",
              "      <td>H</td>\n",
              "    </tr>\n",
              "    <tr>\n",
              "      <th>1</th>\n",
              "      <td>2</td>\n",
              "      <td>He</td>\n",
              "    </tr>\n",
              "    <tr>\n",
              "      <th>2</th>\n",
              "      <td>3</td>\n",
              "      <td>Li</td>\n",
              "    </tr>\n",
              "    <tr>\n",
              "      <th>3</th>\n",
              "      <td>4</td>\n",
              "      <td>Be</td>\n",
              "    </tr>\n",
              "    <tr>\n",
              "      <th>4</th>\n",
              "      <td>5</td>\n",
              "      <td>B</td>\n",
              "    </tr>\n",
              "    <tr>\n",
              "      <th>...</th>\n",
              "      <td>...</td>\n",
              "      <td>...</td>\n",
              "    </tr>\n",
              "    <tr>\n",
              "      <th>113</th>\n",
              "      <td>114</td>\n",
              "      <td>Fl</td>\n",
              "    </tr>\n",
              "    <tr>\n",
              "      <th>114</th>\n",
              "      <td>115</td>\n",
              "      <td>Mc</td>\n",
              "    </tr>\n",
              "    <tr>\n",
              "      <th>115</th>\n",
              "      <td>116</td>\n",
              "      <td>Lv</td>\n",
              "    </tr>\n",
              "    <tr>\n",
              "      <th>116</th>\n",
              "      <td>117</td>\n",
              "      <td>Ts</td>\n",
              "    </tr>\n",
              "    <tr>\n",
              "      <th>117</th>\n",
              "      <td>118</td>\n",
              "      <td>Og</td>\n",
              "    </tr>\n",
              "  </tbody>\n",
              "</table>\n",
              "<p>118 rows × 2 columns</p>\n",
              "</div>"
            ],
            "text/plain": [
              "     AtomicNumber Symbol\n",
              "0               1      H\n",
              "1               2     He\n",
              "2               3     Li\n",
              "3               4     Be\n",
              "4               5      B\n",
              "..            ...    ...\n",
              "113           114     Fl\n",
              "114           115     Mc\n",
              "115           116     Lv\n",
              "116           117     Ts\n",
              "117           118     Og\n",
              "\n",
              "[118 rows x 2 columns]"
            ]
          },
          "execution_count": 10,
          "metadata": {},
          "output_type": "execute_result"
        }
      ],
      "source": [
        "_df = pt_df[['AtomicNumber', 'Symbol']]\n",
        "_df"
      ]
    },
    {
      "cell_type": "code",
      "execution_count": 12,
      "metadata": {
        "colab": {
          "base_uri": "https://localhost:8080/"
        },
        "id": "Y7l9e1gOUNba",
        "outputId": "2a85bdbb-5c85-444a-9025-644cbbe3e475"
      },
      "outputs": [],
      "source": [
        "# Transform it to dictionary as described\n",
        "transformed_dict = _df.to_dict(orient='index')\n",
        "\n",
        "# Convert AtomicNumber to int in the dictionary\n",
        "transformed_dict = {str(key): {'AtomicNumber': int(\n",
        "    value['AtomicNumber']), 'Symbol': value['Symbol']} for key, value in transformed_dict.items()}"
      ]
    },
    {
      "cell_type": "markdown",
      "metadata": {
        "id": "Y8rswWVfpwK5"
      },
      "source": [
        "# Analyze file\n"
      ]
    },
    {
      "cell_type": "code",
      "execution_count": 13,
      "metadata": {
        "id": "Qo2zfSd0pzl0"
      },
      "outputs": [],
      "source": [
        "def ReadXYZLogFile(filePath, pt_dict):\n",
        "    '''\n",
        "    read the content of log file\n",
        "\n",
        "    args:\n",
        "        filePath {str}: full name of file with directory and format\n",
        "        pt_dict {dict}: parodic table dict\n",
        "\n",
        "    return:\n",
        "        res {dict}: dictionary data\n",
        "    '''\n",
        "    try:\n",
        "        # file info\n",
        "        fileDir, fileName, fileExtension = CheckFileFormat(filePath)\n",
        "\n",
        "        # dict\n",
        "        item_loc = []\n",
        "        item_conv = []\n",
        "        column_names = ['Center Number', 'Atomic Number',\n",
        "                        'Atomic Symbol', 'X', 'Y', 'Z']\n",
        "\n",
        "        # index\n",
        "        k = 1\n",
        "\n",
        "        # file open\n",
        "        with open(filePath, \"r\") as f:\n",
        "            # find\n",
        "            fContent = f.read()\n",
        "\n",
        "            # find\n",
        "            # ---------------------------------------------------------------------\n",
        "            # Center     Atomic      Atomic             Coordinates (Angstroms)\n",
        "            # Number     Number       Type             X           Y           Z\n",
        "            # ---------------------------------------------------------------------\n",
        "            # str_sub_1 = 'Number     Number              X              Y              Z'\n",
        "            str_sub_1 = 'Center     Atomic      Atomic             Coordinates (Angstroms)'\n",
        "            i_sub_1 = fContent.rfind(str_sub_1)\n",
        "            str_1 = fContent[i_sub_1:]\n",
        "\n",
        "            # split str by lines\n",
        "            str_sub_lines = str_1.splitlines()\n",
        "\n",
        "            # coordinate\n",
        "            coordinate_1 = str_sub_lines[1]\n",
        "\n",
        "            # separator\n",
        "            sep_1 = str_sub_lines[2]\n",
        "\n",
        "            # find the second separator\n",
        "            k = 0\n",
        "            for item in str_sub_lines:\n",
        "                # set regex\n",
        "                _line = item\n",
        "\n",
        "                # find\n",
        "                # force - groups(5)\n",
        "                # _res = re.search(r\"\\s+(\\d+)\\s+(\\d+)\\s+([-+]?\\d*\\.\\d+)\\s+([-+]?\\d*\\.\\d+)\\s+([-+]?\\d*\\.\\d+)\", _line)\n",
        "                # coordinate - groups(6)\n",
        "                _res = re.search(\n",
        "                    r\"\\s+(\\d+)\\s+(\\d+)\\s+(\\w+)\\s+([-+]?\\d*\\.\\d+)\\s+([-+]?\\d*\\.\\d+)\\s+([-+]?\\d*\\.\\d+)\", _line)\n",
        "                # regex 1\n",
        "                # \\s+(\\d+)\\s+(\\d+)\\s+(\\d+)\\s+([-+]?\\d*\\.\\d+)\\s+([-+]?\\d*\\.\\d+)\\s+([-+]?\\d*\\.\\d+)\n",
        "                # regex 2\n",
        "                # \\s+(\\d+)\\s+(\\d+)\\s+(\\w+)\\s+([-+]?\\d*\\.\\d+)\\s+([-+]?\\d*\\.\\d+)\\s+([-+]?\\d*\\.\\d+)\n",
        "                # check\n",
        "                if _res:\n",
        "                    _center_number = _res.group(1)\n",
        "                    _atomic_number = _res.group(2)\n",
        "                    _atomic_type = _res.group(3)\n",
        "                    _X = _res.group(4)\n",
        "                    _Y = _res.group(5)\n",
        "                    _Z = _res.group(6)\n",
        "\n",
        "                    # atomic symbol\n",
        "                    _atomic_symbol = pt_dict.get(\n",
        "                        str(int(_atomic_number)-1))['Symbol']\n",
        "                    # store\n",
        "                    _ele = {\n",
        "                        'Center Number': _center_number,\n",
        "                        'Atomic Number': _atomic_number,\n",
        "                        'Atomic Symbol': _atomic_symbol,\n",
        "                        'X': _X,\n",
        "                        'Y': _Y,\n",
        "                        'Z': _Z\n",
        "                    }\n",
        "\n",
        "                    item_loc.append(_ele)\n",
        "\n",
        "                if k > 2 and item == sep_1:\n",
        "                    sep_2 = item\n",
        "                    break\n",
        "\n",
        "                # update\n",
        "                k += 1\n",
        "\n",
        "        return fileName, item_conv, item_loc, column_names\n",
        "    except Exception as e:\n",
        "        raise"
      ]
    },
    {
      "cell_type": "code",
      "execution_count": 14,
      "metadata": {
        "colab": {
          "base_uri": "https://localhost:8080/"
        },
        "id": "UnGYskYpq-4H",
        "outputId": "1735f3a6-2d8f-4027-9695-18338b7b1e85"
      },
      "outputs": [
        {
          "name": "stdout",
          "output_type": "stream",
          "text": [
            "('limonene', [], [{'Center Number': '1', 'Atomic Number': '6', 'Atomic Symbol': 'C', 'X': '0.711585', 'Y': '0.035352', 'Z': '-0.301777'}, {'Center Number': '2', 'Atomic Number': '6', 'Atomic Symbol': 'C', 'X': '-0.061757', 'Y': '1.300928', 'Z': '0.062906'}, {'Center Number': '3', 'Atomic Number': '6', 'Atomic Symbol': 'C', 'X': '0.098166', 'Y': '-1.165339', 'Z': '0.441734'}, {'Center Number': '4', 'Atomic Number': '6', 'Atomic Symbol': 'C', 'X': '-1.518987', 'Y': '1.189382', 'Z': '-0.381726'}, {'Center Number': '5', 'Atomic Number': '6', 'Atomic Symbol': 'C', 'X': '-2.149119', 'Y': '-0.126629', 'Z': '0.005706'}, {'Center Number': '6', 'Atomic Number': '6', 'Atomic Symbol': 'C', 'X': '-1.407352', 'Y': '-1.166378', 'Z': '0.391990'}, {'Center Number': '7', 'Atomic Number': '6', 'Atomic Symbol': 'C', 'X': '2.204711', 'Y': '0.106169', 'Z': '-0.060168'}, {'Center Number': '8', 'Atomic Number': '6', 'Atomic Symbol': 'C', 'X': '-3.648719', 'Y': '-0.187311', 'Z': '-0.076825'}, {'Center Number': '9', 'Atomic Number': '6', 'Atomic Symbol': 'C', 'X': '2.993707', 'Y': '-1.090578', 'Z': '-0.527604'}, {'Center Number': '10', 'Atomic Number': '6', 'Atomic Symbol': 'C', 'X': '2.804791', 'Y': '1.137288', 'Z': '0.536148'}, {'Center Number': '11', 'Atomic Number': '1', 'Atomic Symbol': 'H', 'X': '0.568108', 'Y': '-0.145304', 'Z': '-1.377639'}, {'Center Number': '12', 'Atomic Number': '1', 'Atomic Symbol': 'H', 'X': '0.400316', 'Y': '2.178604', 'Z': '-0.395865'}, {'Center Number': '13', 'Atomic Number': '1', 'Atomic Symbol': 'H', 'X': '-0.023604', 'Y': '1.442964', 'Z': '1.149418'}, {'Center Number': '14', 'Atomic Number': '1', 'Atomic Symbol': 'H', 'X': '0.467344', 'Y': '-2.102062', 'Z': '0.014276'}, {'Center Number': '15', 'Atomic Number': '1', 'Atomic Symbol': 'H', 'X': '0.439450', 'Y': '-1.153109', 'Z': '1.486036'}, {'Center Number': '16', 'Atomic Number': '1', 'Atomic Symbol': 'H', 'X': '-1.593159', 'Y': '1.310528', 'Z': '-1.470409'}, {'Center Number': '17', 'Atomic Number': '1', 'Atomic Symbol': 'H', 'X': '-2.107651', 'Y': '2.006366', 'Z': '0.049264'}, {'Center Number': '18', 'Atomic Number': '1', 'Atomic Symbol': 'H', 'X': '-1.904337', 'Y': '-2.089766', 'Z': '0.681666'}, {'Center Number': '19', 'Atomic Number': '1', 'Atomic Symbol': 'H', 'X': '-3.986754', 'Y': '0.068177', 'Z': '-1.086367'}, {'Center Number': '20', 'Atomic Number': '1', 'Atomic Symbol': 'H', 'X': '-4.102558', 'Y': '0.541242', 'Z': '0.602209'}, {'Center Number': '21', 'Atomic Number': '1', 'Atomic Symbol': 'H', 'X': '-4.026775', 'Y': '-1.179490', 'Z': '0.173781'}, {'Center Number': '22', 'Atomic Number': '1', 'Atomic Symbol': 'H', 'X': '2.764888', 'Y': '-1.971431', 'Z': '0.079018'}, {'Center Number': '23', 'Atomic Number': '1', 'Atomic Symbol': 'H', 'X': '2.740027', 'Y': '-1.340900', 'Z': '-1.562117'}, {'Center Number': '24', 'Atomic Number': '1', 'Atomic Symbol': 'H', 'X': '4.066485', 'Y': '-0.905778', 'Z': '-0.464835'}, {'Center Number': '25', 'Atomic Number': '1', 'Atomic Symbol': 'H', 'X': '3.878832', 'Y': '1.139859', 'Z': '0.689967'}, {'Center Number': '26', 'Atomic Number': '1', 'Atomic Symbol': 'H', 'X': '2.257227', 'Y': '2.002790', 'Z': '0.889307'}], ['Center Number', 'Atomic Number', 'Atomic Symbol', 'X', 'Y', 'Z'])\n"
          ]
        }
      ],
      "source": [
        "xyz_data = ReadXYZLogFile(file_src, transformed_dict)\n",
        "print(xyz_data)"
      ]
    },
    {
      "cell_type": "markdown",
      "metadata": {
        "id": "9Lkx6bcArPq4"
      },
      "source": [
        "multiple files\n"
      ]
    },
    {
      "cell_type": "code",
      "execution_count": null,
      "metadata": {
        "id": "DQB-fYWJqNwH"
      },
      "outputs": [],
      "source": [
        "def AnalyzeXYZLogFiles(targetPath, fileList):\n",
        "    '''\n",
        "    analyze each file\n",
        "\n",
        "    args:\n",
        "        targetPath: target folder\n",
        "        fileList: list of selected files\n",
        "\n",
        "    output:\n",
        "        res: dict\n",
        "    '''\n",
        "    try:\n",
        "        # check\n",
        "        if len(fileList) > 0:\n",
        "            # res\n",
        "            res = []\n",
        "            for item in fileList:\n",
        "                # file path\n",
        "                _file_full_path = str(targetPath) + str(item)\n",
        "                # read file\n",
        "                _res = ReadXYZLogFile(_file_full_path, transformed_dict)\n",
        "                # save\n",
        "                res.append(_res)\n",
        "\n",
        "            # return\n",
        "            return res\n",
        "        else:\n",
        "            raise Exception(\"file list is empty!\")\n",
        "\n",
        "    except Exception as e:\n",
        "        raise"
      ]
    },
    {
      "cell_type": "markdown",
      "metadata": {
        "id": "3iv18hFvrFY5"
      },
      "source": [
        "single file\n"
      ]
    },
    {
      "cell_type": "markdown",
      "metadata": {
        "id": "iHALEPFEo3fZ"
      },
      "source": [
        "# Save as str format (txt)\n"
      ]
    },
    {
      "cell_type": "code",
      "execution_count": 15,
      "metadata": {
        "id": "fa28h3z4osoj"
      },
      "outputs": [],
      "source": [
        "def save_data_to_txt(d, file_name='res', df_format='string'):\n",
        "    '''\n",
        "    save xyz coordination output.log to txt file such as Notepad\n",
        "\n",
        "    args:\n",
        "        d: input data\n",
        "        file name: file name, default: res.txt\n",
        "    '''\n",
        "\n",
        "    # text file path\n",
        "    text_file_path = os.getcwd() + '/' + file_name + '.txt'\n",
        "\n",
        "    # open the text file in write mode\n",
        "    with open(text_file_path, 'w') as f:\n",
        "        # add each df to the text file\n",
        "        for item in d:\n",
        "            # sheet name\n",
        "            file_name_full = item[0]\n",
        "            item_conv = item[1]\n",
        "            item_loc = item[2]\n",
        "            column_names = item[3]\n",
        "\n",
        "            # df\n",
        "            df = pd.DataFrame.from_dict(item_loc)\n",
        "\n",
        "            # check df format\n",
        "            if df_format == 'string':\n",
        "                # df to string\n",
        "                df_string = df.to_string(\n",
        "                    index=False, col_space=10, justify='left')\n",
        "                # Add 6 spaces indent to each line\n",
        "                indented_df_string = '\\n'.join(\n",
        "                    ['      ' + line for line in df_string.split('\\n')])\n",
        "\n",
        "                # sep lin\n",
        "                sep_line = '---------------------------------------------------------------------------------'\n",
        "                # Split the string into lines\n",
        "                lines = indented_df_string.split('\\n')\n",
        "\n",
        "                # find atomic symbol\n",
        "                # atomic_numbers = [item.split(\" \")[0] for item in lines]\n",
        "\n",
        "                # Find the maximum length of the lines\n",
        "                max_length = max(len(line) for line in lines)\n",
        "\n",
        "                # write file name as heading\n",
        "                # f.write('-' * max_length + '\\n')\n",
        "                f.write(\"Input orientation: \"+file_name_full+'\\n')\n",
        "                # f.write('-' * max_length + '\\n')\n",
        "\n",
        "                # write df string to the text file\n",
        "                # header line\n",
        "                # f.write(lines[0] + '\\n')\n",
        "\n",
        "                _header = \"\"\"---------------------------------------------------------------------------------\n",
        " Center      Atomic      Atomic                   Coordinates (Angstroms)\n",
        " Number      Number      Symbol                  X           Y           Z\n",
        "---------------------------------------------------------------------------------\n",
        "\"\"\"\n",
        "                f.write(_header)\n",
        "\n",
        "                # content\n",
        "                f.write(indented_df_string[max_length+1:] + '\\n')\n",
        "\n",
        "                # last line\n",
        "                f.write(sep_line + '\\n')\n",
        "            else:\n",
        "                # write file name as heading\n",
        "                f.write(file_name_full + '\\n')\n",
        "                f.write('-' * len(file_name_full) + '\\n')\n",
        "\n",
        "                # write the header\n",
        "                f.write('\\t'.join(df.columns) + '\\n')\n",
        "\n",
        "                # write the rest of the data frame\n",
        "                for i in range(df.shape[0]):\n",
        "                    f.write('\\t'.join(map(str, df.iloc[i])) + '\\n')\n",
        "                f.write('\\n')\n",
        "    # res\n",
        "    return (True, text_file_path)"
      ]
    },
    {
      "cell_type": "code",
      "execution_count": 16,
      "metadata": {
        "colab": {
          "base_uri": "https://localhost:8080/",
          "height": 35
        },
        "id": "sLPzmDtdta8f",
        "outputId": "ff902244-f070-4068-9eb7-e80114161690"
      },
      "outputs": [
        {
          "data": {
            "text/plain": [
              "'e:\\\\Python Projects\\\\GaussParse\\\\GaussParse\\\\notebook/res.txt'"
            ]
          },
          "execution_count": 16,
          "metadata": {},
          "output_type": "execute_result"
        }
      ],
      "source": [
        "_, res_src = save_data_to_txt([xyz_data])\n",
        "res_src"
      ]
    },
    {
      "cell_type": "code",
      "execution_count": 17,
      "metadata": {
        "colab": {
          "base_uri": "https://localhost:8080/"
        },
        "id": "bce5uu17_5sJ",
        "outputId": "aad2ac01-97d3-4aa5-a5cc-f14e96e488a2"
      },
      "outputs": [
        {
          "name": "stdout",
          "output_type": "stream",
          "text": [
            "Input orientation: limonene\n",
            "---------------------------------------------------------------------------------\n",
            " Center      Atomic      Atomic                   Coordinates (Angstroms)\n",
            " Number      Number      Symbol                  X           Y           Z\n",
            "---------------------------------------------------------------------------------\n",
            "       1            6             C              0.711585   0.035352  -0.301777 \n",
            "       2            6             C             -0.061757   1.300928   0.062906 \n",
            "       3            6             C              0.098166  -1.165339   0.441734 \n",
            "       4            6             C             -1.518987   1.189382  -0.381726 \n",
            "       5            6             C             -2.149119  -0.126629   0.005706 \n",
            "       6            6             C             -1.407352  -1.166378   0.391990 \n",
            "       7            6             C              2.204711   0.106169  -0.060168 \n",
            "       8            6             C             -3.648719  -0.187311  -0.076825 \n",
            "       9            6             C              2.993707  -1.090578  -0.527604 \n",
            "      10            6             C              2.804791   1.137288   0.536148 \n",
            "      11            1             H              0.568108  -0.145304  -1.377639 \n",
            "      12            1             H              0.400316   2.178604  -0.395865 \n",
            "      13            1             H             -0.023604   1.442964   1.149418 \n",
            "      14            1             H              0.467344  -2.102062   0.014276 \n",
            "      15            1             H              0.439450  -1.153109   1.486036 \n",
            "      16            1             H             -1.593159   1.310528  -1.470409 \n",
            "      17            1             H             -2.107651   2.006366   0.049264 \n",
            "      18            1             H             -1.904337  -2.089766   0.681666 \n",
            "      19            1             H             -3.986754   0.068177  -1.086367 \n",
            "      20            1             H             -4.102558   0.541242   0.602209 \n",
            "      21            1             H             -4.026775  -1.179490   0.173781 \n",
            "      22            1             H              2.764888  -1.971431   0.079018 \n",
            "      23            1             H              2.740027  -1.340900  -1.562117 \n",
            "      24            1             H              4.066485  -0.905778  -0.464835 \n",
            "      25            1             H              3.878832   1.139859   0.689967 \n",
            "      26            1             H              2.257227   2.002790   0.889307 \n",
            "---------------------------------------------------------------------------------\n",
            "\n"
          ]
        }
      ],
      "source": [
        "with open(res_src, \"r\") as f:\n",
        "    content = f.read()\n",
        "print(content)"
      ]
    },
    {
      "cell_type": "markdown",
      "metadata": {
        "id": "GHt5sPOp0XxC"
      },
      "source": [
        "load txt file\n"
      ]
    },
    {
      "cell_type": "markdown",
      "metadata": {
        "id": "E9fNbSnF9_KZ"
      },
      "source": [
        "# Save str as xyz format to be open in avogadro\n"
      ]
    },
    {
      "cell_type": "markdown",
      "metadata": {
        "id": "hkSYRcGfZ5sR"
      },
      "source": [
        "load from txt file then convert it to xyz style\n"
      ]
    },
    {
      "cell_type": "code",
      "execution_count": 18,
      "metadata": {
        "id": "9KGSRlJJ-Eic"
      },
      "outputs": [],
      "source": [
        "def generate_xyz_file(atom_list, file_name=\"molecule\"):\n",
        "    \"\"\"\n",
        "    Generates an XYZ file from a list of atom positions with nicely formatted columns.\n",
        "\n",
        "    args:\n",
        "      atom_list {list of tuples}: Each tuple contains an element symbol and its x, y, z coordinates.\n",
        "      file_name {str}: The name of the output XYZ file.\n",
        "\n",
        "    return:\n",
        "      file name\n",
        "\n",
        "    Example input for methane (CH4):\n",
        "    atom_list = [\n",
        "        (\"C\", 0.000000, 0.000000, 0.000000),\n",
        "        (\"H\", 0.000000, 0.000000, 1.089000),\n",
        "        (\"H\", 1.026719, 0.000000, -0.363000),\n",
        "        (\"H\", -0.513360, -0.889165, -0.363000),\n",
        "        (\"H\", -0.513360, 0.889165, -0.363000)\n",
        "    ]\n",
        "    \"\"\"\n",
        "    # number of atoms\n",
        "    num_atoms = len(atom_list)\n",
        "    # file\n",
        "    _file = file_name+\".xyz\"\n",
        "    # save\n",
        "    with open(_file, 'w') as file:\n",
        "        file.write(f\"{num_atoms}\\n\")\n",
        "        file.write(f\"{file_name}\\n\")\n",
        "        for atom in atom_list:\n",
        "            element, x, y, z = atom\n",
        "            # file.write(f\"{element}\\t{x:.6f}\\t{y:.6f}\\t{z:.6f}\\n\")\n",
        "            file.write(f\"{element:<2} {x:> 10.6f} {y:> 10.6f} {z:> 10.6f}\\n\")\n",
        "    # file name\n",
        "    return _file"
      ]
    },
    {
      "cell_type": "code",
      "execution_count": null,
      "metadata": {
        "id": "Tj7ZdpC5lyBL"
      },
      "outputs": [],
      "source": [
        "# Example usage for methane (CH4)\n",
        "methane_atoms = [\n",
        "    (\"C\", 0.000000, 0.000000, 0.000000),\n",
        "    (\"H\", 0.000000, 0.000000, 1.089000),\n",
        "    (\"H\", 1.026719, 0.000000, -0.363000),\n",
        "    (\"H\", -0.513360, -0.889165, -0.363000),\n",
        "    (\"H\", -0.513360, 0.889165, -0.363000)\n",
        "]\n",
        "\n",
        "# generate_xyz_file(methane_atoms, \"methane.xyz\")"
      ]
    },
    {
      "cell_type": "code",
      "execution_count": 19,
      "metadata": {
        "id": "LVUrzo3mjIHD"
      },
      "outputs": [],
      "source": [
        "def SaveToXYZ(file_path):\n",
        "    '''\n",
        "    read the content of txt file\n",
        "\n",
        "    args:\n",
        "        file_path {str}: full name of file with directory and format\n",
        "\n",
        "    return:\n",
        "        res {dict}: dictinaery data\n",
        "    '''\n",
        "    try:\n",
        "        # file info\n",
        "        fileDir, fileName, fileExtension = CheckFileFormat(file_path)\n",
        "\n",
        "        # dict\n",
        "        item_loc = []\n",
        "        item_conv = []\n",
        "        column_names = ['Center Number', 'Atomic Number',\n",
        "                        'Atomic Symbol', 'X', 'Y', 'Z']\n",
        "\n",
        "        # index\n",
        "        k = 1\n",
        "\n",
        "        # file open\n",
        "        with open(file_path, \"r\") as f:\n",
        "            # find\n",
        "            fContent = f.read()\n",
        "\n",
        "            # lines\n",
        "            lines = fContent.split('\\n')\n",
        "\n",
        "            # title\n",
        "            title = lines[0].split(\":\")[1].strip()\n",
        "            sep_1 = lines[1]\n",
        "\n",
        "            # split str by lines\n",
        "            str_sub_lines = lines[4:]\n",
        "\n",
        "            # find the second separator\n",
        "            k = 0\n",
        "            for item in str_sub_lines:\n",
        "                # set regex\n",
        "                _line = item\n",
        "\n",
        "                # find\n",
        "                # force - groups(5)\n",
        "                # _res = re.search(r\"\\s+(\\d+)\\s+(\\d+)\\s+([-+]?\\d*\\.\\d+)\\s+([-+]?\\d*\\.\\d+)\\s+([-+]?\\d*\\.\\d+)\", _line)\n",
        "                # coordinate - groups(6)\n",
        "                _res = re.search(\n",
        "                    r\"\\s+(\\d+)\\s+(\\d+)\\s+(\\w+)\\s+([-+]?\\d*\\.\\d+)\\s+([-+]?\\d*\\.\\d+)\\s+([-+]?\\d*\\.\\d+)\", _line)\n",
        "                # regex 1\n",
        "                # \\s+(\\d+)\\s+(\\d+)\\s+(\\d+)\\s+([-+]?\\d*\\.\\d+)\\s+([-+]?\\d*\\.\\d+)\\s+([-+]?\\d*\\.\\d+)\n",
        "                # regex 2\n",
        "                # \\s+(\\d+)\\s+(\\d+)\\s+(\\w+)\\s+([-+]?\\d*\\.\\d+)\\s+([-+]?\\d*\\.\\d+)\\s+([-+]?\\d*\\.\\d+)\n",
        "                # check\n",
        "                if _res:\n",
        "                    _center_number = _res.group(1)\n",
        "                    _atomic_number = _res.group(2)\n",
        "                    _atomic_symbol = _res.group(3)\n",
        "                    _X = _res.group(4)\n",
        "                    _Y = _res.group(5)\n",
        "                    _Z = _res.group(6)\n",
        "\n",
        "                    # store\n",
        "                    _ele = (_atomic_symbol, float(_X), float(_Y), float(_Z))\n",
        "\n",
        "                    item_loc.append(_ele)\n",
        "                # else:\n",
        "                #   print(f\"{_res},{k}\")\n",
        "\n",
        "                if k > 2 and item.strip() == sep_1:\n",
        "                    sep_2 = item.strip()\n",
        "                    break\n",
        "\n",
        "                # update\n",
        "                k += 1\n",
        "\n",
        "        # save xyz file\n",
        "        _file_name = generate_xyz_file(item_loc, title)\n",
        "\n",
        "        return _file_name, item_conv, item_loc, column_names\n",
        "    except Exception as e:\n",
        "        raise"
      ]
    },
    {
      "cell_type": "code",
      "execution_count": 20,
      "metadata": {
        "colab": {
          "base_uri": "https://localhost:8080/",
          "height": 35
        },
        "id": "MkT9s8Gelm-F",
        "outputId": "611417c7-2413-43aa-bcbe-2a969a5afca7"
      },
      "outputs": [
        {
          "data": {
            "text/plain": [
              "'limonene.xyz'"
            ]
          },
          "execution_count": 20,
          "metadata": {},
          "output_type": "execute_result"
        }
      ],
      "source": [
        "# save\n",
        "xyz_file, _, _, _ = SaveToXYZ(res_src)\n",
        "xyz_file"
      ]
    },
    {
      "cell_type": "markdown",
      "metadata": {
        "id": "4AlGxnx5AS4D"
      },
      "source": [
        "display result\n"
      ]
    },
    {
      "cell_type": "code",
      "execution_count": 21,
      "metadata": {
        "colab": {
          "base_uri": "https://localhost:8080/"
        },
        "id": "ZQaj8uqqAdoz",
        "outputId": "faa18898-b664-4dcd-a5cc-16693257a082"
      },
      "outputs": [
        {
          "name": "stdout",
          "output_type": "stream",
          "text": [
            "26\n",
            "limonene\n",
            "C    0.711585   0.035352  -0.301777\n",
            "C   -0.061757   1.300928   0.062906\n",
            "C    0.098166  -1.165339   0.441734\n",
            "C   -1.518987   1.189382  -0.381726\n",
            "C   -2.149119  -0.126629   0.005706\n",
            "C   -1.407352  -1.166378   0.391990\n",
            "C    2.204711   0.106169  -0.060168\n",
            "C   -3.648719  -0.187311  -0.076825\n",
            "C    2.993707  -1.090578  -0.527604\n",
            "C    2.804791   1.137288   0.536148\n",
            "H    0.568108  -0.145304  -1.377639\n",
            "H    0.400316   2.178604  -0.395865\n",
            "H   -0.023604   1.442964   1.149418\n",
            "H    0.467344  -2.102062   0.014276\n",
            "H    0.439450  -1.153109   1.486036\n",
            "H   -1.593159   1.310528  -1.470409\n",
            "H   -2.107651   2.006366   0.049264\n",
            "H   -1.904337  -2.089766   0.681666\n",
            "H   -3.986754   0.068177  -1.086367\n",
            "H   -4.102558   0.541242   0.602209\n",
            "H   -4.026775  -1.179490   0.173781\n",
            "H    2.764888  -1.971431   0.079018\n",
            "H    2.740027  -1.340900  -1.562117\n",
            "H    4.066485  -0.905778  -0.464835\n",
            "H    3.878832   1.139859   0.689967\n",
            "H    2.257227   2.002790   0.889307\n",
            "\n"
          ]
        }
      ],
      "source": [
        "with open(xyz_file, \"r\") as f:\n",
        "    content = f.read()\n",
        "print(content)"
      ]
    }
  ],
  "metadata": {
    "colab": {
      "collapsed_sections": [
        "xIjsnjREqFpt"
      ],
      "provenance": []
    },
    "kernelspec": {
      "display_name": "Python 3",
      "name": "python3"
    },
    "language_info": {
      "codemirror_mode": {
        "name": "ipython",
        "version": 3
      },
      "file_extension": ".py",
      "mimetype": "text/x-python",
      "name": "python",
      "nbconvert_exporter": "python",
      "pygments_lexer": "ipython3",
      "version": "3.9.5"
    }
  },
  "nbformat": 4,
  "nbformat_minor": 0
}
