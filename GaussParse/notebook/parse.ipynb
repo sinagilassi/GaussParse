{
 "cells": [
  {
   "cell_type": "markdown",
   "metadata": {},
   "source": [
    "# Packages\n"
   ]
  },
  {
   "cell_type": "code",
   "execution_count": 2,
   "metadata": {},
   "outputs": [],
   "source": [
    "# import packages/modules\n",
    "import numpy as np\n",
    "import matplotlib.pyplot as plt\n",
    "import pandas as pd\n",
    "from math import pow, exp, log, sqrt\n",
    "# from scipy import optimize\n",
    "import os\n",
    "import re\n",
    "import csv\n",
    "import openpyxl\n",
    "import xlsxwriter\n",
    "# word\n",
    "from docx import Document"
   ]
  },
  {
   "cell_type": "markdown",
   "metadata": {},
   "source": [
    "### Base Dir\n"
   ]
  },
  {
   "cell_type": "code",
   "execution_count": 3,
   "metadata": {},
   "outputs": [
    {
     "name": "stdout",
     "output_type": "stream",
     "text": [
      "base_dir e:\\Python Projects\\gaussian-utility\\gutility\\notebook\n"
     ]
    }
   ],
   "source": [
    "# current directory\n",
    "base_dir = os.getcwd()\n",
    "print(f\"base_dir {base_dir}\")"
   ]
  },
  {
   "cell_type": "markdown",
   "metadata": {},
   "source": [
    "### List uploaded files from desired folder\n"
   ]
  },
  {
   "cell_type": "code",
   "execution_count": 4,
   "metadata": {},
   "outputs": [],
   "source": [
    "def ListFiles(targetPath, fileExtension='txt'):\n",
    "    '''\n",
    "    list files in a target file\n",
    "\n",
    "    args:\n",
    "        targetPath: target path\n",
    "        fileExtension: file extention, default is empty\n",
    "\n",
    "    return:\n",
    "        a list of files in the target path\n",
    "    '''\n",
    "    try:\n",
    "        # check\n",
    "        if os.path.exists(targetPath):\n",
    "            filesFound = []\n",
    "            for f in os.listdir(targetPath):\n",
    "                if f.endswith('.'+str(fileExtension)):\n",
    "                    filesFound.append(f)\n",
    "            # res\n",
    "            return filesFound\n",
    "        else:\n",
    "            raise Exception(\"target path is not valid.\")\n",
    "\n",
    "    except Exception as e:\n",
    "        raise"
   ]
  },
  {
   "cell_type": "code",
   "execution_count": 5,
   "metadata": {},
   "outputs": [],
   "source": [
    "def CheckFileFormat(filePath):\n",
    "    '''\n",
    "    check file format\n",
    "\n",
    "    args:\n",
    "        filePath: file name dir\n",
    "\n",
    "    return:\n",
    "        file directory, file name, file format\n",
    "    '''\n",
    "    # check file exist\n",
    "    if os.path.isfile(filePath):\n",
    "        # file analysis\n",
    "        fileDir = os.path.dirname(filePath)\n",
    "        fileNameWithExtension = os.path.basename(filePath)\n",
    "        fileName, fileExtension = os.path.splitext(fileNameWithExtension)\n",
    "        # res\n",
    "        return fileDir, fileName, fileExtension\n",
    "    else:\n",
    "        raise Exception('file path is not valid.')"
   ]
  },
  {
   "cell_type": "markdown",
   "metadata": {},
   "source": [
    "### Load file names\n",
    "\n",
    "**_ `file_folder` _**\n",
    "\n",
    "1. no-cal-sol\n",
    "2. isolate-gas\n",
    "3. isolate-sol\n"
   ]
  },
  {
   "cell_type": "code",
   "execution_count": 8,
   "metadata": {},
   "outputs": [
    {
     "name": "stdout",
     "output_type": "stream",
     "text": [
      "res: ['1,2LO.log', 'LDO-1.log', 'LDO-2.log', 'PC1.log', 'PC2-1.log', 'PC2-2.log', 'RC1.log', 'RC2-1.log', 'RC2-2.log', 'TS1-trans.log', 'TS2-1.log', 'TS2-2.log']\n",
      "count:  12\n"
     ]
    }
   ],
   "source": [
    "# log dir\n",
    "target_folder = \"D:\\\\OneDrive\\\\Project Analysis\\\\Computational Chemistry\\\\analysis\\\\terpens epoxidation\\\\extract data\\\\acetone-limonene-mechanism-1\"\n",
    "\n",
    "# list files\n",
    "file_list = ListFiles(target_folder, \"log\")\n",
    "print(\"res:\", file_list)\n",
    "print(\"count: \", len(file_list))"
   ]
  },
  {
   "cell_type": "code",
   "execution_count": 7,
   "metadata": {},
   "outputs": [],
   "source": [
    "# # file folder\n",
    "# file_folder = \"data\\\\isolate-sol\"\n",
    "# # target folder\n",
    "# target_folder = os.path.join(base_dir, file_folder)\n",
    "\n",
    "# # list files\n",
    "# file_list = ListFiles(target_folder, \"log\")\n",
    "# print(\"res:\", file_list)"
   ]
  },
  {
   "cell_type": "markdown",
   "metadata": {},
   "source": [
    "### Sort file list based on model\n"
   ]
  },
  {
   "cell_type": "markdown",
   "metadata": {},
   "source": [
    "Read log file\n"
   ]
  },
  {
   "cell_type": "code",
   "execution_count": 9,
   "metadata": {},
   "outputs": [],
   "source": [
    "def ReadLogFile(filePath):\n",
    "    '''\n",
    "    read the content of log file\n",
    "\n",
    "    args:\n",
    "        filePath: full name of file with directory and format\n",
    "\n",
    "    return:\n",
    "        res: dict\n",
    "    '''\n",
    "    try:\n",
    "        # file info\n",
    "        fileDir, fileName, fileExtension = CheckFileFormat(filePath)\n",
    "\n",
    "        # dict\n",
    "        item_loc = []\n",
    "        item_conv = []\n",
    "        column_names = ['Center Number', 'Atomic Number', 'X', 'Y', 'Z']\n",
    "\n",
    "        # index\n",
    "        k = 1\n",
    "\n",
    "        # file open\n",
    "        with open(filePath, \"r\") as f:\n",
    "            # find\n",
    "            fContent = f.read()\n",
    "\n",
    "            # str regex\n",
    "            str_regex = r'^\\s*(\\w+(\\s+\\w+)*)\\s+(\\S+)\\s+(\\S+)\\s+(YES|NO)\\s*$'\n",
    "\n",
    "            # res\n",
    "            str_res = re.findall(str_regex, fContent, re.M)\n",
    "\n",
    "            # Maximum Force\n",
    "            group_1 = str_res[-4]\n",
    "            # RMS     Force\n",
    "            group_1 = str_res[-3]\n",
    "            # Maximum Displacement\n",
    "            group_1 = str_res[-2]\n",
    "            #  RMS     Displacement\n",
    "            group_1 = str_res[-1]\n",
    "\n",
    "            for item in str_res[-4:]:\n",
    "                # item\n",
    "                _item = item[0]\n",
    "                # value\n",
    "                _value = item[2]\n",
    "                # threshold\n",
    "                _threshold = item[3]\n",
    "                # converged\n",
    "                _converged = item[4]\n",
    "\n",
    "                # store\n",
    "                _res = {\n",
    "                    'Item': _item,\n",
    "                    'Value': _value,\n",
    "                    'Threshold': _threshold,\n",
    "                    'Converged': _converged\n",
    "                }\n",
    "\n",
    "                item_conv.append(_res)\n",
    "\n",
    "            # check status (optional)\n",
    "\n",
    "            # find\n",
    "            # ---------------------------------------------------------------------\n",
    "            # Center     Atomic      Atomic             Coordinates (Angstroms)\n",
    "            # Number     Number       Type             X           Y           Z\n",
    "            # ---------------------------------------------------------------------\n",
    "            # str_sub_1 = 'Number     Number              X              Y              Z'\n",
    "            str_sub_1 = 'Center     Atomic      Atomic             Coordinates (Angstroms)'\n",
    "            i_sub_1 = fContent.rfind(str_sub_1)\n",
    "            str_1 = fContent[i_sub_1:]\n",
    "\n",
    "            # split str by lines\n",
    "            str_sub_lines = str_1.splitlines()\n",
    "\n",
    "            # coordinate\n",
    "            coordinate_1 = str_sub_lines[1]\n",
    "\n",
    "            # separator\n",
    "            sep_1 = str_sub_lines[2]\n",
    "\n",
    "            # find the second separator\n",
    "            k = 0\n",
    "            for item in str_sub_lines:\n",
    "                # set regex\n",
    "                _line = item\n",
    "\n",
    "                # find\n",
    "                # force - groups(5)\n",
    "                # _res = re.search(r\"\\s+(\\d+)\\s+(\\d+)\\s+([-+]?\\d*\\.\\d+)\\s+([-+]?\\d*\\.\\d+)\\s+([-+]?\\d*\\.\\d+)\", _line)\n",
    "                # coordinate - groups(6)\n",
    "                _res = re.search(\n",
    "                    r\"\\s+(\\d+)\\s+(\\d+)\\s+(\\d+)\\s+([-+]?\\d*\\.\\d+)\\s+([-+]?\\d*\\.\\d+)\\s+([-+]?\\d*\\.\\d+)\", _line)\n",
    "                # check\n",
    "                if _res:\n",
    "                    _center_number = _res.group(1)\n",
    "                    _atomic_number = _res.group(2)\n",
    "                    _atomic_type = _res.group(3)\n",
    "                    _X = _res.group(4)\n",
    "                    _Y = _res.group(5)\n",
    "                    _Z = _res.group(6)\n",
    "                    # store\n",
    "                    _ele = {\n",
    "                        'Center Number': _center_number,\n",
    "                        'Atomic Number': _atomic_number,\n",
    "                        'X': _X,\n",
    "                        'Y': _Y,\n",
    "                        'Z': _Z\n",
    "                    }\n",
    "\n",
    "                    item_loc.append(_ele)\n",
    "\n",
    "                if k > 2 and item == sep_1:\n",
    "                    sep_2 = item\n",
    "                    break\n",
    "\n",
    "                # update\n",
    "                k += 1\n",
    "\n",
    "        return fileName, item_conv, item_loc, column_names\n",
    "    except Exception as e:\n",
    "        raise"
   ]
  },
  {
   "cell_type": "code",
   "execution_count": 10,
   "metadata": {},
   "outputs": [],
   "source": [
    "def AnalyzeLogFiles(targetPath, fileList):\n",
    "    '''\n",
    "    analyze each file\n",
    "\n",
    "    args:\n",
    "        targetPath: target folder\n",
    "        fileList: list of selected files\n",
    "\n",
    "    output:\n",
    "        res: dict\n",
    "    '''\n",
    "    try:\n",
    "        # check\n",
    "        if len(fileList) > 0:\n",
    "            # res\n",
    "            res = []\n",
    "            for item in fileList:\n",
    "                # file path\n",
    "                _file_full_path = os.path.join(str(targetPath), str(item))\n",
    "                # read file\n",
    "                _res = ReadLogFile(_file_full_path)\n",
    "                # save\n",
    "                res.append(_res)\n",
    "\n",
    "            # return\n",
    "            return res\n",
    "        else:\n",
    "            raise Exception(\"file list is empty!\")\n",
    "\n",
    "    except Exception as e:\n",
    "        raise"
   ]
  },
  {
   "cell_type": "code",
   "execution_count": 11,
   "metadata": {},
   "outputs": [
    {
     "name": "stdout",
     "output_type": "stream",
     "text": [
      "D:\\OneDrive\\Project Analysis\\Computational Chemistry\\analysis\\terpens epoxidation\\extract data\\acetone-limonene-mechanism-1\n",
      "['1,2LO.log', 'LDO-1.log', 'LDO-2.log', 'PC1.log', 'PC2-1.log', 'PC2-2.log', 'RC1.log', 'RC2-1.log', 'RC2-2.log', 'TS1-trans.log', 'TS2-1.log', 'TS2-2.log']\n"
     ]
    }
   ],
   "source": [
    "# target folder\n",
    "print(target_folder)\n",
    "# file list\n",
    "print(file_list)"
   ]
  },
  {
   "cell_type": "code",
   "execution_count": 12,
   "metadata": {},
   "outputs": [
    {
     "name": "stdout",
     "output_type": "stream",
     "text": [
      "[('1,2LO', [{'Item': 'Maximum Force', 'Value': '0.000002', 'Threshold': '0.000015', 'Converged': 'YES'}, {'Item': 'RMS     Force', 'Value': '0.000000', 'Threshold': '0.000010', 'Converged': 'YES'}, {'Item': 'Maximum Displacement', 'Value': '0.000038', 'Threshold': '0.000060', 'Converged': 'YES'}, {'Item': 'RMS     Displacement', 'Value': '0.000007', 'Threshold': '0.000040', 'Converged': 'YES'}], [{'Center Number': '1', 'Atomic Number': '6', 'X': '0.907440', 'Y': '0.075107', 'Z': '-0.365896'}, {'Center Number': '2', 'Atomic Number': '6', 'X': '0.151492', 'Y': '1.336344', 'Z': '0.049125'}, {'Center Number': '3', 'Atomic Number': '6', 'X': '0.272229', 'Y': '-1.172834', 'Z': '0.282609'}, {'Center Number': '4', 'Atomic Number': '6', 'X': '-1.282978', 'Y': '1.300923', 'Z': '-0.476185'}, {'Center Number': '5', 'Atomic Number': '6', 'X': '-2.019782', 'Y': '0.038336', 'Z': '-0.089697'}, {'Center Number': '6', 'Atomic Number': '6', 'X': '-1.240156', 'Y': '-1.154346', 'Z': '0.285919'}, {'Center Number': '7', 'Atomic Number': '6', 'X': '2.396270', 'Y': '0.102467', 'Z': '-0.088704'}, {'Center Number': '8', 'Atomic Number': '6', 'X': '-3.418876', 'Y': '-0.105342', 'Z': '-0.627141'}, {'Center Number': '9', 'Atomic Number': '6', 'X': '3.175658', 'Y': '-1.071511', 'Z': '-0.624784'}, {'Center Number': '10', 'Atomic Number': '6', 'X': '2.997939', 'Y': '1.077598', 'Z': '0.593390'}, {'Center Number': '11', 'Atomic Number': '1', 'X': '0.788987', 'Y': '-0.034010', 'Z': '-1.454224'}, {'Center Number': '12', 'Atomic Number': '1', 'X': '0.654613', 'Y': '2.221768', 'Z': '-0.346421'}, {'Center Number': '13', 'Atomic Number': '1', 'X': '0.145123', 'Y': '1.423553', 'Z': '1.140145'}, {'Center Number': '14', 'Atomic Number': '1', 'X': '0.604097', 'Y': '-2.074278', 'Z': '-0.236857'}, {'Center Number': '15', 'Atomic Number': '1', 'X': '0.614283', 'Y': '-1.257207', 'Z': '1.321010'}, {'Center Number': '16', 'Atomic Number': '1', 'X': '-1.278514', 'Y': '1.367950', 'Z': '-1.569699'}, {'Center Number': '17', 'Atomic Number': '1', 'X': '-1.850742', 'Y': '2.161307', 'Z': '-0.106739'}, {'Center Number': '18', 'Atomic Number': '1', 'X': '-1.726265', 'Y': '-2.120717', 'Z': '0.174377'}, {'Center Number': '19', 'Atomic Number': '1', 'X': '-3.407290', 'Y': '-0.111912', 'Z': '-1.719251'}, {'Center Number': '20', 'Atomic Number': '1', 'X': '-4.035875', 'Y': '0.734911', 'Z': '-0.297564'}, {'Center Number': '21', 'Atomic Number': '1', 'X': '-3.872041', 'Y': '-1.032687', 'Z': '-0.274188'}, {'Center Number': '22', 'Atomic Number': '1', 'X': '2.916686', 'Y': '-1.990517', 'Z': '-0.091171'}, {'Center Number': '23', 'Atomic Number': '1', 'X': '2.944315', 'Y': '-1.239285', 'Z': '-1.681001'}, {'Center Number': '24', 'Atomic Number': '1', 'X': '4.249428', 'Y': '-0.912386', 'Z': '-0.522558'}, {'Center Number': '25', 'Atomic Number': '1', 'X': '4.067953', 'Y': '1.050372', 'Z': '0.770642'}, {'Center Number': '26', 'Atomic Number': '1', 'X': '2.455799', 'Y': '1.924543', 'Z': '0.996262'}, {'Center Number': '27', 'Atomic Number': '8', 'X': '-1.863246', 'Y': '-0.333984', 'Z': '1.283177'}], ['Center Number', 'Atomic Number', 'X', 'Y', 'Z']), ('LDO-1', [{'Item': 'Maximum Force', 'Value': '0.000000', 'Threshold': '0.000015', 'Converged': 'YES'}, {'Item': 'RMS     Force', 'Value': '0.000000', 'Threshold': '0.000010', 'Converged': 'YES'}, {'Item': 'Maximum Displacement', 'Value': '0.000011', 'Threshold': '0.000060', 'Converged': 'YES'}, {'Item': 'RMS     Displacement', 'Value': '0.000002', 'Threshold': '0.000040', 'Converged': 'YES'}], [{'Center Number': '1', 'Atomic Number': '6', 'X': '0.644741', 'Y': '-0.007098', 'Z': '-0.507424'}, {'Center Number': '2', 'Atomic Number': '6', 'X': '-0.050594', 'Y': '1.286649', 'Z': '-0.080156'}, {'Center Number': '3', 'Atomic Number': '6', 'X': '-0.014642', 'Y': '-1.235541', 'Z': '0.149715'}, {'Center Number': '4', 'Atomic Number': '6', 'X': '-1.514106', 'Y': '1.290475', 'Z': '-0.520856'}, {'Center Number': '5', 'Atomic Number': '6', 'X': '-2.275188', 'Y': '0.066740', 'Z': '-0.067502'}, {'Center Number': '6', 'Atomic Number': '6', 'X': '-1.519672', 'Y': '-1.153234', 'Z': '0.261147'}, {'Center Number': '7', 'Atomic Number': '6', 'X': '2.140727', 'Y': '-0.046198', 'Z': '-0.219109'}, {'Center Number': '8', 'Atomic Number': '6', 'X': '-3.713983', 'Y': '-0.020586', 'Z': '-0.501796'}, {'Center Number': '9', 'Atomic Number': '6', 'X': '2.900604', 'Y': '-1.178179', 'Z': '-0.870123'}, {'Center Number': '10', 'Atomic Number': '6', 'X': '2.894600', 'Y': '1.148236', 'Z': '0.193011'}, {'Center Number': '11', 'Atomic Number': '1', 'X': '0.530458', 'Y': '-0.096933', 'Z': '-1.595329'}, {'Center Number': '12', 'Atomic Number': '1', 'X': '0.443723', 'Y': '2.145403', 'Z': '-0.538053'}, {'Center Number': '13', 'Atomic Number': '1', 'X': '0.017512', 'Y': '1.402970', 'Z': '1.005748'}, {'Center Number': '14', 'Atomic Number': '1', 'X': '0.235417', 'Y': '-2.138675', 'Z': '-0.410997'}, {'Center Number': '15', 'Atomic Number': '1', 'X': '0.390228', 'Y': '-1.362868', 'Z': '1.160319'}, {'Center Number': '16', 'Atomic Number': '1', 'X': '-1.569550', 'Y': '1.335417', 'Z': '-1.614238'}, {'Center Number': '17', 'Atomic Number': '1', 'X': '-2.024845', 'Y': '2.180871', 'Z': '-0.139754'}, {'Center Number': '18', 'Atomic Number': '1', 'X': '-2.050207', 'Y': '-2.100158', 'Z': '0.194641'}, {'Center Number': '19', 'Atomic Number': '1', 'X': '-3.781302', 'Y': '-0.034616', 'Z': '-1.591845'}, {'Center Number': '20', 'Atomic Number': '1', 'X': '-4.270123', 'Y': '0.846998', 'Z': '-0.136737'}, {'Center Number': '21', 'Atomic Number': '1', 'X': '-4.178651', 'Y': '-0.925777', 'Z': '-0.108546'}, {'Center Number': '22', 'Atomic Number': '1', 'X': '2.516599', 'Y': '-2.144957', 'Z': '-0.537865'}, {'Center Number': '23', 'Atomic Number': '1', 'X': '2.802461', 'Y': '-1.124478', 'Z': '-1.956691'}, {'Center Number': '24', 'Atomic Number': '1', 'X': '3.958400', 'Y': '-1.122446', 'Z': '-0.610566'}, {'Center Number': '25', 'Atomic Number': '1', 'X': '3.961940', 'Y': '1.181717', 'Z': '-0.004000'}, {'Center Number': '26', 'Atomic Number': '1', 'X': '2.405504', 'Y': '2.109480', 'Z': '0.294028'}, {'Center Number': '27', 'Atomic Number': '8', 'X': '-2.034177', 'Y': '-0.302050', 'Z': '1.294026'}, {'Center Number': '28', 'Atomic Number': '8', 'X': '2.491368', 'Y': '0.169609', 'Z': '1.152029'}], ['Center Number', 'Atomic Number', 'X', 'Y', 'Z']), ('LDO-2', [{'Item': 'Maximum Force', 'Value': '0.000000', 'Threshold': '0.000015', 'Converged': 'YES'}, {'Item': 'RMS     Force', 'Value': '0.000000', 'Threshold': '0.000010', 'Converged': 'YES'}, {'Item': 'Maximum Displacement', 'Value': '0.000024', 'Threshold': '0.000060', 'Converged': 'YES'}, {'Item': 'RMS     Displacement', 'Value': '0.000005', 'Threshold': '0.000040', 'Converged': 'YES'}], [{'Center Number': '1', 'Atomic Number': '6', 'X': '-0.634374', 'Y': '0.051294', 'Z': '-0.371213'}, {'Center Number': '2', 'Atomic Number': '6', 'X': '0.026165', 'Y': '-1.229161', 'Z': '0.140818'}, {'Center Number': '3', 'Atomic Number': '6', 'X': '0.068578', 'Y': '1.286053', 'Z': '0.212887'}, {'Center Number': '4', 'Atomic Number': '6', 'X': '1.453177', 'Y': '-1.331238', 'Z': '-0.393945'}, {'Center Number': '5', 'Atomic Number': '6', 'X': '2.273906', 'Y': '-0.097100', 'Z': '-0.088365'}, {'Center Number': '6', 'Atomic Number': '6', 'X': '1.577711', 'Y': '1.165935', 'Z': '0.218111'}, {'Center Number': '7', 'Atomic Number': '6', 'X': '-2.133327', 'Y': '0.123041', 'Z': '-0.127783'}, {'Center Number': '8', 'Atomic Number': '6', 'X': '3.675653', 'Y': '-0.078826', 'Z': '-0.637397'}, {'Center Number': '9', 'Atomic Number': '6', 'X': '-2.824249', 'Y': '1.364756', 'Z': '-0.638112'}, {'Center Number': '10', 'Atomic Number': '6', 'X': '-2.767661', 'Y': '-0.637148', 'Z': '0.958885'}, {'Center Number': '11', 'Atomic Number': '1', 'X': '-0.503296', 'Y': '0.075704', 'Z': '-1.463018'}, {'Center Number': '12', 'Atomic Number': '1', 'X': '-0.551639', 'Y': '-2.100764', 'Z': '-0.172884'}, {'Center Number': '13', 'Atomic Number': '1', 'X': '0.053201', 'Y': '-1.220789', 'Z': '1.234299'}, {'Center Number': '14', 'Atomic Number': '1', 'X': '-0.202469', 'Y': '2.179127', 'Z': '-0.354245'}, {'Center Number': '15', 'Atomic Number': '1', 'X': '-0.265465', 'Y': '1.447814', 'Z': '1.245230'}, {'Center Number': '16', 'Atomic Number': '1', 'X': '1.436132', 'Y': '-1.467831', 'Z': '-1.480662'}, {'Center Number': '17', 'Atomic Number': '1', 'X': '1.964290', 'Y': '-2.201663', 'Z': '0.030244'}, {'Center Number': '18', 'Atomic Number': '1', 'X': '2.125961', 'Y': '2.089251', 'Z': '0.047164'}, {'Center Number': '19', 'Atomic Number': '1', 'X': '3.656808', 'Y': '-0.136789', 'Z': '-1.727881'}, {'Center Number': '20', 'Atomic Number': '1', 'X': '4.238137', 'Y': '-0.936921', 'Z': '-0.259801'}, {'Center Number': '21', 'Atomic Number': '1', 'X': '4.191473', 'Y': '0.835893', 'Z': '-0.342192'}, {'Center Number': '22', 'Atomic Number': '1', 'X': '-2.531110', 'Y': '2.241604', 'Z': '-0.057806'}, {'Center Number': '23', 'Atomic Number': '1', 'X': '-2.562695', 'Y': '1.542447', 'Z': '-1.684917'}, {'Center Number': '24', 'Atomic Number': '1', 'X': '-3.905523', 'Y': '1.245138', 'Z': '-0.561419'}, {'Center Number': '25', 'Atomic Number': '1', 'X': '-3.703152', 'Y': '-0.275436', 'Z': '1.374565'}, {'Center Number': '26', 'Atomic Number': '1', 'X': '-2.170238', 'Y': '-1.263952', 'Z': '1.611591'}, {'Center Number': '27', 'Atomic Number': '8', 'X': '2.151508', 'Y': '0.366948', 'Z': '1.260238'}, {'Center Number': '28', 'Atomic Number': '8', 'X': '-2.846995', 'Y': '-1.086756', 'Z': '-0.395435'}], ['Center Number', 'Atomic Number', 'X', 'Y', 'Z']), ('PC1', [{'Item': 'Maximum Force', 'Value': '0.000000', 'Threshold': '0.000015', 'Converged': 'YES'}, {'Item': 'RMS     Force', 'Value': '0.000000', 'Threshold': '0.000010', 'Converged': 'YES'}, {'Item': 'Maximum Displacement', 'Value': '0.000025', 'Threshold': '0.000060', 'Converged': 'YES'}, {'Item': 'RMS     Displacement', 'Value': '0.000004', 'Threshold': '0.000040', 'Converged': 'YES'}], [{'Center Number': '1', 'Atomic Number': '6', 'X': '2.192100', 'Y': '0.252192', 'Z': '-0.129626'}, {'Center Number': '2', 'Atomic Number': '6', 'X': '1.673096', 'Y': '0.898213', 'Z': '1.153957'}, {'Center Number': '3', 'Atomic Number': '6', 'X': '1.023662', 'Y': '-0.339999', 'Z': '-0.945292'}, {'Center Number': '4', 'Atomic Number': '6', 'X': '0.772510', 'Y': '2.089400', 'Z': '0.830750'}, {'Center Number': '5', 'Atomic Number': '6', 'X': '-0.345916', 'Y': '1.737956', 'Z': '-0.124003'}, {'Center Number': '6', 'Atomic Number': '6', 'X': '-0.204444', 'Y': '0.542655', 'Z': '-0.975372'}, {'Center Number': '7', 'Atomic Number': '6', 'X': '3.266006', 'Y': '-0.796829', 'Z': '0.071908'}, {'Center Number': '8', 'Atomic Number': '6', 'X': '-1.241929', 'Y': '2.871948', 'Z': '-0.545454'}, {'Center Number': '9', 'Atomic Number': '6', 'X': '3.891171', 'Y': '-1.333506', 'Z': '-1.190707'}, {'Center Number': '10', 'Atomic Number': '6', 'X': '3.639186', 'Y': '-1.243294', 'Z': '1.271669'}, {'Center Number': '11', 'Atomic Number': '1', 'X': '2.638003', 'Y': '1.050458', 'Z': '-0.741281'}, {'Center Number': '12', 'Atomic Number': '1', 'X': '2.510717', 'Y': '1.240171', 'Z': '1.766242'}, {'Center Number': '13', 'Atomic Number': '1', 'X': '1.116578', 'Y': '0.161782', 'Z': '1.742149'}, {'Center Number': '14', 'Atomic Number': '1', 'X': '1.340137', 'Y': '-0.525686', 'Z': '-1.973865'}, {'Center Number': '15', 'Atomic Number': '1', 'X': '0.737239', 'Y': '-1.308130', 'Z': '-0.517187'}, {'Center Number': '16', 'Atomic Number': '1', 'X': '1.365548', 'Y': '2.889993', 'Z': '0.375228'}, {'Center Number': '17', 'Atomic Number': '1', 'X': '0.331733', 'Y': '2.499952', 'Z': '1.745070'}, {'Center Number': '18', 'Atomic Number': '1', 'X': '-0.784888', 'Y': '0.519224', 'Z': '-1.896435'}, {'Center Number': '19', 'Atomic Number': '1', 'X': '-0.661767', 'Y': '3.644395', 'Z': '-1.054841'}, {'Center Number': '20', 'Atomic Number': '1', 'X': '-1.714456', 'Y': '3.321944', 'Z': '0.331636'}, {'Center Number': '21', 'Atomic Number': '1', 'X': '-2.022382', 'Y': '2.517244', 'Z': '-1.220209'}, {'Center Number': '22', 'Atomic Number': '1', 'X': '3.172429', 'Y': '-1.927757', 'Z': '-1.762288'}, {'Center Number': '23', 'Atomic Number': '1', 'X': '4.216494', 'Y': '-0.514593', 'Z': '-1.839423'}, {'Center Number': '24', 'Atomic Number': '1', 'X': '4.750792', 'Y': '-1.965942', 'Z': '-0.967550'}, {'Center Number': '25', 'Atomic Number': '1', 'X': '4.410737', 'Y': '-2.000308', 'Z': '1.365076'}, {'Center Number': '26', 'Atomic Number': '1', 'X': '3.195901', 'Y': '-0.879330', 'Z': '2.190650'}, {'Center Number': '27', 'Atomic Number': '8', 'X': '-1.028925', 'Y': '0.521591', 'Z': '0.197819'}, {'Center Number': '28', 'Atomic Number': '8', 'X': '-3.557879', 'Y': '-1.203930', 'Z': '1.496935'}, {'Center Number': '29', 'Atomic Number': '6', 'X': '-3.292035', 'Y': '-1.258177', 'Z': '0.315009'}, {'Center Number': '30', 'Atomic Number': '6', 'X': '-4.009217', 'Y': '-0.412699', 'Z': '-0.704435'}, {'Center Number': '31', 'Atomic Number': '6', 'X': '-2.255970', 'Y': '-2.215836', 'Z': '-0.218361'}, {'Center Number': '32', 'Atomic Number': '1', 'X': '-4.403420', 'Y': '-1.045516', 'Z': '-1.503525'}, {'Center Number': '33', 'Atomic Number': '1', 'X': '-4.813879', 'Y': '0.152613', 'Z': '-0.238086'}, {'Center Number': '34', 'Atomic Number': '1', 'X': '-3.284476', 'Y': '0.271281', 'Z': '-1.152638'}, {'Center Number': '35', 'Atomic Number': '1', 'X': '-2.772795', 'Y': '-3.120028', 'Z': '-0.555533'}, {'Center Number': '36', 'Atomic Number': '1', 'X': '-1.733926', 'Y': '-1.792794', 'Z': '-1.077261'}, {'Center Number': '37', 'Atomic Number': '1', 'X': '-1.549205', 'Y': '-2.482397', 'Z': '0.565782'}], ['Center Number', 'Atomic Number', 'X', 'Y', 'Z']), ('PC2-1', [{'Item': 'Maximum Force', 'Value': '0.000000', 'Threshold': '0.000015', 'Converged': 'YES'}, {'Item': 'RMS     Force', 'Value': '0.000000', 'Threshold': '0.000010', 'Converged': 'YES'}, {'Item': 'Maximum Displacement', 'Value': '0.000068', 'Threshold': '0.000060', 'Converged': 'NO'}, {'Item': 'RMS     Displacement', 'Value': '0.000010', 'Threshold': '0.000040', 'Converged': 'YES'}], [{'Center Number': '1', 'Atomic Number': '6', 'X': '-0.721815', 'Y': '1.197575', 'Z': '-0.309277'}, {'Center Number': '2', 'Atomic Number': '6', 'X': '-1.448216', 'Y': '1.121208', 'Z': '1.034566'}, {'Center Number': '3', 'Atomic Number': '6', 'X': '-0.676458', 'Y': '-0.183527', 'Z': '-0.991392'}, {'Center Number': '4', 'Atomic Number': '6', 'X': '-2.902859', 'Y': '0.692903', 'Z': '0.842405'}, {'Center Number': '5', 'Atomic Number': '6', 'X': '-3.048484', 'Y': '-0.581369', 'Z': '0.043745'}, {'Center Number': '6', 'Atomic Number': '6', 'X': '-1.944773', 'Y': '-0.992099', 'Z': '-0.840203'}, {'Center Number': '7', 'Atomic Number': '6', 'X': '0.696502', 'Y': '1.748935', 'Z': '-0.232525'}, {'Center Number': '8', 'Atomic Number': '6', 'X': '-4.457413', 'Y': '-1.034403', 'Z': '-0.232767'}, {'Center Number': '9', 'Atomic Number': '6', 'X': '1.302135', 'Y': '2.172429', 'Z': '-1.550277'}, {'Center Number': '10', 'Atomic Number': '6', 'X': '1.251157', 'Y': '2.328545', 'Z': '1.001162'}, {'Center Number': '11', 'Atomic Number': '1', 'X': '-1.291312', 'Y': '1.881881', 'Z': '-0.951385'}, {'Center Number': '12', 'Atomic Number': '1', 'X': '-1.442451', 'Y': '2.099536', 'Z': '1.518997'}, {'Center Number': '13', 'Atomic Number': '1', 'X': '-0.930950', 'Y': '0.418835', 'Z': '1.695600'}, {'Center Number': '14', 'Atomic Number': '1', 'X': '-0.471193', 'Y': '-0.068346', 'Z': '-2.058407'}, {'Center Number': '15', 'Atomic Number': '1', 'X': '0.145450', 'Y': '-0.769090', 'Z': '-0.564116'}, {'Center Number': '16', 'Atomic Number': '1', 'X': '-3.452482', 'Y': '1.482999', 'Z': '0.318640'}, {'Center Number': '17', 'Atomic Number': '1', 'X': '-3.391977', 'Y': '0.555022', 'Z': '1.812303'}, {'Center Number': '18', 'Atomic Number': '1', 'X': '-2.192532', 'Y': '-1.643569', 'Z': '-1.674940'}, {'Center Number': '19', 'Atomic Number': '1', 'X': '-4.993437', 'Y': '-0.277950', 'Z': '-0.810192'}, {'Center Number': '20', 'Atomic Number': '1', 'X': '-4.993689', 'Y': '-1.189361', 'Z': '0.707322'}, {'Center Number': '21', 'Atomic Number': '1', 'X': '-4.455786', 'Y': '-1.969964', 'Z': '-0.793707'}, {'Center Number': '22', 'Atomic Number': '1', 'X': '1.296571', 'Y': '1.349271', 'Z': '-2.267920'}, {'Center Number': '23', 'Atomic Number': '1', 'X': '0.731046', 'Y': '3.001068', 'Z': '-1.975014'}, {'Center Number': '24', 'Atomic Number': '1', 'X': '2.334005', 'Y': '2.496697', 'Z': '-1.406237'}, {'Center Number': '25', 'Atomic Number': '1', 'X': '2.063357', 'Y': '3.044902', 'Z': '0.919800'}, {'Center Number': '26', 'Atomic Number': '1', 'X': '0.653432', 'Y': '2.395271', 'Z': '1.902160'}, {'Center Number': '27', 'Atomic Number': '8', 'X': '-2.147243', 'Y': '-1.622382', 'Z': '0.432032'}, {'Center Number': '28', 'Atomic Number': '8', 'X': '1.583998', 'Y': '0.996902', 'Z': '0.604022'}, {'Center Number': '29', 'Atomic Number': '8', 'X': '1.964849', 'Y': '-2.332608', 'Z': '0.352083'}, {'Center Number': '30', 'Atomic Number': '6', 'X': '2.876102', 'Y': '-1.564535', 'Z': '0.124339'}, {'Center Number': '31', 'Atomic Number': '6', 'X': '3.100256', 'Y': '-0.985395', 'Z': '-1.249411'}, {'Center Number': '32', 'Atomic Number': '6', 'X': '3.864331', 'Y': '-1.161983', 'Z': '1.187239'}, {'Center Number': '33', 'Atomic Number': '1', 'X': '3.958984', 'Y': '-1.490860', 'Z': '-1.702068'}, {'Center Number': '34', 'Atomic Number': '1', 'X': '2.222462', 'Y': '-1.139454', 'Z': '-1.875803'}, {'Center Number': '35', 'Atomic Number': '1', 'X': '3.336550', 'Y': '0.076849', 'Z': '-1.176816'}, {'Center Number': '36', 'Atomic Number': '1', 'X': '4.884926', 'Y': '-1.310229', 'Z': '0.826564'}, {'Center Number': '37', 'Atomic Number': '1', 'X': '3.734019', 'Y': '-0.095554', 'Z': '1.385518'}, {'Center Number': '38', 'Atomic Number': '1', 'X': '3.699397', 'Y': '-1.732944', 'Z': '2.098992'}], ['Center Number', 'Atomic Number', 'X', 'Y', 'Z']), ('PC2-2', [{'Item': 'Maximum Force', 'Value': '0.000000', 'Threshold': '0.000015', 'Converged': 'YES'}, {'Item': 'RMS     Force', 'Value': '0.000000', 'Threshold': '0.000010', 'Converged': 'YES'}, {'Item': 'Maximum Displacement', 'Value': '0.000042', 'Threshold': '0.000060', 'Converged': 'YES'}, {'Item': 'RMS     Displacement', 'Value': '0.000009', 'Threshold': '0.000040', 'Converged': 'YES'}], [{'Center Number': '1', 'Atomic Number': '6', 'X': '0.846869', 'Y': '0.358623', 'Z': '-0.224021'}, {'Center Number': '2', 'Atomic Number': '6', 'X': '1.226272', 'Y': '-0.888001', 'Z': '0.575856'}, {'Center Number': '3', 'Atomic Number': '6', 'X': '1.941031', 'Y': '1.429439', 'Z': '-0.096693'}, {'Center Number': '4', 'Atomic Number': '6', 'X': '2.458725', 'Y': '-1.548301', 'Z': '-0.038884'}, {'Center Number': '5', 'Atomic Number': '6', 'X': '3.615654', 'Y': '-0.584341', 'Z': '-0.188158'}, {'Center Number': '6', 'Atomic Number': '6', 'X': '3.341695', 'Y': '0.864288', 'Z': '-0.200089'}, {'Center Number': '7', 'Atomic Number': '6', 'X': '-0.514420', 'Y': '0.936871', 'Z': '0.127663'}, {'Center Number': '8', 'Atomic Number': '6', 'X': '4.853279', 'Y': '-1.129356', 'Z': '-0.849840'}, {'Center Number': '9', 'Atomic Number': '6', 'X': '-0.929470', 'Y': '2.165800', 'Z': '-0.644595'}, {'Center Number': '10', 'Atomic Number': '6', 'X': '-1.133955', 'Y': '0.688804', 'Z': '1.438448'}, {'Center Number': '11', 'Atomic Number': '1', 'X': '0.785827', 'Y': '0.065800', 'Z': '-1.282341'}, {'Center Number': '12', 'Atomic Number': '1', 'X': '0.393799', 'Y': '-1.594324', 'Z': '0.588058'}, {'Center Number': '13', 'Atomic Number': '1', 'X': '1.446920', 'Y': '-0.611392', 'Z': '1.611008'}, {'Center Number': '14', 'Atomic Number': '1', 'X': '1.819671', 'Y': '2.188277', 'Z': '-0.872634'}, {'Center Number': '15', 'Atomic Number': '1', 'X': '1.848398', 'Y': '1.940606', 'Z': '0.869541'}, {'Center Number': '16', 'Atomic Number': '1', 'X': '2.215160', 'Y': '-1.943696', 'Z': '-1.030902'}, {'Center Number': '17', 'Atomic Number': '1', 'X': '2.789337', 'Y': '-2.395199', 'Z': '0.571220'}, {'Center Number': '18', 'Atomic Number': '1', 'X': '4.074591', 'Y': '1.504270', 'Z': '-0.685432'}, {'Center Number': '19', 'Atomic Number': '1', 'X': '4.628130', 'Y': '-1.450091', 'Z': '-1.869307'}, {'Center Number': '20', 'Atomic Number': '1', 'X': '5.226216', 'Y': '-1.994154', 'Z': '-0.294602'}, {'Center Number': '21', 'Atomic Number': '1', 'X': '5.636003', 'Y': '-0.370343', 'Z': '-0.883994'}, {'Center Number': '22', 'Atomic Number': '1', 'X': '-0.309347', 'Y': '3.023073', 'Z': '-0.376451'}, {'Center Number': '23', 'Atomic Number': '1', 'X': '-0.828688', 'Y': '1.990403', 'Z': '-1.719227'}, {'Center Number': '24', 'Atomic Number': '1', 'X': '-1.969335', 'Y': '2.409471', 'Z': '-0.424884'}, {'Center Number': '25', 'Atomic Number': '1', 'X': '-1.856305', 'Y': '1.405605', 'Z': '1.819764'}, {'Center Number': '26', 'Atomic Number': '1', 'X': '-0.624509', 'Y': '0.088705', 'Z': '2.184243'}, {'Center Number': '27', 'Atomic Number': '8', 'X': '3.859009', 'Y': '0.220080', 'Z': '0.970758'}, {'Center Number': '28', 'Atomic Number': '8', 'X': '-4.091304', 'Y': '-1.229211', 'Z': '-1.468492'}, {'Center Number': '29', 'Atomic Number': '8', 'X': '-1.557776', 'Y': '-0.030220', 'Z': '0.277591'}, {'Center Number': '30', 'Atomic Number': '6', 'X': '-4.265765', 'Y': '-0.690539', 'Z': '-0.396018'}, {'Center Number': '31', 'Atomic Number': '6', 'X': '-4.537520', 'Y': '0.788626', 'Z': '-0.288171'}, {'Center Number': '32', 'Atomic Number': '6', 'X': '-4.277533', 'Y': '-1.467763', 'Z': '0.894820'}, {'Center Number': '33', 'Atomic Number': '1', 'X': '-4.013342', 'Y': '1.214570', 'Z': '0.568297'}, {'Center Number': '34', 'Atomic Number': '1', 'X': '-4.244504', 'Y': '1.295234', 'Z': '-1.206220'}, {'Center Number': '35', 'Atomic Number': '1', 'X': '-5.610421', 'Y': '0.930873', 'Z': '-0.125004'}, {'Center Number': '36', 'Atomic Number': '1', 'X': '-3.464170', 'Y': '-1.109997', 'Z': '1.530117'}, {'Center Number': '37', 'Atomic Number': '1', 'X': '-5.214978', 'Y': '-1.285768', 'Z': '1.426626'}, {'Center Number': '38', 'Atomic Number': '1', 'X': '-4.157057', 'Y': '-2.532020', 'Z': '0.701374'}], ['Center Number', 'Atomic Number', 'X', 'Y', 'Z']), ('RC1', [{'Item': 'Maximum Force', 'Value': '0.000000', 'Threshold': '0.000015', 'Converged': 'YES'}, {'Item': 'RMS     Force', 'Value': '0.000000', 'Threshold': '0.000010', 'Converged': 'YES'}, {'Item': 'Maximum Displacement', 'Value': '0.000025', 'Threshold': '0.000060', 'Converged': 'YES'}, {'Item': 'RMS     Displacement', 'Value': '0.000004', 'Threshold': '0.000040', 'Converged': 'YES'}], [{'Center Number': '1', 'Atomic Number': '6', 'X': '2.134239', 'Y': '0.410128', 'Z': '0.203442'}, {'Center Number': '2', 'Atomic Number': '6', 'X': '1.098272', 'Y': '0.120832', 'Z': '1.287990'}, {'Center Number': '3', 'Atomic Number': '6', 'X': '1.424573', 'Y': '0.582045', 'Z': '-1.153476'}, {'Center Number': '4', 'Atomic Number': '6', 'X': '0.128942', 'Y': '1.291150', 'Z': '1.427724'}, {'Center Number': '5', 'Atomic Number': '6', 'X': '-0.431073', 'Y': '1.732969', 'Z': '0.097463'}, {'Center Number': '6', 'Atomic Number': '6', 'X': '0.151533', 'Y': '1.381304', 'Z': '-1.051516'}, {'Center Number': '7', 'Atomic Number': '6', 'X': '3.245822', 'Y': '-0.611611', 'Z': '0.090584'}, {'Center Number': '8', 'Atomic Number': '6', 'X': '-1.657986', 'Y': '2.598695', 'Z': '0.155604'}, {'Center Number': '9', 'Atomic Number': '6', 'X': '4.345168', 'Y': '-0.266471', 'Z': '-0.881555'}, {'Center Number': '10', 'Atomic Number': '6', 'X': '3.265415', 'Y': '-1.754029', 'Z': '0.778603'}, {'Center Number': '11', 'Atomic Number': '1', 'X': '2.606539', 'Y': '1.374029', 'Z': '0.444357'}, {'Center Number': '12', 'Atomic Number': '1', 'X': '1.590675', 'Y': '-0.073780', 'Z': '2.244143'}, {'Center Number': '13', 'Atomic Number': '1', 'X': '0.532112', 'Y': '-0.779411', 'Z': '1.020802'}, {'Center Number': '14', 'Atomic Number': '1', 'X': '2.092752', 'Y': '1.074869', 'Z': '-1.866225'}, {'Center Number': '15', 'Atomic Number': '1', 'X': '1.218854', 'Y': '-0.410528', 'Z': '-1.577621'}, {'Center Number': '16', 'Atomic Number': '1', 'X': '0.629374', 'Y': '2.144922', 'Z': '1.903607'}, {'Center Number': '17', 'Atomic Number': '1', 'X': '-0.699991', 'Y': '1.017570', 'Z': '2.087649'}, {'Center Number': '18', 'Atomic Number': '1', 'X': '-0.292769', 'Y': '1.708268', 'Z': '-1.990094'}, {'Center Number': '19', 'Atomic Number': '1', 'X': '-1.458490', 'Y': '3.498303', 'Z': '0.747151'}, {'Center Number': '20', 'Atomic Number': '1', 'X': '-2.476615', 'Y': '2.066302', 'Z': '0.649825'}, {'Center Number': '21', 'Atomic Number': '1', 'X': '-1.986906', 'Y': '2.905663', 'Z': '-0.838891'}, {'Center Number': '22', 'Atomic Number': '1', 'X': '3.975821', 'Y': '-0.281410', 'Z': '-1.911025'}, {'Center Number': '23', 'Atomic Number': '1', 'X': '4.724196', 'Y': '0.742602', 'Z': '-0.693386'}, {'Center Number': '24', 'Atomic Number': '1', 'X': '5.173944', 'Y': '-0.971280', 'Z': '-0.808499'}, {'Center Number': '25', 'Atomic Number': '1', 'X': '4.081438', 'Y': '-2.459074', 'Z': '0.659133'}, {'Center Number': '26', 'Atomic Number': '1', 'X': '2.480938', 'Y': '-2.025134', 'Z': '1.474932'}, {'Center Number': '27', 'Atomic Number': '8', 'X': '-2.295417', 'Y': '-0.580540', 'Z': '1.000557'}, {'Center Number': '28', 'Atomic Number': '8', 'X': '-3.292871', 'Y': '-1.635676', 'Z': '0.781405'}, {'Center Number': '29', 'Atomic Number': '6', 'X': '-2.592041', 'Y': '-1.054515', 'Z': '-0.277025'}, {'Center Number': '30', 'Atomic Number': '6', 'X': '-3.380668', 'Y': '-0.133156', 'Z': '-1.157927'}, {'Center Number': '31', 'Atomic Number': '6', 'X': '-1.547867', 'Y': '-1.914898', 'Z': '-0.921088'}, {'Center Number': '32', 'Atomic Number': '1', 'X': '-3.910239', 'Y': '-0.715110', 'Z': '-1.914526'}, {'Center Number': '33', 'Atomic Number': '1', 'X': '-4.097327', 'Y': '0.428835', 'Z': '-0.560414'}, {'Center Number': '34', 'Atomic Number': '1', 'X': '-2.700886', 'Y': '0.555553', 'Z': '-1.662825'}, {'Center Number': '35', 'Atomic Number': '1', 'X': '-2.018391', 'Y': '-2.579648', 'Z': '-1.648083'}, {'Center Number': '36', 'Atomic Number': '1', 'X': '-0.831322', 'Y': '-1.280813', 'Z': '-1.444720'}, {'Center Number': '37', 'Atomic Number': '1', 'X': '-1.033371', 'Y': '-2.505658', 'Z': '-0.163928'}], ['Center Number', 'Atomic Number', 'X', 'Y', 'Z']), ('RC2-1', [{'Item': 'Maximum Force', 'Value': '0.000000', 'Threshold': '0.000015', 'Converged': 'YES'}, {'Item': 'RMS     Force', 'Value': '0.000000', 'Threshold': '0.000010', 'Converged': 'YES'}, {'Item': 'Maximum Displacement', 'Value': '0.000029', 'Threshold': '0.000060', 'Converged': 'YES'}, {'Item': 'RMS     Displacement', 'Value': '0.000006', 'Threshold': '0.000040', 'Converged': 'YES'}], [{'Center Number': '1', 'Atomic Number': '6', 'X': '-0.812254', 'Y': '1.327070', 'Z': '0.122585'}, {'Center Number': '2', 'Atomic Number': '6', 'X': '-1.203798', 'Y': '0.529472', 'Z': '1.365530'}, {'Center Number': '3', 'Atomic Number': '6', 'X': '-0.968281', 'Y': '0.465258', 'Z': '-1.147835'}, {'Center Number': '4', 'Atomic Number': '6', 'X': '-2.683362', 'Y': '0.149726', 'Z': '1.317688'}, {'Center Number': '5', 'Atomic Number': '6', 'X': '-3.073125', 'Y': '-0.550231', 'Z': '0.035599'}, {'Center Number': '6', 'Atomic Number': '6', 'X': '-2.215912', 'Y': '-0.389828', 'Z': '-1.151971'}, {'Center Number': '7', 'Atomic Number': '6', 'X': '0.569850', 'Y': '1.944805', 'Z': '0.172107'}, {'Center Number': '8', 'Atomic Number': '6', 'X': '-4.532266', 'Y': '-0.888620', 'Z': '-0.118955'}, {'Center Number': '9', 'Atomic Number': '6', 'X': '0.940663', 'Y': '2.797910', 'Z': '-1.014071'}, {'Center Number': '10', 'Atomic Number': '6', 'X': '1.424455', 'Y': '1.760174', 'Z': '1.179299'}, {'Center Number': '11', 'Atomic Number': '1', 'X': '-1.523593', 'Y': '2.162170', 'Z': '0.031940'}, {'Center Number': '12', 'Atomic Number': '1', 'X': '-1.021183', 'Y': '1.123603', 'Z': '2.264100'}, {'Center Number': '13', 'Atomic Number': '1', 'X': '-0.585037', 'Y': '-0.370358', 'Z': '1.433912'}, {'Center Number': '14', 'Atomic Number': '1', 'X': '-0.988390', 'Y': '1.105180', 'Z': '-2.032807'}, {'Center Number': '15', 'Atomic Number': '1', 'X': '-0.100849', 'Y': '-0.196964', 'Z': '-1.241283'}, {'Center Number': '16', 'Atomic Number': '1', 'X': '-3.299583', 'Y': '1.051094', 'Z': '1.409679'}, {'Center Number': '17', 'Atomic Number': '1', 'X': '-2.942480', 'Y': '-0.499812', 'Z': '2.160484'}, {'Center Number': '18', 'Atomic Number': '1', 'X': '-2.680335', 'Y': '-0.545427', 'Z': '-2.123088'}, {'Center Number': '19', 'Atomic Number': '1', 'X': '-5.137156', 'Y': '0.020667', 'Z': '-0.102515'}, {'Center Number': '20', 'Atomic Number': '1', 'X': '-4.858552', 'Y': '-1.530101', 'Z': '0.704135'}, {'Center Number': '21', 'Atomic Number': '1', 'X': '-4.707156', 'Y': '-1.410646', 'Z': '-1.060722'}, {'Center Number': '22', 'Atomic Number': '1', 'X': '1.065647', 'Y': '2.183927', 'Z': '-1.911558'}, {'Center Number': '23', 'Atomic Number': '1', 'X': '0.152221', 'Y': '3.524613', 'Z': '-1.232380'}, {'Center Number': '24', 'Atomic Number': '1', 'X': '1.873597', 'Y': '3.335371', 'Z': '-0.839141'}, {'Center Number': '25', 'Atomic Number': '1', 'X': '2.398466', 'Y': '2.239996', 'Z': '1.170591'}, {'Center Number': '26', 'Atomic Number': '1', 'X': '1.193384', 'Y': '1.135312', 'Z': '2.033936'}, {'Center Number': '27', 'Atomic Number': '8', 'X': '-2.171906', 'Y': '-1.587182', 'Z': '-0.363822'}, {'Center Number': '28', 'Atomic Number': '8', 'X': '1.602318', 'Y': '-1.277530', 'Z': '0.321611'}, {'Center Number': '29', 'Atomic Number': '8', 'X': '2.461884', 'Y': '-2.328079', 'Z': '-0.241818'}, {'Center Number': '30', 'Atomic Number': '6', 'X': '2.915418', 'Y': '-1.019199', 'Z': '-0.065107'}, {'Center Number': '31', 'Atomic Number': '6', 'X': '3.093277', 'Y': '-0.214019', 'Z': '-1.317674'}, {'Center Number': '32', 'Atomic Number': '6', 'X': '3.903312', 'Y': '-0.819228', 'Z': '1.045258'}, {'Center Number': '33', 'Atomic Number': '1', 'X': '4.052069', 'Y': '-0.462044', 'Z': '-1.777335'}, {'Center Number': '34', 'Atomic Number': '1', 'X': '2.286089', 'Y': '-0.433369', 'Z': '-2.016146'}, {'Center Number': '35', 'Atomic Number': '1', 'X': '3.088157', 'Y': '0.849622', 'Z': '-1.074458'}, {'Center Number': '36', 'Atomic Number': '1', 'X': '4.905670', 'Y': '-1.069066', 'Z': '0.692243'}, {'Center Number': '37', 'Atomic Number': '1', 'X': '3.899721', 'Y': '0.225640', 'Z': '1.358898'}, {'Center Number': '38', 'Atomic Number': '1', 'X': '3.643062', 'Y': '-1.456818', 'Z': '1.889024'}], ['Center Number', 'Atomic Number', 'X', 'Y', 'Z']), ('RC2-2', [{'Item': 'Maximum Force', 'Value': '0.000000', 'Threshold': '0.000015', 'Converged': 'YES'}, {'Item': 'RMS     Force', 'Value': '0.000000', 'Threshold': '0.000010', 'Converged': 'YES'}, {'Item': 'Maximum Displacement', 'Value': '0.000006', 'Threshold': '0.000060', 'Converged': 'YES'}, {'Item': 'RMS     Displacement', 'Value': '0.000001', 'Threshold': '0.000040', 'Converged': 'YES'}], [{'Center Number': '1', 'Atomic Number': '6', 'X': '0.537459', 'Y': '0.716162', 'Z': '-0.093828'}, {'Center Number': '2', 'Atomic Number': '6', 'X': '0.833008', 'Y': '-0.307837', 'Z': '1.001587'}, {'Center Number': '3', 'Atomic Number': '6', 'X': '1.805620', 'Y': '1.534901', 'Z': '-0.410282'}, {'Center Number': '4', 'Atomic Number': '6', 'X': '1.829289', 'Y': '-1.348148', 'Z': '0.493108'}, {'Center Number': '5', 'Atomic Number': '6', 'X': '3.083875', 'Y': '-0.727009', 'Z': '-0.080357'}, {'Center Number': '6', 'Atomic Number': '6', 'X': '3.053988', 'Y': '0.684403', 'Z': '-0.505809'}, {'Center Number': '7', 'Atomic Number': '6', 'X': '-0.626368', 'Y': '1.639350', 'Z': '0.196269'}, {'Center Number': '8', 'Atomic Number': '6', 'X': '4.080049', 'Y': '-1.681357', 'Z': '-0.683882'}, {'Center Number': '9', 'Atomic Number': '6', 'X': '-1.188083', 'Y': '2.363970', 'Z': '-0.998466'}, {'Center Number': '10', 'Atomic Number': '6', 'X': '-1.125900', 'Y': '1.818937', 'Z': '1.419975'}, {'Center Number': '11', 'Atomic Number': '1', 'X': '0.280523', 'Y': '0.155040', 'Z': '-1.002449'}, {'Center Number': '12', 'Atomic Number': '1', 'X': '-0.091779', 'Y': '-0.806724', 'Z': '1.301258'}, {'Center Number': '13', 'Atomic Number': '1', 'X': '1.240868', 'Y': '0.193228', 'Z': '1.885077'}, {'Center Number': '14', 'Atomic Number': '1', 'X': '1.681881', 'Y': '2.075218', 'Z': '-1.351189'}, {'Center Number': '15', 'Atomic Number': '1', 'X': '1.960877', 'Y': '2.283959', 'Z': '0.374612'}, {'Center Number': '16', 'Atomic Number': '1', 'X': '1.360577', 'Y': '-1.951454', 'Z': '-0.292346'}, {'Center Number': '17', 'Atomic Number': '1', 'X': '2.118290', 'Y': '-2.035757', 'Z': '1.294951'}, {'Center Number': '18', 'Atomic Number': '1', 'X': '3.785981', 'Y': '0.993924', 'Z': '-1.248151'}, {'Center Number': '19', 'Atomic Number': '1', 'X': '3.631092', 'Y': '-2.218613', 'Z': '-1.522127'}, {'Center Number': '20', 'Atomic Number': '1', 'X': '4.396282', 'Y': '-2.415761', 'Z': '0.061831'}, {'Center Number': '21', 'Atomic Number': '1', 'X': '4.959273', 'Y': '-1.143174', 'Z': '-1.040658'}, {'Center Number': '22', 'Atomic Number': '1', 'X': '-0.426189', 'Y': '2.983926', 'Z': '-1.479405'}, {'Center Number': '23', 'Atomic Number': '1', 'X': '-1.532931', 'Y': '1.639894', 'Z': '-1.743745'}, {'Center Number': '24', 'Atomic Number': '1', 'X': '-2.024986', 'Y': '3.006283', 'Z': '-0.720743'}, {'Center Number': '25', 'Atomic Number': '1', 'X': '-1.948676', 'Y': '2.506154', 'Z': '1.590755'}, {'Center Number': '26', 'Atomic Number': '1', 'X': '-0.734520', 'Y': '1.297164', 'Z': '2.285832'}, {'Center Number': '27', 'Atomic Number': '8', 'X': '3.656377', 'Y': '0.299078', 'Z': '0.736911'}, {'Center Number': '28', 'Atomic Number': '8', 'X': '-3.033799', 'Y': '-1.900078', 'Z': '-1.038519'}, {'Center Number': '29', 'Atomic Number': '8', 'X': '-1.903341', 'Y': '-0.990052', 'Z': '-0.814861'}, {'Center Number': '30', 'Atomic Number': '6', 'X': '-3.088958', 'Y': '-0.878659', 'Z': '-0.087838'}, {'Center Number': '31', 'Atomic Number': '6', 'X': '-3.968934', 'Y': '0.284979', 'Z': '-0.432206'}, {'Center Number': '32', 'Atomic Number': '6', 'X': '-3.026104', 'Y': '-1.315109', 'Z': '1.344820'}, {'Center Number': '33', 'Atomic Number': '1', 'X': '-3.655349', 'Y': '1.160658', 'Z': '0.138261'}, {'Center Number': '34', 'Atomic Number': '1', 'X': '-3.901768', 'Y': '0.496618', 'Z': '-1.498638'}, {'Center Number': '35', 'Atomic Number': '1', 'X': '-5.002398', 'Y': '0.051152', 'Z': '-0.169523'}, {'Center Number': '36', 'Atomic Number': '1', 'X': '-2.667908', 'Y': '-0.488316', 'Z': '1.960804'}, {'Center Number': '37', 'Atomic Number': '1', 'X': '-4.023924', 'Y': '-1.596454', 'Z': '1.686550'}, {'Center Number': '38', 'Atomic Number': '1', 'X': '-2.352769', 'Y': '-2.166051', 'Z': '1.442234'}], ['Center Number', 'Atomic Number', 'X', 'Y', 'Z']), ('TS1-trans', [{'Item': 'Maximum Force', 'Value': '0.000000', 'Threshold': '0.000015', 'Converged': 'YES'}, {'Item': 'RMS     Force', 'Value': '0.000000', 'Threshold': '0.000010', 'Converged': 'YES'}, {'Item': 'Maximum Displacement', 'Value': '0.000056', 'Threshold': '0.000060', 'Converged': 'YES'}, {'Item': 'RMS     Displacement', 'Value': '0.000012', 'Threshold': '0.000040', 'Converged': 'YES'}], [{'Center Number': '1', 'Atomic Number': '6', 'X': '2.036076', 'Y': '0.440293', 'Z': '-0.165593'}, {'Center Number': '2', 'Atomic Number': '6', 'X': '1.392834', 'Y': '1.027560', 'Z': '1.088946'}, {'Center Number': '3', 'Atomic Number': '6', 'X': '0.966855', 'Y': '-0.299918', 'Z': '-0.991392'}, {'Center Number': '4', 'Atomic Number': '6', 'X': '0.326845', 'Y': '2.055436', 'Z': '0.713834'}, {'Center Number': '5', 'Atomic Number': '6', 'X': '-0.602371', 'Y': '1.590343', 'Z': '-0.366995'}, {'Center Number': '6', 'Atomic Number': '6', 'X': '-0.326416', 'Y': '0.455835', 'Z': '-1.078847'}, {'Center Number': '7', 'Atomic Number': '6', 'X': '3.223654', 'Y': '-0.464454', 'Z': '0.087696'}, {'Center Number': '8', 'Atomic Number': '6', 'X': '-1.789811', 'Y': '2.449711', 'Z': '-0.651161'}, {'Center Number': '9', 'Atomic Number': '6', 'X': '3.935048', 'Y': '-0.957364', 'Z': '-1.146529'}, {'Center Number': '10', 'Atomic Number': '6', 'X': '3.623794', 'Y': '-0.822878', 'Z': '1.307826'}, {'Center Number': '11', 'Atomic Number': '1', 'X': '2.396837', 'Y': '1.277718', 'Z': '-0.780913'}, {'Center Number': '12', 'Atomic Number': '1', 'X': '2.148214', 'Y': '1.504791', 'Z': '1.716852'}, {'Center Number': '13', 'Atomic Number': '1', 'X': '0.933347', 'Y': '0.224685', 'Z': '1.672603'}, {'Center Number': '14', 'Atomic Number': '1', 'X': '1.324583', 'Y': '-0.477274', 'Z': '-2.009514'}, {'Center Number': '15', 'Atomic Number': '1', 'X': '0.779492', 'Y': '-1.286456', 'Z': '-0.551235'}, {'Center Number': '16', 'Atomic Number': '1', 'X': '0.797876', 'Y': '2.982907', 'Z': '0.361633'}, {'Center Number': '17', 'Atomic Number': '1', 'X': '-0.271905', 'Y': '2.334763', 'Z': '1.586504'}, {'Center Number': '18', 'Atomic Number': '1', 'X': '-1.013702', 'Y': '0.175700', 'Z': '-1.872542'}, {'Center Number': '19', 'Atomic Number': '1', 'X': '-1.448784', 'Y': '3.450943', 'Z': '-0.932754'}, {'Center Number': '20', 'Atomic Number': '1', 'X': '-2.399671', 'Y': '2.558430', 'Z': '0.249633'}, {'Center Number': '21', 'Atomic Number': '1', 'X': '-2.404325', 'Y': '2.050764', 'Z': '-1.457218'}, {'Center Number': '22', 'Atomic Number': '1', 'X': '3.304936', 'Y': '-1.649891', 'Z': '-1.712127'}, {'Center Number': '23', 'Atomic Number': '1', 'X': '4.173775', 'Y': '-0.124067', 'Z': '-1.814274'}, {'Center Number': '24', 'Atomic Number': '1', 'X': '4.859181', 'Y': '-1.475174', 'Z': '-0.888717'}, {'Center Number': '25', 'Atomic Number': '1', 'X': '4.480629', 'Y': '-1.475119', 'Z': '1.439579'}, {'Center Number': '26', 'Atomic Number': '1', 'X': '3.119871', 'Y': '-0.488396', 'Z': '2.206522'}, {'Center Number': '27', 'Atomic Number': '8', 'X': '-1.396845', 'Y': '-0.181975', 'Z': '0.595410'}, {'Center Number': '28', 'Atomic Number': '8', 'X': '-2.466816', 'Y': '-1.275837', 'Z': '1.580199'}, {'Center Number': '29', 'Atomic Number': '6', 'X': '-2.467310', 'Y': '-1.082609', 'Z': '0.251526'}, {'Center Number': '30', 'Atomic Number': '6', 'X': '-3.683504', 'Y': '-0.377076', 'Z': '-0.313945'}, {'Center Number': '31', 'Atomic Number': '6', 'X': '-2.003066', 'Y': '-2.273502', 'Z': '-0.567346'}, {'Center Number': '32', 'Atomic Number': '1', 'X': '-4.533646', 'Y': '-1.062395', 'Z': '-0.284536'}, {'Center Number': '33', 'Atomic Number': '1', 'X': '-3.911538', 'Y': '0.500220', 'Z': '0.291356'}, {'Center Number': '34', 'Atomic Number': '1', 'X': '-3.525904', 'Y': '-0.077962', 'Z': '-1.352505'}, {'Center Number': '35', 'Atomic Number': '1', 'X': '-2.792202', 'Y': '-3.028765', 'Z': '-0.565847'}, {'Center Number': '36', 'Atomic Number': '1', 'X': '-1.794827', 'Y': '-2.002843', 'Z': '-1.604344'}, {'Center Number': '37', 'Atomic Number': '1', 'X': '-1.108714', 'Y': '-2.698352', 'Z': '-0.111145'}], ['Center Number', 'Atomic Number', 'X', 'Y', 'Z']), ('TS2-1', [{'Item': 'Maximum Force', 'Value': '0.000002', 'Threshold': '0.000450', 'Converged': 'YES'}, {'Item': 'RMS     Force', 'Value': '0.000001', 'Threshold': '0.000300', 'Converged': 'YES'}, {'Item': 'Maximum Displacement', 'Value': '0.001045', 'Threshold': '0.001800', 'Converged': 'YES'}, {'Item': 'RMS     Displacement', 'Value': '0.000229', 'Threshold': '0.001200', 'Converged': 'YES'}], [{'Center Number': '1', 'Atomic Number': '6', 'X': '0.756526', 'Y': '1.145708', 'Z': '0.028137'}, {'Center Number': '2', 'Atomic Number': '6', 'X': '1.297526', 'Y': '0.616477', 'Z': '-1.299452'}, {'Center Number': '3', 'Atomic Number': '6', 'X': '1.006401', 'Y': '0.140551', 'Z': '1.176771'}, {'Center Number': '4', 'Atomic Number': '6', 'X': '2.813748', 'Y': '0.442633', 'Z': '-1.228409'}, {'Center Number': '5', 'Atomic Number': '6', 'X': '3.259057', 'Y': '-0.395713', 'Z': '-0.052374'}, {'Center Number': '6', 'Atomic Number': '6', 'X': '2.357211', 'Y': '-0.534409', 'Z': '1.103969'}, {'Center Number': '7', 'Atomic Number': '6', 'X': '-0.691837', 'Y': '1.559196', 'Z': '0.006731'}, {'Center Number': '8', 'Atomic Number': '6', 'X': '4.745459', 'Y': '-0.565307', 'Z': '0.116414'}, {'Center Number': '9', 'Atomic Number': '6', 'X': '-1.236158', 'Y': '2.143594', 'Z': '1.272588'}, {'Center Number': '10', 'Atomic Number': '6', 'X': '-1.486250', 'Y': '1.421392', 'Z': '-1.097582'}, {'Center Number': '11', 'Atomic Number': '1', 'X': '1.319252', 'Y': '2.058874', 'Z': '0.275996'}, {'Center Number': '12', 'Atomic Number': '1', 'X': '1.067290', 'Y': '1.316981', 'Z': '-2.105234'}, {'Center Number': '13', 'Atomic Number': '1', 'X': '0.815551', 'Y': '-0.335844', 'Z': '-1.538476'}, {'Center Number': '14', 'Atomic Number': '1', 'X': '0.930355', 'Y': '0.651083', 'Z': '2.138979'}, {'Center Number': '15', 'Atomic Number': '1', 'X': '0.231506', 'Y': '-0.632040', 'Z': '1.151838'}, {'Center Number': '16', 'Atomic Number': '1', 'X': '3.294848', 'Y': '1.423480', 'Z': '-1.145644'}, {'Center Number': '17', 'Atomic Number': '1', 'X': '3.188233', 'Y': '-0.019134', 'Z': '-2.147612'}, {'Center Number': '18', 'Atomic Number': '1', 'X': '2.810221', 'Y': '-0.779133', 'Z': '2.061751'}, {'Center Number': '19', 'Atomic Number': '1', 'X': '5.224004', 'Y': '0.405105', 'Z': '0.265197'}, {'Center Number': '20', 'Atomic Number': '1', 'X': '5.174783', 'Y': '-1.024046', 'Z': '-0.778251'}, {'Center Number': '21', 'Atomic Number': '1', 'X': '4.963652', 'Y': '-1.201005', 'Z': '0.975530'}, {'Center Number': '22', 'Atomic Number': '1', 'X': '-1.257520', 'Y': '1.397423', 'Z': '2.071422'}, {'Center Number': '23', 'Atomic Number': '1', 'X': '-0.579479', 'Y': '2.950829', 'Z': '1.611649'}, {'Center Number': '24', 'Atomic Number': '1', 'X': '-2.241627', 'Y': '2.539695', 'Z': '1.135722'}, {'Center Number': '25', 'Atomic Number': '1', 'X': '-2.496526', 'Y': '1.812494', 'Z': '-1.081922'}, {'Center Number': '26', 'Atomic Number': '1', 'X': '-1.086427', 'Y': '1.144726', 'Z': '-2.062011'}, {'Center Number': '27', 'Atomic Number': '8', 'X': '2.491461', 'Y': '-1.587129', 'Z': '0.141557'}, {'Center Number': '28', 'Atomic Number': '8', 'X': '-1.686887', 'Y': '-0.448242', 'Z': '-0.485793'}, {'Center Number': '29', 'Atomic Number': '8', 'X': '-2.417701', 'Y': '-2.088878', 'Z': '-0.246949'}, {'Center Number': '30', 'Atomic Number': '6', 'X': '-2.986358', 'Y': '-0.890161', 'Z': '-0.041815'}, {'Center Number': '31', 'Atomic Number': '6', 'X': '-3.274945', 'Y': '-0.548262', 'Z': '1.405466'}, {'Center Number': '32', 'Atomic Number': '6', 'X': '-4.101337', 'Y': '-0.525343', 'Z': '-1.003238'}, {'Center Number': '33', 'Atomic Number': '1', 'X': '-4.120896', 'Y': '-1.149873', 'Z': '1.746047'}, {'Center Number': '34', 'Atomic Number': '1', 'X': '-2.402030', 'Y': '-0.785563', 'Z': '2.014876'}, {'Center Number': '35', 'Atomic Number': '1', 'X': '-3.536173', 'Y': '0.504643', 'Z': '1.525356'}, {'Center Number': '36', 'Atomic Number': '1', 'X': '-4.963240', 'Y': '-1.163076', 'Z': '-0.795024'}, {'Center Number': '37', 'Atomic Number': '1', 'X': '-4.414808', 'Y': '0.513582', 'Z': '-0.886139'}, {'Center Number': '38', 'Atomic Number': '1', 'X': '-3.770215', 'Y': '-0.697354', 'Z': '-2.027801'}], ['Center Number', 'Atomic Number', 'X', 'Y', 'Z']), ('TS2-2', [{'Item': 'Maximum Force', 'Value': '0.000004', 'Threshold': '0.000450', 'Converged': 'YES'}, {'Item': 'RMS     Force', 'Value': '0.000001', 'Threshold': '0.000300', 'Converged': 'YES'}, {'Item': 'Maximum Displacement', 'Value': '0.001481', 'Threshold': '0.001800', 'Converged': 'YES'}, {'Item': 'RMS     Displacement', 'Value': '0.000267', 'Threshold': '0.001200', 'Converged': 'YES'}], [{'Center Number': '1', 'Atomic Number': '6', 'X': '-0.701566', 'Y': '-0.473115', 'Z': '-0.124475'}, {'Center Number': '2', 'Atomic Number': '6', 'X': '-1.053454', 'Y': '0.800954', 'Z': '0.642036'}, {'Center Number': '3', 'Atomic Number': '6', 'X': '-1.845566', 'Y': '-1.508360', 'Z': '-0.028791'}, {'Center Number': '4', 'Atomic Number': '6', 'X': '-2.256020', 'Y': '1.487912', 'Z': '-0.002200'}, {'Center Number': '5', 'Atomic Number': '6', 'X': '-3.443482', 'Y': '0.565447', 'Z': '-0.160872'}, {'Center Number': '6', 'Atomic Number': '6', 'X': '-3.220279', 'Y': '-0.890988', 'Z': '-0.161812'}, {'Center Number': '7', 'Atomic Number': '6', 'X': '0.596241', 'Y': '-1.120478', 'Z': '0.275263'}, {'Center Number': '8', 'Atomic Number': '6', 'X': '-4.651301', 'Y': '1.148732', 'Z': '-0.844319'}, {'Center Number': '9', 'Atomic Number': '6', 'X': '1.024907', 'Y': '-2.310864', 'Z': '-0.521516'}, {'Center Number': '10', 'Atomic Number': '6', 'X': '1.363529', 'Y': '-0.651665', 'Z': '1.303457'}, {'Center Number': '11', 'Atomic Number': '1', 'X': '-0.591893', 'Y': '-0.208003', 'Z': '-1.186011'}, {'Center Number': '12', 'Atomic Number': '1', 'X': '-0.202111', 'Y': '1.484098', 'Z': '0.636394'}, {'Center Number': '13', 'Atomic Number': '1', 'X': '-1.282213', 'Y': '0.556462', 'Z': '1.684009'}, {'Center Number': '14', 'Atomic Number': '1', 'X': '-1.729265', 'Y': '-2.266064', 'Z': '-0.805945'}, {'Center Number': '15', 'Atomic Number': '1', 'X': '-1.797323', 'Y': '-2.024969', 'Z': '0.936729'}, {'Center Number': '16', 'Atomic Number': '1', 'X': '-1.981437', 'Y': '1.861472', 'Z': '-0.994610'}, {'Center Number': '17', 'Atomic Number': '1', 'X': '-2.565255', 'Y': '2.354640', 'Z': '0.590585'}, {'Center Number': '18', 'Atomic Number': '1', 'X': '-3.965223', 'Y': '-1.509874', 'Z': '-0.656000'}, {'Center Number': '19', 'Atomic Number': '1', 'X': '-4.400161', 'Y': '1.453751', 'Z': '-1.862461'}, {'Center Number': '20', 'Atomic Number': '1', 'X': '-5.001147', 'Y': '2.030027', 'Z': '-0.300305'}, {'Center Number': '21', 'Atomic Number': '1', 'X': '-5.459629', 'Y': '0.417456', 'Z': '-0.884604'}, {'Center Number': '22', 'Atomic Number': '1', 'X': '0.372205', 'Y': '-3.159133', 'Z': '-0.291348'}, {'Center Number': '23', 'Atomic Number': '1', 'X': '0.930075', 'Y': '-2.111728', 'Z': '-1.592394'}, {'Center Number': '24', 'Atomic Number': '1', 'X': '2.049016', 'Y': '-2.601970', 'Z': '-0.294584'}, {'Center Number': '25', 'Atomic Number': '1', 'X': '2.255588', 'Y': '-1.194984', 'Z': '1.593472'}, {'Center Number': '26', 'Atomic Number': '1', 'X': '1.018174', 'Y': '0.123981', 'Z': '1.972553'}, {'Center Number': '27', 'Atomic Number': '8', 'X': '-3.730932', 'Y': '-0.224164', 'Z': '0.997991'}, {'Center Number': '28', 'Atomic Number': '8', 'X': '3.182906', 'Y': '1.627731', 'Z': '-1.064965'}, {'Center Number': '29', 'Atomic Number': '8', 'X': '2.031521', 'Y': '0.547078', 'Z': '-0.163762'}, {'Center Number': '30', 'Atomic Number': '6', 'X': '3.471189', 'Y': '0.616828', 'Z': '-0.231354'}, {'Center Number': '31', 'Atomic Number': '6', 'X': '4.093461', 'Y': '-0.609669', 'Z': '-0.867228'}, {'Center Number': '32', 'Atomic Number': '6', 'X': '4.105410', 'Y': '1.027234', 'Z': '1.084832'}, {'Center Number': '33', 'Atomic Number': '1', 'X': '4.117361', 'Y': '-1.450945', 'Z': '-0.170963'}, {'Center Number': '34', 'Atomic Number': '1', 'X': '3.529663', 'Y': '-0.884441', 'Z': '-1.759095'}, {'Center Number': '35', 'Atomic Number': '1', 'X': '5.122527', 'Y': '-0.377373', 'Z': '-1.150609'}, {'Center Number': '36', 'Atomic Number': '1', 'X': '4.145766', 'Y': '0.199368', 'Z': '1.794794'}, {'Center Number': '37', 'Atomic Number': '1', 'X': '5.128494', 'Y': '1.357463', 'Z': '0.891804'}, {'Center Number': '38', 'Atomic Number': '1', 'X': '3.540414', 'Y': '1.853799', 'Z': '1.516360'}], ['Center Number', 'Atomic Number', 'X', 'Y', 'Z'])]\n",
      "12\n"
     ]
    }
   ],
   "source": [
    "log_res = AnalyzeLogFiles(target_folder, file_list)\n",
    "print(log_res)\n",
    "print(len(log_res))"
   ]
  },
  {
   "cell_type": "markdown",
   "metadata": {},
   "source": [
    "**_ `model_list` _**\n",
    "\n",
    "model_list = [\"RC1\",\"TS1\",\"INT1\",\"PC1\",\"RC2\",\"TS2\",\"PC2\",\"RC3\",\"TS3\",\"INT2\",\"PC3\",\"RC4\",\"TS4\",\"PC4\"]\n",
    "\n",
    "model_list = [\"RC1\",\"TS1\",\"PC1\",\"RC2\",\"TS2\",\"PC2\",\"RC3\",\"TS3\",\"PC3\",\"RC4\",\"TS4\",\"PC4\"]\n",
    "\n",
    "model_list = [\"RC1\",\"TS1\",\"PC1\",\"RC2\",\"TS2\",\"PC2\"]\n"
   ]
  },
  {
   "cell_type": "code",
   "execution_count": 57,
   "metadata": {},
   "outputs": [
    {
     "name": "stdout",
     "output_type": "stream",
     "text": [
      "[('DEC', [{'Item': 'Maximum Force', 'Value': '0.000001', 'Threshold': '0.000015', 'Converged': 'YES'}, {'Item': 'RMS     Force', 'Value': '0.000000', 'Threshold': '0.000010', 'Converged': 'YES'}, {'Item': 'Maximum Displacement', 'Value': '0.000003', 'Threshold': '0.000060', 'Converged': 'YES'}, {'Item': 'RMS     Displacement', 'Value': '0.000001', 'Threshold': '0.000040', 'Converged': 'YES'}], [{'Center Number': '1', 'Atomic Number': '8', 'X': '-0.000000', 'Y': '1.081064', 'Z': '-0.409061'}, {'Center Number': '2', 'Atomic Number': '8', 'X': '-0.000000', 'Y': '-1.081064', 'Z': '-0.409061'}, {'Center Number': '3', 'Atomic Number': '8', 'X': '0.000000', 'Y': '-0.000000', 'Z': '1.577518'}, {'Center Number': '4', 'Atomic Number': '6', 'X': '-0.000000', 'Y': '2.346445', 'Z': '0.285042'}, {'Center Number': '5', 'Atomic Number': '6', 'X': '-0.000000', 'Y': '-2.346445', 'Z': '0.285042'}, {'Center Number': '6', 'Atomic Number': '6', 'X': '-0.000000', 'Y': '3.431581', 'Z': '-0.767644'}, {'Center Number': '7', 'Atomic Number': '6', 'X': '-0.000000', 'Y': '-3.431581', 'Z': '-0.767644'}, {'Center Number': '8', 'Atomic Number': '6', 'X': '0.000000', 'Y': '-0.000000', 'Z': '0.365156'}, {'Center Number': '9', 'Atomic Number': '1', 'X': '-0.888055', 'Y': '2.392000', 'Z': '0.920930'}, {'Center Number': '10', 'Atomic Number': '1', 'X': '0.888055', 'Y': '2.392000', 'Z': '0.920930'}, {'Center Number': '11', 'Atomic Number': '1', 'X': '0.888055', 'Y': '-2.392000', 'Z': '0.920930'}, {'Center Number': '12', 'Atomic Number': '1', 'X': '-0.888055', 'Y': '-2.392000', 'Z': '0.920930'}, {'Center Number': '13', 'Atomic Number': '1', 'X': '-0.000000', 'Y': '4.410431', 'Z': '-0.280370'}, {'Center Number': '14', 'Atomic Number': '1', 'X': '0.889315', 'Y': '3.358970', 'Z': '-1.399468'}, {'Center Number': '15', 'Atomic Number': '1', 'X': '-0.889315', 'Y': '3.358970', 'Z': '-1.399468'}, {'Center Number': '16', 'Atomic Number': '1', 'X': '-0.000000', 'Y': '-4.410431', 'Z': '-0.280370'}, {'Center Number': '17', 'Atomic Number': '1', 'X': '-0.889315', 'Y': '-3.358970', 'Z': '-1.399468'}, {'Center Number': '18', 'Atomic Number': '1', 'X': '0.889315', 'Y': '-3.358970', 'Z': '-1.399468'}], ['Center Number', 'Atomic Number', 'X', 'Y', 'Z']), ('DMC', [{'Item': 'Maximum Force', 'Value': '0.000001', 'Threshold': '0.000015', 'Converged': 'YES'}, {'Item': 'RMS     Force', 'Value': '0.000000', 'Threshold': '0.000010', 'Converged': 'YES'}, {'Item': 'Maximum Displacement', 'Value': '0.000001', 'Threshold': '0.000060', 'Converged': 'YES'}, {'Item': 'RMS     Displacement', 'Value': '0.000001', 'Threshold': '0.000040', 'Converged': 'YES'}], [{'Center Number': '1', 'Atomic Number': '8', 'X': '-0.000000', 'Y': '1.080487', 'Z': '-0.709222'}, {'Center Number': '2', 'Atomic Number': '8', 'X': '-0.000000', 'Y': '-1.080487', 'Z': '-0.709222'}, {'Center Number': '3', 'Atomic Number': '8', 'X': '-0.000000', 'Y': '-0.000000', 'Z': '1.277166'}, {'Center Number': '4', 'Atomic Number': '6', 'X': '-0.000000', 'Y': '-0.000000', 'Z': '0.065710'}, {'Center Number': '5', 'Atomic Number': '6', 'X': '-0.000000', 'Y': '2.333125', 'Z': '-0.010792'}, {'Center Number': '6', 'Atomic Number': '6', 'X': '-0.000000', 'Y': '-2.333125', 'Z': '-0.010792'}, {'Center Number': '7', 'Atomic Number': '1', 'X': '-0.893803', 'Y': '2.416313', 'Z': '0.609718'}, {'Center Number': '8', 'Atomic Number': '1', 'X': '-0.000000', 'Y': '3.095516', 'Z': '-0.786704'}, {'Center Number': '9', 'Atomic Number': '1', 'X': '0.893803', 'Y': '2.416313', 'Z': '0.609718'}, {'Center Number': '10', 'Atomic Number': '1', 'X': '-0.000000', 'Y': '-3.095516', 'Z': '-0.786704'}, {'Center Number': '11', 'Atomic Number': '1', 'X': '-0.893803', 'Y': '-2.416313', 'Z': '0.609718'}, {'Center Number': '12', 'Atomic Number': '1', 'X': '0.893803', 'Y': '-2.416313', 'Z': '0.609718'}], ['Center Number', 'Atomic Number', 'X', 'Y', 'Z']), ('EMC', [{'Item': 'Maximum Force', 'Value': '0.000001', 'Threshold': '0.000015', 'Converged': 'YES'}, {'Item': 'RMS     Force', 'Value': '0.000000', 'Threshold': '0.000010', 'Converged': 'YES'}, {'Item': 'Maximum Displacement', 'Value': '0.000010', 'Threshold': '0.000060', 'Converged': 'YES'}, {'Item': 'RMS     Displacement', 'Value': '0.000003', 'Threshold': '0.000040', 'Converged': 'YES'}], [{'Center Number': '1', 'Atomic Number': '8', 'X': '-1.158358', 'Y': '1.217746', 'Z': '0.000000'}, {'Center Number': '2', 'Atomic Number': '8', 'X': '-0.247849', 'Y': '-0.742603', 'Z': '0.000000'}, {'Center Number': '3', 'Atomic Number': '8', 'X': '1.097864', 'Y': '1.075780', 'Z': '0.000000'}, {'Center Number': '4', 'Atomic Number': '6', 'X': '-1.051483', 'Y': '2.647646', 'Z': '0.000000'}, {'Center Number': '5', 'Atomic Number': '6', 'X': '0.914619', 'Y': '-1.598690', 'Z': '0.000000'}, {'Center Number': '6', 'Atomic Number': '6', 'X': '0.416019', 'Y': '-3.025789', 'Z': '0.000000'}, {'Center Number': '7', 'Atomic Number': '6', 'X': '0.000000', 'Y': '0.562553', 'Z': '0.000000'}, {'Center Number': '8', 'Atomic Number': '1', 'X': '-0.523536', 'Y': '2.984463', 'Z': '0.893684'}, {'Center Number': '9', 'Atomic Number': '1', 'X': '-0.523536', 'Y': '2.984463', 'Z': '-0.893684'}, {'Center Number': '10', 'Atomic Number': '1', 'X': '1.510165', 'Y': '-1.371933', 'Z': '-0.888180'}, {'Center Number': '11', 'Atomic Number': '1', 'X': '1.510165', 'Y': '-1.371933', 'Z': '0.888180'}, {'Center Number': '12', 'Atomic Number': '1', 'X': '1.269957', 'Y': '-3.708688', 'Z': '0.000000'}, {'Center Number': '13', 'Atomic Number': '1', 'X': '-0.187701', 'Y': '-3.225696', 'Z': '0.889334'}, {'Center Number': '14', 'Atomic Number': '1', 'X': '-0.187701', 'Y': '-3.225696', 'Z': '-0.889334'}, {'Center Number': '15', 'Atomic Number': '1', 'X': '-2.076013', 'Y': '3.013306', 'Z': '0.000000'}], ['Center Number', 'Atomic Number', 'X', 'Y', 'Z']), ('EtOH', [{'Item': 'Maximum Force', 'Value': '0.000001', 'Threshold': '0.000015', 'Converged': 'YES'}, {'Item': 'RMS     Force', 'Value': '0.000000', 'Threshold': '0.000010', 'Converged': 'YES'}, {'Item': 'Maximum Displacement', 'Value': '0.000009', 'Threshold': '0.000060', 'Converged': 'YES'}, {'Item': 'RMS     Displacement', 'Value': '0.000003', 'Threshold': '0.000040', 'Converged': 'YES'}], [{'Center Number': '1', 'Atomic Number': '6', 'X': '-1.174863', 'Y': '-0.401034', 'Z': '0.000000'}, {'Center Number': '2', 'Atomic Number': '6', 'X': '0.000000', 'Y': '0.555289', 'Z': '0.000000'}, {'Center Number': '3', 'Atomic Number': '8', 'X': '1.196056', 'Y': '-0.221704', 'Z': '0.000000'}, {'Center Number': '4', 'Atomic Number': '1', 'X': '-2.117551', 'Y': '0.154052', 'Z': '0.000000'}, {'Center Number': '5', 'Atomic Number': '1', 'X': '-1.148254', 'Y': '-1.039572', 'Z': '0.888248'}, {'Center Number': '6', 'Atomic Number': '1', 'X': '-1.148254', 'Y': '-1.039572', 'Z': '-0.888248'}, {'Center Number': '7', 'Atomic Number': '1', 'X': '-0.031608', 'Y': '1.198878', 'Z': '-0.888436'}, {'Center Number': '8', 'Atomic Number': '1', 'X': '-0.031608', 'Y': '1.198878', 'Z': '0.888436'}, {'Center Number': '9', 'Atomic Number': '1', 'X': '1.958005', 'Y': '0.375442', 'Z': '0.000000'}], ['Center Number', 'Atomic Number', 'X', 'Y', 'Z']), ('MeOH', [{'Item': 'Maximum Force', 'Value': '0.000001', 'Threshold': '0.000015', 'Converged': 'YES'}, {'Item': 'RMS     Force', 'Value': '0.000000', 'Threshold': '0.000010', 'Converged': 'YES'}, {'Item': 'Maximum Displacement', 'Value': '0.000004', 'Threshold': '0.000060', 'Converged': 'YES'}, {'Item': 'RMS     Displacement', 'Value': '0.000002', 'Threshold': '0.000040', 'Converged': 'YES'}], [{'Center Number': '1', 'Atomic Number': '6', 'X': '0.047355', 'Y': '0.665683', 'Z': '0.000000'}, {'Center Number': '2', 'Atomic Number': '1', 'X': '1.091933', 'Y': '0.980547', 'Z': '0.000000'}, {'Center Number': '3', 'Atomic Number': '1', 'X': '-0.442977', 'Y': '1.068672', 'Z': '0.893098'}, {'Center Number': '4', 'Atomic Number': '1', 'X': '-0.442977', 'Y': '1.068672', 'Z': '-0.893098'}, {'Center Number': '5', 'Atomic Number': '8', 'X': '0.047355', 'Y': '-0.755704', 'Z': '0.000000'}, {'Center Number': '6', 'Atomic Number': '1', 'X': '-0.868950', 'Y': '-1.066357', 'Z': '0.000000'}], ['Center Number', 'Atomic Number', 'X', 'Y', 'Z']), ('TBD', [{'Item': 'Maximum Force', 'Value': '0.000000', 'Threshold': '0.000015', 'Converged': 'YES'}, {'Item': 'RMS     Force', 'Value': '0.000000', 'Threshold': '0.000010', 'Converged': 'YES'}, {'Item': 'Maximum Displacement', 'Value': '0.000001', 'Threshold': '0.000060', 'Converged': 'YES'}, {'Item': 'RMS     Displacement', 'Value': '0.000000', 'Threshold': '0.000040', 'Converged': 'YES'}], [{'Center Number': '1', 'Atomic Number': '7', 'X': '-0.023512', 'Y': '0.659987', 'Z': '-0.112359'}, {'Center Number': '2', 'Atomic Number': '7', 'X': '1.156195', 'Y': '-1.372274', 'Z': '-0.245237'}, {'Center Number': '3', 'Atomic Number': '7', 'X': '-1.115351', 'Y': '-1.457270', 'Z': '0.079228'}, {'Center Number': '4', 'Atomic Number': '6', 'X': '1.194810', 'Y': '1.394540', 'Z': '0.223047'}, {'Center Number': '5', 'Atomic Number': '6', 'X': '-1.258538', 'Y': '1.372818', 'Z': '0.191712'}, {'Center Number': '6', 'Atomic Number': '6', 'X': '2.433343', 'Y': '0.675151', 'Z': '-0.284727'}, {'Center Number': '7', 'Atomic Number': '6', 'X': '-0.060768', 'Y': '-0.723231', 'Z': '-0.046297'}, {'Center Number': '8', 'Atomic Number': '6', 'X': '-2.441157', 'Y': '0.604941', 'Z': '-0.373812'}, {'Center Number': '9', 'Atomic Number': '6', 'X': '2.400303', 'Y': '-0.760029', 'Z': '0.211285'}, {'Center Number': '10', 'Atomic Number': '6', 'X': '-2.416234', 'Y': '-0.809703', 'Z': '0.194808'}, {'Center Number': '11', 'Atomic Number': '1', 'X': '1.111647', 'Y': '2.388861', 'Z': '-0.227497'}, {'Center Number': '12', 'Atomic Number': '1', 'X': '1.262370', 'Y': '1.533325', 'Z': '1.315139'}, {'Center Number': '13', 'Atomic Number': '1', 'X': '-1.370101', 'Y': '1.501968', 'Z': '1.281081'}, {'Center Number': '14', 'Atomic Number': '1', 'X': '-1.182523', 'Y': '2.370394', 'Z': '-0.253202'}, {'Center Number': '15', 'Atomic Number': '1', 'X': '2.448720', 'Y': '0.685067', 'Z': '-1.380141'}, {'Center Number': '16', 'Atomic Number': '1', 'X': '3.329707', 'Y': '1.186443', 'Z': '0.077642'}, {'Center Number': '17', 'Atomic Number': '1', 'X': '-2.359179', 'Y': '0.572584', 'Z': '-1.466859'}, {'Center Number': '18', 'Atomic Number': '1', 'X': '-3.377593', 'Y': '1.111450', 'Z': '-0.120124'}, {'Center Number': '19', 'Atomic Number': '1', 'X': '3.231656', 'Y': '-1.339177', 'Z': '-0.197938'}, {'Center Number': '20', 'Atomic Number': '1', 'X': '2.484159', 'Y': '-0.776418', 'Z': '1.309324'}, {'Center Number': '21', 'Atomic Number': '1', 'X': '-2.713345', 'Y': '-0.782269', 'Z': '1.253770'}, {'Center Number': '22', 'Atomic Number': '1', 'X': '-3.157061', 'Y': '-1.435314', 'Z': '-0.315644'}, {'Center Number': '23', 'Atomic Number': '1', 'X': '1.059667', 'Y': '-2.356931', 'Z': '-0.023068'}], ['Center Number', 'Atomic Number', 'X', 'Y', 'Z']), ('TMG', [{'Item': 'Maximum Force', 'Value': '0.000002', 'Threshold': '0.000450', 'Converged': 'YES'}, {'Item': 'RMS     Force', 'Value': '0.000000', 'Threshold': '0.000300', 'Converged': 'YES'}, {'Item': 'Maximum Displacement', 'Value': '0.000299', 'Threshold': '0.001800', 'Converged': 'YES'}, {'Item': 'RMS     Displacement', 'Value': '0.000069', 'Threshold': '0.001200', 'Converged': 'YES'}], [{'Center Number': '1', 'Atomic Number': '7', 'X': '1.172670', 'Y': '-0.201910', 'Z': '-0.128340'}, {'Center Number': '2', 'Atomic Number': '7', 'X': '-1.153997', 'Y': '-0.214748', 'Z': '0.121140'}, {'Center Number': '3', 'Atomic Number': '7', 'X': '0.068178', 'Y': '1.836721', 'Z': '-0.014665'}, {'Center Number': '4', 'Atomic Number': '6', 'X': '0.008386', 'Y': '0.546439', 'Z': '-0.009687'}, {'Center Number': '5', 'Atomic Number': '6', 'X': '2.395100', 'Y': '0.538328', 'Z': '-0.387446'}, {'Center Number': '6', 'Atomic Number': '6', 'X': '1.378404', 'Y': '-1.337031', 'Z': '0.766604'}, {'Center Number': '7', 'Atomic Number': '6', 'X': '-1.367212', 'Y': '-1.335512', 'Z': '-0.792017'}, {'Center Number': '8', 'Atomic Number': '6', 'X': '-2.380151', 'Y': '0.492589', 'Z': '0.440149'}, {'Center Number': '9', 'Atomic Number': '1', 'X': '3.170901', 'Y': '-0.174321', 'Z': '-0.680281'}, {'Center Number': '10', 'Atomic Number': '1', 'X': '2.737275', 'Y': '1.090930', 'Z': '0.500081'}, {'Center Number': '11', 'Atomic Number': '1', 'X': '2.233404', 'Y': '1.250869', 'Z': '-1.196166'}, {'Center Number': '12', 'Atomic Number': '1', 'X': '0.428514', 'Y': '-1.800336', 'Z': '1.029113'}, {'Center Number': '13', 'Atomic Number': '1', 'X': '1.876124', 'Y': '-1.014679', 'Z': '1.693621'}, {'Center Number': '14', 'Atomic Number': '1', 'X': '2.012572', 'Y': '-2.079732', 'Z': '0.273294'}, {'Center Number': '15', 'Atomic Number': '1', 'X': '-1.915844', 'Y': '-1.007062', 'Z': '-1.687158'}, {'Center Number': '16', 'Atomic Number': '1', 'X': '-1.953501', 'Y': '-2.111283', 'Z': '-0.290049'}, {'Center Number': '17', 'Atomic Number': '1', 'X': '-0.414236', 'Y': '-1.758073', 'Z': '-1.107225'}, {'Center Number': '18', 'Atomic Number': '1', 'X': '-2.775152', 'Y': '1.062448', 'Z': '-0.416179'}, {'Center Number': '19', 'Atomic Number': '1', 'X': '-2.216724', 'Y': '1.173219', 'Z': '1.278901'}, {'Center Number': '20', 'Atomic Number': '1', 'X': '-3.134166', 'Y': '-0.241254', 'Z': '0.735320'}, {'Center Number': '21', 'Atomic Number': '1', 'X': '-0.864290', 'Y': '2.239962', 'Z': '-0.085833'}], ['Center Number', 'Atomic Number', 'X', 'Y', 'Z'])]\n"
     ]
    }
   ],
   "source": [
    "model_list = [\"RC1\", \"TS1\", \"PC1\", \"RC2\", \"TS2\", \"PC2\"]\n",
    "\n",
    "# Sort the original list based on the order in the model list\n",
    "# sorted_log_res = sorted(log_res, key=lambda x: model_list.index(x[0]))\n",
    "\n",
    "# for isolated\n",
    "sorted_log_res = log_res\n",
    "\n",
    "print(sorted_log_res)"
   ]
  },
  {
   "cell_type": "markdown",
   "metadata": {},
   "source": [
    "### Display data in table\n"
   ]
  },
  {
   "cell_type": "code",
   "execution_count": 13,
   "metadata": {},
   "outputs": [],
   "source": [
    "def save_data_to_word(d, file_name='res', df_format='string'):\n",
    "    '''\n",
    "    save gaussian output.log to excel\n",
    "\n",
    "    args:\n",
    "        d: input data\n",
    "            file name\n",
    "    '''\n",
    "\n",
    "    #  word file path\n",
    "    word_file_path = os.getcwd()+'/'+file_name+'.docx'\n",
    "\n",
    "    # check file exist\n",
    "    if os.path.exists(word_file_path):\n",
    "        print(\"file exists\")\n",
    "        doc = Document()\n",
    "    else:\n",
    "        # create excel file\n",
    "        doc = Document()\n",
    "        doc.save(word_file_path)\n",
    "\n",
    "    # add each df to the excel sheet\n",
    "    for item in d:\n",
    "        # sheet name\n",
    "        file_name_full = item[0]\n",
    "        item_conv = item[1]\n",
    "        item_loc = item[2]\n",
    "        column_names = item[3]\n",
    "\n",
    "        # df\n",
    "        df = pd.DataFrame.from_dict(item_loc)\n",
    "        # size\n",
    "        row, col = df.shape\n",
    "\n",
    "        # check df format\n",
    "        if df_format == 'string':\n",
    "            # df to string\n",
    "            df_string = df.to_string(index=False, col_space=20, justify='left')\n",
    "\n",
    "            # des text\n",
    "            doc.add_heading(file_name_full, level=1)\n",
    "\n",
    "            # df string to word\n",
    "            doc.add_paragraph(df_string)\n",
    "        else:\n",
    "            # add a table to the end and create a reference variable\n",
    "            # extra row is so we can add the header row\n",
    "            t = doc.add_table(df.shape[0]+1, df.shape[1])\n",
    "\n",
    "            # add the header rows.\n",
    "            for j in range(df.shape[-1]):\n",
    "                t.cell(0, j).text = df.columns[j]\n",
    "\n",
    "            # add the rest of the data frame\n",
    "            for i in range(df.shape[0]):\n",
    "                for j in range(df.shape[-1]):\n",
    "                    t.cell(i+1, j).text = str(df.values[i, j])\n",
    "\n",
    "    # save the doc\n",
    "    doc.save(word_file_path)"
   ]
  },
  {
   "cell_type": "markdown",
   "metadata": {},
   "source": [
    "**_ `file_name` _**\n"
   ]
  },
  {
   "cell_type": "code",
   "execution_count": 58,
   "metadata": {},
   "outputs": [],
   "source": [
    "# test\n",
    "save_data_to_word(sorted_log_res, file_name=\"isolate-sol\")"
   ]
  }
 ],
 "metadata": {
  "kernelspec": {
   "display_name": "venv",
   "language": "python",
   "name": "python3"
  },
  "language_info": {
   "codemirror_mode": {
    "name": "ipython",
    "version": 3
   },
   "file_extension": ".py",
   "mimetype": "text/x-python",
   "name": "python",
   "nbconvert_exporter": "python",
   "pygments_lexer": "ipython3",
   "version": "3.9.5"
  }
 },
 "nbformat": 4,
 "nbformat_minor": 2
}
