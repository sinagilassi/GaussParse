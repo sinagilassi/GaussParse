{
 "cells": [
  {
   "cell_type": "markdown",
   "metadata": {},
   "source": [
    "# Packages/Modules\n"
   ]
  },
  {
   "cell_type": "code",
   "execution_count": 1,
   "metadata": {},
   "outputs": [
    {
     "name": "stdout",
     "output_type": "stream",
     "text": [
      "Python 3.9.5\n"
     ]
    }
   ],
   "source": [
    "!python --version"
   ]
  },
  {
   "cell_type": "code",
   "execution_count": 2,
   "metadata": {},
   "outputs": [
    {
     "name": "stdout",
     "output_type": "stream",
     "text": [
      "pip 24.0 from E:\\Python Projects\\GaussParse\\venv\\lib\\site-packages\\pip (python 3.9)\n",
      "\n"
     ]
    }
   ],
   "source": [
    "!pip --version"
   ]
  },
  {
   "cell_type": "code",
   "execution_count": 132,
   "metadata": {},
   "outputs": [],
   "source": [
    "# import packages/modules\n",
    "import numpy as np\n",
    "import matplotlib.pyplot as plt\n",
    "from matplotlib import ticker\n",
    "import pandas as pd\n",
    "import os\n",
    "import re\n",
    "import csv\n",
    "# added\n",
    "import shutil"
   ]
  },
  {
   "cell_type": "markdown",
   "metadata": {},
   "source": [
    "# Util\n"
   ]
  },
  {
   "cell_type": "markdown",
   "metadata": {},
   "source": [
    "Check file format\n"
   ]
  },
  {
   "cell_type": "code",
   "execution_count": 5,
   "metadata": {},
   "outputs": [],
   "source": [
    "def CheckFileFormat(filePath):\n",
    "    '''\n",
    "    check file format\n",
    "\n",
    "    args:\n",
    "        filePath: file name dir\n",
    "\n",
    "    return:\n",
    "        file directory, file name, file format\n",
    "    '''\n",
    "    # check file exist\n",
    "    if os.path.isfile(filePath):\n",
    "        # file analysis\n",
    "        fileDir = os.path.dirname(filePath)\n",
    "        fileNameWithExtension = os.path.basename(filePath)\n",
    "        fileName, fileExtension = os.path.splitext(fileNameWithExtension)\n",
    "        # res\n",
    "        return fileDir, fileName, fileExtension\n",
    "    else:\n",
    "        raise Exception('file path is not valid.')"
   ]
  },
  {
   "cell_type": "markdown",
   "metadata": {},
   "source": [
    "Load files\n"
   ]
  },
  {
   "cell_type": "code",
   "execution_count": 21,
   "metadata": {},
   "outputs": [],
   "source": [
    "def ListFiles(targetPath, fileExtension='txt'):\n",
    "    '''\n",
    "    list files in a target file\n",
    "\n",
    "    args:\n",
    "        targetPath: target path\n",
    "        fileExtension: file extention, default is empty\n",
    "\n",
    "    return:\n",
    "        a list of files in the target path\n",
    "    '''\n",
    "    try:\n",
    "        # check\n",
    "        if os.path.exists(targetPath):\n",
    "            filesFound = []\n",
    "            for f in os.listdir(targetPath):\n",
    "                if f.endswith('.'+str(fileExtension)):\n",
    "                    filesFound.append(f)\n",
    "            # res\n",
    "            return filesFound\n",
    "        else:\n",
    "            raise Exception(\"target path is not valid.\")\n",
    "\n",
    "    except Exception as e:\n",
    "        raise"
   ]
  },
  {
   "cell_type": "markdown",
   "metadata": {},
   "source": [
    "# Load IRC Gaussian log file\n"
   ]
  },
  {
   "cell_type": "markdown",
   "metadata": {},
   "source": [
    "get current directory\n"
   ]
  },
  {
   "cell_type": "code",
   "execution_count": 6,
   "metadata": {},
   "outputs": [
    {
     "data": {
      "text/plain": [
       "'e:\\\\Python Projects\\\\GaussParse\\\\GaussParse\\\\notebook'"
      ]
     },
     "execution_count": 6,
     "metadata": {},
     "output_type": "execute_result"
    }
   ],
   "source": [
    "# current directory\n",
    "os.getcwd()"
   ]
  },
  {
   "cell_type": "markdown",
   "metadata": {},
   "source": [
    "load file\n"
   ]
  },
  {
   "cell_type": "code",
   "execution_count": 12,
   "metadata": {},
   "outputs": [
    {
     "name": "stdout",
     "output_type": "stream",
     "text": [
      "file name: g09_exp - for GaussParse\n",
      "file extension: log\n"
     ]
    }
   ],
   "source": [
    "# irc file\n",
    "irc_file = 'g09_exp - for GaussParse.log'\n",
    "file_name, file_extension = irc_file.split(\".\")\n",
    "print(f\"file name: {file_name}\")\n",
    "print(f\"file extension: {file_extension}\")"
   ]
  },
  {
   "cell_type": "markdown",
   "metadata": {},
   "source": [
    "Load files in a folder\n"
   ]
  },
  {
   "cell_type": "code",
   "execution_count": 27,
   "metadata": {},
   "outputs": [
    {
     "name": "stdout",
     "output_type": "stream",
     "text": [
      "res: ['g09_exp.log']\n",
      "count:  1\n"
     ]
    }
   ],
   "source": [
    "# log dir\n",
    "target_folder = \"D:\\\\OneDrive\\\\Project Analysis\\\\Computational Chemistry\\\\analysis\\\\terpens epoxidation\\\\irc\"\n",
    "\n",
    "# list files\n",
    "file_list = ListFiles(target_folder, \"log\")\n",
    "print(\"res:\", file_list)\n",
    "print(\"count: \", len(file_list))"
   ]
  },
  {
   "cell_type": "markdown",
   "metadata": {},
   "source": [
    "# Read file\n"
   ]
  },
  {
   "cell_type": "code",
   "execution_count": 123,
   "metadata": {},
   "outputs": [],
   "source": [
    "def ReadIRC(filePath):\n",
    "    '''\n",
    "    read the content of log file\n",
    "\n",
    "    args:\n",
    "      filePath: full name of file with directory and format\n",
    "\n",
    "    return:\n",
    "        res: dict\n",
    "    '''\n",
    "    try:\n",
    "        # file info\n",
    "        fileDir, fileName, fileExtension = CheckFileFormat(filePath)\n",
    "\n",
    "        # dict\n",
    "        item_loc = []\n",
    "        item_conv = []\n",
    "        column_names = ['X', 'Energy', 'RxCoord']\n",
    "\n",
    "        # index\n",
    "        k = 1\n",
    "\n",
    "        # file open\n",
    "        with open(filePath, \"r\") as f:\n",
    "            # content\n",
    "            fContent = f.read()\n",
    "            # find\n",
    "            str_sub_1 = \"Energies reported relative to the TS energy of \"\n",
    "            i_sub_1 = fContent.rfind(str_sub_1)\n",
    "            str_1 = fContent[i_sub_1:]\n",
    "\n",
    "            # split str by lines\n",
    "            str_sub_lines = str_1.splitlines()\n",
    "\n",
    "            # energy\n",
    "            E_pattern = r\"([-+]?\\d*\\.\\d+|\\d+)\"\n",
    "            E_match = re.search(E_pattern, str_sub_lines[0])\n",
    "            if E_match:\n",
    "                E = float(E_match.group())\n",
    "                print(E)\n",
    "            else:\n",
    "                print(\"not found: Energies reported relative to the TS energy\")\n",
    "                raise\n",
    "\n",
    "            # separator\n",
    "            sep_1 = str_sub_lines[1]\n",
    "            # table header\n",
    "            table_header = str_sub_lines[2]\n",
    "\n",
    "            # find the second separator\n",
    "            k = 0\n",
    "            k_set = 4\n",
    "            for item in str_sub_lines:\n",
    "                # set regex\n",
    "                _line = item\n",
    "\n",
    "                # find\n",
    "                _res = re.search(\n",
    "                    r\"(\\d+)\\s+([-+]?\\d*\\.\\d+|\\d+)\\s+([-+]?\\d*\\.\\d+|\\d+)\", _line)\n",
    "                # check\n",
    "                if _res:\n",
    "                    _X = _res.group(1)\n",
    "                    _Energy = _res.group(2)\n",
    "                    _RxCoord = _res.group(3)\n",
    "                    # store\n",
    "                    _ele = {\n",
    "                        'X': int(_X),\n",
    "                        'Energy': float(_Energy),\n",
    "                        'RxCoord': float(_RxCoord),\n",
    "                        'EnergyTotal': float(_Energy) + E,\n",
    "                    }\n",
    "\n",
    "                    item_loc.append(_ele)\n",
    "\n",
    "                # check the end of data zone\n",
    "                if k > k_set and item == sep_1:\n",
    "                    sep_2 = item\n",
    "                    break\n",
    "\n",
    "                # update\n",
    "                k += 1\n",
    "\n",
    "        return fileName, item_conv, item_loc, column_names\n",
    "    except Exception as e:\n",
    "        raise"
   ]
  },
  {
   "cell_type": "code",
   "execution_count": 63,
   "metadata": {},
   "outputs": [],
   "source": [
    "def AnalyzeIRC(targetPath, fileList):\n",
    "    '''\n",
    "    analyze every file in the file list\n",
    "\n",
    "    args:\n",
    "        targetPath {str}: target folder\n",
    "        fileList {array(str)}: list of selected files\n",
    "\n",
    "    return:\n",
    "        res: dict\n",
    "    '''\n",
    "    try:\n",
    "        # check\n",
    "        if len(fileList) > 0:\n",
    "            # res\n",
    "            res = []\n",
    "            for item in fileList:\n",
    "                # file path\n",
    "                _file_full_path = os.path.join(str(targetPath), str(item))\n",
    "                # read file\n",
    "                _res = ReadIRC(_file_full_path)\n",
    "                # save\n",
    "                res.append(_res)\n",
    "\n",
    "            # return\n",
    "            return res\n",
    "        else:\n",
    "            raise Exception(\"file list is empty!\")\n",
    "\n",
    "    except Exception as e:\n",
    "        raise"
   ]
  },
  {
   "cell_type": "code",
   "execution_count": 124,
   "metadata": {},
   "outputs": [
    {
     "name": "stdout",
     "output_type": "stream",
     "text": [
      "-1384.660426\n",
      "[('g09_exp', [], [{'X': 1, 'Energy': -0.0307, 'RxCoord': -8.92309, 'EnergyTotal': -1384.691126}, {'X': 2, 'Energy': -0.03068, 'RxCoord': -8.7442, 'EnergyTotal': -1384.691106}, {'X': 3, 'Energy': -0.03065, 'RxCoord': -8.56523, 'EnergyTotal': -1384.6910759999998}, {'X': 4, 'Energy': -0.03062, 'RxCoord': -8.38645, 'EnergyTotal': -1384.691046}, {'X': 5, 'Energy': -0.03059, 'RxCoord': -8.20802, 'EnergyTotal': -1384.691016}, {'X': 6, 'Energy': -0.03055, 'RxCoord': -8.03101, 'EnergyTotal': -1384.6909759999999}, {'X': 7, 'Energy': -0.03051, 'RxCoord': -7.85494, 'EnergyTotal': -1384.690936}, {'X': 8, 'Energy': -0.03047, 'RxCoord': -7.67951, 'EnergyTotal': -1384.6908959999998}, {'X': 9, 'Energy': -0.03042, 'RxCoord': -7.50343, 'EnergyTotal': -1384.690846}, {'X': 10, 'Energy': -0.03036, 'RxCoord': -7.32656, 'EnergyTotal': -1384.690786}, {'X': 11, 'Energy': -0.03029, 'RxCoord': -7.14857, 'EnergyTotal': -1384.6907159999998}, {'X': 12, 'Energy': -0.03022, 'RxCoord': -6.97019, 'EnergyTotal': -1384.690646}, {'X': 13, 'Energy': -0.03014, 'RxCoord': -6.79199, 'EnergyTotal': -1384.690566}, {'X': 14, 'Energy': -0.03005, 'RxCoord': -6.61392, 'EnergyTotal': -1384.690476}, {'X': 15, 'Energy': -0.02994, 'RxCoord': -6.43573, 'EnergyTotal': -1384.6903659999998}, {'X': 16, 'Energy': -0.02983, 'RxCoord': -6.2572, 'EnergyTotal': -1384.6902559999999}, {'X': 17, 'Energy': -0.0297, 'RxCoord': -6.07852, 'EnergyTotal': -1384.690126}, {'X': 18, 'Energy': -0.02956, 'RxCoord': -5.89976, 'EnergyTotal': -1384.6899859999999}, {'X': 19, 'Energy': -0.02941, 'RxCoord': -5.72115, 'EnergyTotal': -1384.689836}, {'X': 20, 'Energy': -0.02924, 'RxCoord': -5.5429, 'EnergyTotal': -1384.689666}, {'X': 21, 'Energy': -0.02905, 'RxCoord': -5.36537, 'EnergyTotal': -1384.689476}, {'X': 22, 'Energy': -0.02885, 'RxCoord': -5.18933, 'EnergyTotal': -1384.6892759999998}, {'X': 23, 'Energy': -0.02863, 'RxCoord': -5.01583, 'EnergyTotal': -1384.689056}, {'X': 24, 'Energy': -0.02838, 'RxCoord': -4.84126, 'EnergyTotal': -1384.6888059999999}, {'X': 25, 'Energy': -0.02809, 'RxCoord': -4.6643, 'EnergyTotal': -1384.688516}, {'X': 26, 'Energy': -0.02777, 'RxCoord': -4.48541, 'EnergyTotal': -1384.6881959999998}, {'X': 27, 'Energy': -0.02742, 'RxCoord': -4.30602, 'EnergyTotal': -1384.6878459999998}, {'X': 28, 'Energy': -0.02704, 'RxCoord': -4.12657, 'EnergyTotal': -1384.6874659999999}, {'X': 29, 'Energy': -0.02661, 'RxCoord': -3.94711, 'EnergyTotal': -1384.6870359999998}, {'X': 30, 'Energy': -0.02614, 'RxCoord': -3.76765, 'EnergyTotal': -1384.6865659999999}, {'X': 31, 'Energy': -0.02562, 'RxCoord': -3.5882, 'EnergyTotal': -1384.6860459999998}, {'X': 32, 'Energy': -0.02503, 'RxCoord': -3.40875, 'EnergyTotal': -1384.685456}, {'X': 33, 'Energy': -0.02438, 'RxCoord': -3.2293, 'EnergyTotal': -1384.684806}, {'X': 34, 'Energy': -0.02366, 'RxCoord': -3.04988, 'EnergyTotal': -1384.684086}, {'X': 35, 'Energy': -0.02284, 'RxCoord': -2.87053, 'EnergyTotal': -1384.683266}, {'X': 36, 'Energy': -0.02192, 'RxCoord': -2.69129, 'EnergyTotal': -1384.6823459999998}, {'X': 37, 'Energy': -0.02086, 'RxCoord': -2.51216, 'EnergyTotal': -1384.681286}, {'X': 38, 'Energy': -0.01963, 'RxCoord': -2.33301, 'EnergyTotal': -1384.680056}, {'X': 39, 'Energy': -0.01819, 'RxCoord': -2.15374, 'EnergyTotal': -1384.678616}, {'X': 40, 'Energy': -0.01654, 'RxCoord': -1.97436, 'EnergyTotal': -1384.676966}, {'X': 41, 'Energy': -0.01469, 'RxCoord': -1.79492, 'EnergyTotal': -1384.675116}, {'X': 42, 'Energy': -0.0127, 'RxCoord': -1.61544, 'EnergyTotal': -1384.673126}, {'X': 43, 'Energy': -0.01064, 'RxCoord': -1.43595, 'EnergyTotal': -1384.6710659999999}, {'X': 44, 'Energy': -0.00858, 'RxCoord': -1.25645, 'EnergyTotal': -1384.6690059999999}, {'X': 45, 'Energy': -0.0066, 'RxCoord': -1.07695, 'EnergyTotal': -1384.6670259999999}, {'X': 46, 'Energy': -0.00477, 'RxCoord': -0.89746, 'EnergyTotal': -1384.665196}, {'X': 47, 'Energy': -0.00316, 'RxCoord': -0.71796, 'EnergyTotal': -1384.663586}, {'X': 48, 'Energy': -0.00183, 'RxCoord': -0.53846, 'EnergyTotal': -1384.6622559999998}, {'X': 49, 'Energy': -0.00083, 'RxCoord': -0.35898, 'EnergyTotal': -1384.6612559999999}, {'X': 50, 'Energy': -0.00021, 'RxCoord': -0.17951, 'EnergyTotal': -1384.6606359999998}, {'X': 51, 'Energy': 0.0, 'RxCoord': 0.0, 'EnergyTotal': -1384.660426}, {'X': 52, 'Energy': -0.00022, 'RxCoord': 0.17951, 'EnergyTotal': -1384.6606459999998}, {'X': 53, 'Energy': -0.00092, 'RxCoord': 0.35898, 'EnergyTotal': -1384.6613459999999}, {'X': 54, 'Energy': -0.0021, 'RxCoord': 0.53846, 'EnergyTotal': -1384.6625259999998}, {'X': 55, 'Energy': -0.00377, 'RxCoord': 0.71795, 'EnergyTotal': -1384.664196}, {'X': 56, 'Energy': -0.00595, 'RxCoord': 0.89744, 'EnergyTotal': -1384.666376}, {'X': 57, 'Energy': -0.00861, 'RxCoord': 1.07693, 'EnergyTotal': -1384.669036}, {'X': 58, 'Energy': -0.01175, 'RxCoord': 1.25643, 'EnergyTotal': -1384.6721759999998}, {'X': 59, 'Energy': -0.01535, 'RxCoord': 1.43592, 'EnergyTotal': -1384.6757759999998}, {'X': 60, 'Energy': -0.01936, 'RxCoord': 1.61542, 'EnergyTotal': -1384.679786}, {'X': 61, 'Energy': -0.02376, 'RxCoord': 1.79492, 'EnergyTotal': -1384.684186}, {'X': 62, 'Energy': -0.02849, 'RxCoord': 1.97442, 'EnergyTotal': -1384.6889159999998}, {'X': 63, 'Energy': -0.03348, 'RxCoord': 2.15392, 'EnergyTotal': -1384.693906}, {'X': 64, 'Energy': -0.03868, 'RxCoord': 2.33342, 'EnergyTotal': -1384.699106}, {'X': 65, 'Energy': -0.04401, 'RxCoord': 2.51292, 'EnergyTotal': -1384.704436}, {'X': 66, 'Energy': -0.04941, 'RxCoord': 2.69242, 'EnergyTotal': -1384.709836}, {'X': 67, 'Energy': -0.05481, 'RxCoord': 2.87192, 'EnergyTotal': -1384.715236}, {'X': 68, 'Energy': -0.06012, 'RxCoord': 3.05141, 'EnergyTotal': -1384.720546}, {'X': 69, 'Energy': -0.06529, 'RxCoord': 3.2309, 'EnergyTotal': -1384.725716}, {'X': 70, 'Energy': -0.07024, 'RxCoord': 3.41039, 'EnergyTotal': -1384.730666}, {'X': 71, 'Energy': -0.07491, 'RxCoord': 3.58986, 'EnergyTotal': -1384.735336}, {'X': 72, 'Energy': -0.07925, 'RxCoord': 3.76932, 'EnergyTotal': -1384.739676}, {'X': 73, 'Energy': -0.08322, 'RxCoord': 3.94875, 'EnergyTotal': -1384.743646}, {'X': 74, 'Energy': -0.08678, 'RxCoord': 4.12815, 'EnergyTotal': -1384.747206}, {'X': 75, 'Energy': -0.08991, 'RxCoord': 4.30752, 'EnergyTotal': -1384.7503359999998}, {'X': 76, 'Energy': -0.09262, 'RxCoord': 4.48683, 'EnergyTotal': -1384.7530459999998}, {'X': 77, 'Energy': -0.0949, 'RxCoord': 4.66607, 'EnergyTotal': -1384.755326}, {'X': 78, 'Energy': -0.09681, 'RxCoord': 4.84519, 'EnergyTotal': -1384.757236}, {'X': 79, 'Energy': -0.09841, 'RxCoord': 5.02421, 'EnergyTotal': -1384.758836}, {'X': 80, 'Energy': -0.09977, 'RxCoord': 5.20324, 'EnergyTotal': -1384.760196}, {'X': 81, 'Energy': -0.10097, 'RxCoord': 5.38241, 'EnergyTotal': -1384.7613959999999}, {'X': 82, 'Energy': -0.10206, 'RxCoord': 5.56171, 'EnergyTotal': -1384.7624859999999}, {'X': 83, 'Energy': -0.10306, 'RxCoord': 5.7411, 'EnergyTotal': -1384.7634859999998}, {'X': 84, 'Energy': -0.10399, 'RxCoord': 5.92052, 'EnergyTotal': -1384.764416}, {'X': 85, 'Energy': -0.10485, 'RxCoord': 6.09997, 'EnergyTotal': -1384.7652759999999}, {'X': 86, 'Energy': -0.10567, 'RxCoord': 6.27942, 'EnergyTotal': -1384.7660959999998}, {'X': 87, 'Energy': -0.10644, 'RxCoord': 6.45884, 'EnergyTotal': -1384.766866}, {'X': 88, 'Energy': -0.10716, 'RxCoord': 6.63795, 'EnergyTotal': -1384.767586}, {'X': 89, 'Energy': -0.10785, 'RxCoord': 6.81577, 'EnergyTotal': -1384.768276}, {'X': 90, 'Energy': -0.10848, 'RxCoord': 6.99286, 'EnergyTotal': -1384.768906}, {'X': 91, 'Energy': -0.10908, 'RxCoord': 7.17046, 'EnergyTotal': -1384.7695059999999}, {'X': 92, 'Energy': -0.10967, 'RxCoord': 7.34792, 'EnergyTotal': -1384.770096}, {'X': 93, 'Energy': -0.11022, 'RxCoord': 7.52452, 'EnergyTotal': -1384.770646}, {'X': 94, 'Energy': -0.11074, 'RxCoord': 7.70027, 'EnergyTotal': -1384.771166}, {'X': 95, 'Energy': -0.11122, 'RxCoord': 7.87594, 'EnergyTotal': -1384.771646}, {'X': 96, 'Energy': -0.11169, 'RxCoord': 8.05326, 'EnergyTotal': -1384.7721159999999}, {'X': 97, 'Energy': -0.11215, 'RxCoord': 8.23117, 'EnergyTotal': -1384.7725759999998}, {'X': 98, 'Energy': -0.1126, 'RxCoord': 8.40849, 'EnergyTotal': -1384.7730259999998}, {'X': 99, 'Energy': -0.11302, 'RxCoord': 8.58556, 'EnergyTotal': -1384.773446}, {'X': 100, 'Energy': -0.11342, 'RxCoord': 8.76267, 'EnergyTotal': -1384.7738459999998}, {'X': 101, 'Energy': -0.11381, 'RxCoord': 8.94141, 'EnergyTotal': -1384.774236}, {'X': 102, 'Energy': -0.11419, 'RxCoord': 9.12026, 'EnergyTotal': -1384.774616}, {'X': 103, 'Energy': -0.11456, 'RxCoord': 9.29843, 'EnergyTotal': -1384.774986}, {'X': 104, 'Energy': -0.11491, 'RxCoord': 9.47542, 'EnergyTotal': -1384.775336}, {'X': 105, 'Energy': -0.11523, 'RxCoord': 9.65174, 'EnergyTotal': -1384.775656}, {'X': 106, 'Energy': -0.11554, 'RxCoord': 9.82978, 'EnergyTotal': -1384.775966}, {'X': 107, 'Energy': -0.11585, 'RxCoord': 10.00866, 'EnergyTotal': -1384.7762759999998}, {'X': 108, 'Energy': -0.11615, 'RxCoord': 10.18781, 'EnergyTotal': -1384.776576}, {'X': 109, 'Energy': -0.11643, 'RxCoord': 10.36696, 'EnergyTotal': -1384.776856}, {'X': 110, 'Energy': -0.11671, 'RxCoord': 10.54606, 'EnergyTotal': -1384.777136}, {'X': 111, 'Energy': -0.11697, 'RxCoord': 10.72519, 'EnergyTotal': -1384.777396}, {'X': 112, 'Energy': -0.11723, 'RxCoord': 10.90441, 'EnergyTotal': -1384.777656}, {'X': 113, 'Energy': -0.11747, 'RxCoord': 11.08369, 'EnergyTotal': -1384.7778959999998}, {'X': 114, 'Energy': -0.11771, 'RxCoord': 11.26301, 'EnergyTotal': -1384.778136}, {'X': 115, 'Energy': -0.11794, 'RxCoord': 11.44235, 'EnergyTotal': -1384.778366}, {'X': 116, 'Energy': -0.11816, 'RxCoord': 11.62168, 'EnergyTotal': -1384.778586}, {'X': 117, 'Energy': -0.11837, 'RxCoord': 11.801, 'EnergyTotal': -1384.7787959999998}, {'X': 118, 'Energy': -0.11858, 'RxCoord': 11.9803, 'EnergyTotal': -1384.779006}, {'X': 119, 'Energy': -0.11878, 'RxCoord': 12.15955, 'EnergyTotal': -1384.779206}, {'X': 120, 'Energy': -0.11897, 'RxCoord': 12.33873, 'EnergyTotal': -1384.779396}, {'X': 121, 'Energy': -0.11915, 'RxCoord': 12.51784, 'EnergyTotal': -1384.779576}, {'X': 122, 'Energy': -0.11933, 'RxCoord': 12.69685, 'EnergyTotal': -1384.779756}, {'X': 123, 'Energy': -0.1195, 'RxCoord': 12.87583, 'EnergyTotal': -1384.779926}, {'X': 124, 'Energy': -0.11967, 'RxCoord': 13.05478, 'EnergyTotal': -1384.780096}, {'X': 125, 'Energy': -0.11983, 'RxCoord': 13.23375, 'EnergyTotal': -1384.780256}, {'X': 126, 'Energy': -0.11999, 'RxCoord': 13.41263, 'EnergyTotal': -1384.7804159999998}, {'X': 127, 'Energy': -0.12014, 'RxCoord': 13.5913, 'EnergyTotal': -1384.780566}, {'X': 128, 'Energy': -0.12028, 'RxCoord': 13.76974, 'EnergyTotal': -1384.780706}, {'X': 129, 'Energy': -0.12042, 'RxCoord': 13.94814, 'EnergyTotal': -1384.7808459999999}, {'X': 130, 'Energy': -0.12056, 'RxCoord': 14.12676, 'EnergyTotal': -1384.780986}, {'X': 131, 'Energy': -0.12069, 'RxCoord': 14.30563, 'EnergyTotal': -1384.7811159999999}, {'X': 132, 'Energy': -0.12082, 'RxCoord': 14.48464, 'EnergyTotal': -1384.781246}, {'X': 133, 'Energy': -0.12094, 'RxCoord': 14.66352, 'EnergyTotal': -1384.781366}, {'X': 134, 'Energy': -0.12106, 'RxCoord': 14.8421, 'EnergyTotal': -1384.7814859999999}, {'X': 135, 'Energy': -0.12118, 'RxCoord': 15.02021, 'EnergyTotal': -1384.781606}, {'X': 136, 'Energy': -0.1213, 'RxCoord': 15.19789, 'EnergyTotal': -1384.781726}, {'X': 137, 'Energy': -0.12141, 'RxCoord': 15.37505, 'EnergyTotal': -1384.7818359999999}, {'X': 138, 'Energy': -0.12152, 'RxCoord': 15.55201, 'EnergyTotal': -1384.7819459999998}, {'X': 139, 'Energy': -0.12163, 'RxCoord': 15.7287, 'EnergyTotal': -1384.782056}, {'X': 140, 'Energy': -0.12173, 'RxCoord': 15.90592, 'EnergyTotal': -1384.782156}, {'X': 141, 'Energy': -0.12183, 'RxCoord': 16.08373, 'EnergyTotal': -1384.782256}, {'X': 142, 'Energy': -0.12193, 'RxCoord': 16.26229, 'EnergyTotal': -1384.782356}, {'X': 143, 'Energy': -0.12203, 'RxCoord': 16.44105, 'EnergyTotal': -1384.782456}, {'X': 144, 'Energy': -0.12213, 'RxCoord': 16.61998, 'EnergyTotal': -1384.7825559999999}, {'X': 145, 'Energy': -0.12222, 'RxCoord': 16.79887, 'EnergyTotal': -1384.7826459999999}, {'X': 146, 'Energy': -0.12232, 'RxCoord': 16.97766, 'EnergyTotal': -1384.7827459999999}, {'X': 147, 'Energy': -0.12241, 'RxCoord': 17.15633, 'EnergyTotal': -1384.7828359999999}, {'X': 148, 'Energy': -0.12251, 'RxCoord': 17.33471, 'EnergyTotal': -1384.7829359999998}, {'X': 149, 'Energy': -0.1226, 'RxCoord': 17.51281, 'EnergyTotal': -1384.7830259999998}, {'X': 150, 'Energy': -0.12268, 'RxCoord': 17.69062, 'EnergyTotal': -1384.7831059999999}, {'X': 151, 'Energy': -0.12277, 'RxCoord': 17.86812, 'EnergyTotal': -1384.7831959999999}, {'X': 152, 'Energy': -0.12285, 'RxCoord': 18.04597, 'EnergyTotal': -1384.783276}, {'X': 153, 'Energy': -0.12293, 'RxCoord': 18.22347, 'EnergyTotal': -1384.783356}, {'X': 154, 'Energy': -0.12302, 'RxCoord': 18.40096, 'EnergyTotal': -1384.783446}, {'X': 155, 'Energy': -0.12309, 'RxCoord': 18.57826, 'EnergyTotal': -1384.783516}, {'X': 156, 'Energy': -0.12317, 'RxCoord': 18.75571, 'EnergyTotal': -1384.783596}, {'X': 157, 'Energy': -0.12325, 'RxCoord': 18.93312, 'EnergyTotal': -1384.783676}, {'X': 158, 'Energy': -0.12333, 'RxCoord': 19.10993, 'EnergyTotal': -1384.7837559999998}, {'X': 159, 'Energy': -0.1234, 'RxCoord': 19.28635, 'EnergyTotal': -1384.7838259999999}, {'X': 160, 'Energy': -0.12348, 'RxCoord': 19.46226, 'EnergyTotal': -1384.783906}, {'X': 161, 'Energy': -0.12355, 'RxCoord': 19.63823, 'EnergyTotal': -1384.783976}, {'X': 162, 'Energy': -0.12362, 'RxCoord': 19.81502, 'EnergyTotal': -1384.784046}, {'X': 163, 'Energy': -0.12369, 'RxCoord': 19.99238, 'EnergyTotal': -1384.7841159999998}, {'X': 164, 'Energy': -0.12376, 'RxCoord': 20.17049, 'EnergyTotal': -1384.7841859999999}, {'X': 165, 'Energy': -0.12384, 'RxCoord': 20.34834, 'EnergyTotal': -1384.784266}, {'X': 166, 'Energy': -0.12391, 'RxCoord': 20.52563, 'EnergyTotal': -1384.784336}, {'X': 167, 'Energy': -0.12398, 'RxCoord': 20.70238, 'EnergyTotal': -1384.784406}, {'X': 168, 'Energy': -0.12404, 'RxCoord': 20.87901, 'EnergyTotal': -1384.7844659999998}, {'X': 169, 'Energy': -0.12411, 'RxCoord': 21.05571, 'EnergyTotal': -1384.784536}, {'X': 170, 'Energy': -0.12418, 'RxCoord': 21.22953, 'EnergyTotal': -1384.784606}, {'X': 171, 'Energy': -0.12424, 'RxCoord': 21.40613, 'EnergyTotal': -1384.784666}, {'X': 172, 'Energy': -0.12431, 'RxCoord': 21.58369, 'EnergyTotal': -1384.7847359999998}, {'X': 173, 'Energy': -0.12439, 'RxCoord': 21.76058, 'EnergyTotal': -1384.7848159999999}, {'X': 174, 'Energy': -0.12442, 'RxCoord': 21.83441, 'EnergyTotal': -1384.784846}], ['X', 'Energy', 'RxCoord'])]\n"
     ]
    }
   ],
   "source": [
    "log_res = AnalyzeIRC(target_folder, file_list)\n",
    "print(log_res)"
   ]
  },
  {
   "cell_type": "markdown",
   "metadata": {},
   "source": [
    "# Display\n"
   ]
  },
  {
   "cell_type": "code",
   "execution_count": 125,
   "metadata": {},
   "outputs": [
    {
     "data": {
      "text/html": [
       "<div>\n",
       "<style scoped>\n",
       "    .dataframe tbody tr th:only-of-type {\n",
       "        vertical-align: middle;\n",
       "    }\n",
       "\n",
       "    .dataframe tbody tr th {\n",
       "        vertical-align: top;\n",
       "    }\n",
       "\n",
       "    .dataframe thead th {\n",
       "        text-align: right;\n",
       "    }\n",
       "</style>\n",
       "<table border=\"1\" class=\"dataframe\">\n",
       "  <thead>\n",
       "    <tr style=\"text-align: right;\">\n",
       "      <th></th>\n",
       "      <th>X</th>\n",
       "      <th>Energy</th>\n",
       "      <th>RxCoord</th>\n",
       "      <th>EnergyTotal</th>\n",
       "    </tr>\n",
       "  </thead>\n",
       "  <tbody>\n",
       "    <tr>\n",
       "      <th>0</th>\n",
       "      <td>1</td>\n",
       "      <td>-0.03070</td>\n",
       "      <td>-8.92309</td>\n",
       "      <td>-1384.691126</td>\n",
       "    </tr>\n",
       "    <tr>\n",
       "      <th>1</th>\n",
       "      <td>2</td>\n",
       "      <td>-0.03068</td>\n",
       "      <td>-8.74420</td>\n",
       "      <td>-1384.691106</td>\n",
       "    </tr>\n",
       "    <tr>\n",
       "      <th>2</th>\n",
       "      <td>3</td>\n",
       "      <td>-0.03065</td>\n",
       "      <td>-8.56523</td>\n",
       "      <td>-1384.691076</td>\n",
       "    </tr>\n",
       "    <tr>\n",
       "      <th>3</th>\n",
       "      <td>4</td>\n",
       "      <td>-0.03062</td>\n",
       "      <td>-8.38645</td>\n",
       "      <td>-1384.691046</td>\n",
       "    </tr>\n",
       "    <tr>\n",
       "      <th>4</th>\n",
       "      <td>5</td>\n",
       "      <td>-0.03059</td>\n",
       "      <td>-8.20802</td>\n",
       "      <td>-1384.691016</td>\n",
       "    </tr>\n",
       "  </tbody>\n",
       "</table>\n",
       "</div>"
      ],
      "text/plain": [
       "   X   Energy  RxCoord  EnergyTotal\n",
       "0  1 -0.03070 -8.92309 -1384.691126\n",
       "1  2 -0.03068 -8.74420 -1384.691106\n",
       "2  3 -0.03065 -8.56523 -1384.691076\n",
       "3  4 -0.03062 -8.38645 -1384.691046\n",
       "4  5 -0.03059 -8.20802 -1384.691016"
      ]
     },
     "execution_count": 125,
     "metadata": {},
     "output_type": "execute_result"
    }
   ],
   "source": [
    "# first data\n",
    "data_0 = log_res[0][2]\n",
    "# dataframe\n",
    "df = pd.DataFrame(data_0)\n",
    "df.head()"
   ]
  },
  {
   "cell_type": "code",
   "execution_count": 126,
   "metadata": {},
   "outputs": [
    {
     "data": {
      "text/html": [
       "<div>\n",
       "<style scoped>\n",
       "    .dataframe tbody tr th:only-of-type {\n",
       "        vertical-align: middle;\n",
       "    }\n",
       "\n",
       "    .dataframe tbody tr th {\n",
       "        vertical-align: top;\n",
       "    }\n",
       "\n",
       "    .dataframe thead th {\n",
       "        text-align: right;\n",
       "    }\n",
       "</style>\n",
       "<table border=\"1\" class=\"dataframe\">\n",
       "  <thead>\n",
       "    <tr style=\"text-align: right;\">\n",
       "      <th></th>\n",
       "      <th>X</th>\n",
       "      <th>Energy</th>\n",
       "      <th>RxCoord</th>\n",
       "      <th>EnergyTotal</th>\n",
       "    </tr>\n",
       "  </thead>\n",
       "  <tbody>\n",
       "    <tr>\n",
       "      <th>169</th>\n",
       "      <td>170</td>\n",
       "      <td>-0.12418</td>\n",
       "      <td>21.22953</td>\n",
       "      <td>-1384.784606</td>\n",
       "    </tr>\n",
       "    <tr>\n",
       "      <th>170</th>\n",
       "      <td>171</td>\n",
       "      <td>-0.12424</td>\n",
       "      <td>21.40613</td>\n",
       "      <td>-1384.784666</td>\n",
       "    </tr>\n",
       "    <tr>\n",
       "      <th>171</th>\n",
       "      <td>172</td>\n",
       "      <td>-0.12431</td>\n",
       "      <td>21.58369</td>\n",
       "      <td>-1384.784736</td>\n",
       "    </tr>\n",
       "    <tr>\n",
       "      <th>172</th>\n",
       "      <td>173</td>\n",
       "      <td>-0.12439</td>\n",
       "      <td>21.76058</td>\n",
       "      <td>-1384.784816</td>\n",
       "    </tr>\n",
       "    <tr>\n",
       "      <th>173</th>\n",
       "      <td>174</td>\n",
       "      <td>-0.12442</td>\n",
       "      <td>21.83441</td>\n",
       "      <td>-1384.784846</td>\n",
       "    </tr>\n",
       "  </tbody>\n",
       "</table>\n",
       "</div>"
      ],
      "text/plain": [
       "       X   Energy   RxCoord  EnergyTotal\n",
       "169  170 -0.12418  21.22953 -1384.784606\n",
       "170  171 -0.12424  21.40613 -1384.784666\n",
       "171  172 -0.12431  21.58369 -1384.784736\n",
       "172  173 -0.12439  21.76058 -1384.784816\n",
       "173  174 -0.12442  21.83441 -1384.784846"
      ]
     },
     "execution_count": 126,
     "metadata": {},
     "output_type": "execute_result"
    }
   ],
   "source": [
    "df.tail()"
   ]
  },
  {
   "cell_type": "markdown",
   "metadata": {},
   "source": [
    "plot data\n"
   ]
  },
  {
   "cell_type": "code",
   "execution_count": 127,
   "metadata": {},
   "outputs": [
    {
     "data": {
      "text/plain": [
       "array([-8.92309, -8.7442 , -8.56523, -8.38645, -8.20802, -8.03101,\n",
       "       -7.85494, -7.67951, -7.50343, -7.32656])"
      ]
     },
     "execution_count": 127,
     "metadata": {},
     "output_type": "execute_result"
    }
   ],
   "source": [
    "# X\n",
    "_X = df['RxCoord']\n",
    "X = _X.to_numpy()\n",
    "X[0:10]"
   ]
  },
  {
   "cell_type": "code",
   "execution_count": 128,
   "metadata": {},
   "outputs": [
    {
     "data": {
      "text/plain": [
       "array([-1384.691126, -1384.691106, -1384.691076, -1384.691046,\n",
       "       -1384.691016, -1384.690976, -1384.690936, -1384.690896,\n",
       "       -1384.690846, -1384.690786])"
      ]
     },
     "execution_count": 128,
     "metadata": {},
     "output_type": "execute_result"
    }
   ],
   "source": [
    "# Y\n",
    "_Y = df['EnergyTotal']\n",
    "Y = _Y.to_numpy()\n",
    "Y[0:10]"
   ]
  },
  {
   "cell_type": "code",
   "execution_count": 136,
   "metadata": {},
   "outputs": [
    {
     "data": {
      "image/png": "[encoded data removed]",
      "text/plain": [
       "<Figure size 800x550 with 1 Axes>"
      ]
     },
     "metadata": {},
     "output_type": "display_data"
    }
   ],
   "source": [
    "# Add a title to the plot\n",
    "plt.title('IRC 1', fontweight='bold', color='black', fontsize=16)\n",
    "# styles\n",
    "plt_styles = ['bmh', 'dark_background', 'seaborn-v0_8', 'ggplot']\n",
    "plt.style.use(plt_styles[3])\n",
    "# axe labels\n",
    "plt.xlabel(\"Intrinsic Reaction Coordinate\", fontweight='bold', color='black')\n",
    "plt.ylabel(\"Total Energy (Hartree)\", fontweight='bold', color='black')\n",
    "# grid\n",
    "plt.grid(which='both', color='gray', linestyle='--', linewidth=0.5)\n",
    "# Enable minor ticks\n",
    "plt.minorticks_on()\n",
    "# Customize major grid lines\n",
    "plt.grid(which='major', color='grey', linestyle='-', linewidth=0.75)\n",
    "# Customize minor grid lines\n",
    "plt.grid(which='minor', color='gray', linestyle=':', linewidth=0.5)\n",
    "# plot data\n",
    "plt.plot(X, Y, color='blue')\n",
    "# save a figure\n",
    "img_path = os.path.join(target_folder, 'my_plot.svg')\n",
    "# svg\n",
    "# plt.savefig(img_path, facecolor='white')\n",
    "# Save using the format parameter\n",
    "jpeg_img_path = os.path.join(target_folder, 'my_plot.jpeg')\n",
    "plt.savefig(jpeg_img_path, facecolor='white')\n",
    "# Customize major tick marks for the current axes\n",
    "# plt.gca().tick_params(axis='both', which='major', length=5, width=1, colors='black', direction='in', labelsize=10)\n",
    "# Customize minor tick marks for the current axes\n",
    "# plt.gca().tick_params(axis='both', which='minor', length=5, width=1, colors='gray', direction='in', labelsize=10)\n",
    "# Set the y-axis limits to display the actual values\n",
    "# Set the y-tick labels to display the actual values\n",
    "plt.gca().yaxis.set_major_formatter(ticker.StrMethodFormatter('{x:,.3f}'))\n",
    "# Customize the appearance of the spines\n",
    "plt.gca().spines['top'].set_color('black')\n",
    "plt.gca().spines['right'].set_color('black')\n",
    "plt.gca().spines['bottom'].set_color('black')\n",
    "plt.gca().spines['left'].set_color('black')\n",
    "# Set the minimum and maximum values for the x-axis\n",
    "plt.xlim(min(X)-1, max(X)+1)  # Adjust the values as needed\n",
    "# show\n",
    "plt.show()"
   ]
  },
  {
   "cell_type": "code",
   "execution_count": null,
   "metadata": {},
   "outputs": [],
   "source": []
  }
 ],
 "metadata": {
  "kernelspec": {
   "display_name": "venv",
   "language": "python",
   "name": "python3"
  },
  "language_info": {
   "codemirror_mode": {
    "name": "ipython",
    "version": 3
   },
   "file_extension": ".py",
   "mimetype": "text/x-python",
   "name": "python",
   "nbconvert_exporter": "python",
   "pygments_lexer": "ipython3",
   "version": "3.9.5"
  }
 },
 "nbformat": 4,
 "nbformat_minor": 2
}
