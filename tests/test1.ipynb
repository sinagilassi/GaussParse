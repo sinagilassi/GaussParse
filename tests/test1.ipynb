{
 "cells": [
  {
   "cell_type": "markdown",
   "id": "157ac535",
   "metadata": {},
   "source": [
    "# Import Libs"
   ]
  },
  {
   "cell_type": "code",
   "execution_count": 4,
   "id": "2108504b",
   "metadata": {},
   "outputs": [],
   "source": [
    "import os\n",
    "from rich import print\n",
    "import GaussParse as gp"
   ]
  },
  {
   "cell_type": "code",
   "execution_count": 2,
   "id": "14e839df",
   "metadata": {},
   "outputs": [
    {
     "name": "stdout",
     "output_type": "stream",
     "text": [
      "current version: 1.3.7\n",
      "description: GaussParse 1.3.7 is a python package to parse Gaussian output files.\n"
     ]
    }
   ],
   "source": [
    "# version\n",
    "print(f\"current version: {gp.__version__}\")\n",
    "# description\n",
    "print(f\"description: {gp.__description__}\")"
   ]
  },
  {
   "cell_type": "markdown",
   "id": "00ff2ad3",
   "metadata": {},
   "source": [
    "# NBO Analysis"
   ]
  },
  {
   "cell_type": "code",
   "execution_count": 9,
   "id": "4f6f31d6",
   "metadata": {},
   "outputs": [
    {
     "data": {
      "text/html": [
       "<pre style=\"white-space:pre;overflow-x:auto;line-height:normal;font-family:Menlo,'DejaVu Sans Mono',consolas,'Courier New',monospace\">current working directory: e:\\Python Projects\\GaussParse\\tests\n",
       "</pre>\n"
      ],
      "text/plain": [
       "current working directory: e:\\Python Projects\\GaussParse\\tests\n"
      ]
     },
     "metadata": {},
     "output_type": "display_data"
    }
   ],
   "source": [
    "# current working directory\n",
    "current_dir = os.getcwd()\n",
    "# file\n",
    "nbo_file = os.path.join(current_dir, \"nbo.log\")\n",
    "print(f\"current working directory: {current_dir}\")\n",
    "\n",
    "# display\n",
    "gp.nbo_parser(nbo_file)"
   ]
  }
 ],
 "metadata": {
  "kernelspec": {
   "display_name": ".venv (3.10.0)",
   "language": "python",
   "name": "python3"
  },
  "language_info": {
   "codemirror_mode": {
    "name": "ipython",
    "version": 3
   },
   "file_extension": ".py",
   "mimetype": "text/x-python",
   "name": "python",
   "nbconvert_exporter": "python",
   "pygments_lexer": "ipython3",
   "version": "3.10.0"
  }
 },
 "nbformat": 4,
 "nbformat_minor": 5
}
