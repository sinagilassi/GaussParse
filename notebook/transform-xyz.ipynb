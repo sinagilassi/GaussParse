{
 "cells": [
  {
   "cell_type": "markdown",
   "metadata": {},
   "source": [
    "# Import Libs"
   ]
  },
  {
   "cell_type": "code",
   "execution_count": 1,
   "metadata": {},
   "outputs": [],
   "source": [
    "import GaussParse as gp\n",
    "import os"
   ]
  },
  {
   "cell_type": "code",
   "execution_count": 2,
   "metadata": {},
   "outputs": [
    {
     "name": "stdout",
     "output_type": "stream",
     "text": [
      "current version: 1.3.4\n"
     ]
    },
    {
     "data": {
      "text/html": [
       "<pre style=\"white-space:pre;overflow-x:auto;line-height:normal;font-family:Menlo,'DejaVu Sans Mono',consolas,'Courier New',monospace\">GaussParse <span style=\"color: #008080; text-decoration-color: #008080; font-weight: bold\">1.3</span>.<span style=\"color: #008080; text-decoration-color: #008080; font-weight: bold\">4</span> is a python package to parse Gaussian output files.\n",
       "</pre>\n"
      ],
      "text/plain": [
       "GaussParse \u001b[1;36m1.3\u001b[0m.\u001b[1;36m4\u001b[0m is a python package to parse Gaussian output files.\n"
      ]
     },
     "metadata": {},
     "output_type": "display_data"
    }
   ],
   "source": [
    "# version\n",
    "print(f\"current version: {gp.__version__}\")\n",
    "# info\n",
    "gp.app_info()"
   ]
  },
  {
   "cell_type": "markdown",
   "metadata": {},
   "source": [
    "# Tranform Input Orientation to XYZ Format"
   ]
  },
  {
   "cell_type": "code",
   "execution_count": 6,
   "metadata": {},
   "outputs": [
    {
     "name": "stdout",
     "output_type": "stream",
     "text": [
      "file path: e:\\Python Projects\\GaussParse\\notebook\\molecular-orientation_20250322_191608.txt\n"
     ]
    }
   ],
   "source": [
    "# file path\n",
    "file_ = os.path.join(os.getcwd(), \"molecular-orientation_20250322_191608.txt\")\n",
    "print(f\"file path: {file_}\")"
   ]
  },
  {
   "cell_type": "code",
   "execution_count": 7,
   "metadata": {},
   "outputs": [
    {
     "data": {
      "text/plain": [
       "[('acetone.xyz',\n",
       "  [],\n",
       "  [('O', -0.0, 0.0, -1.396877),\n",
       "   ('C', -0.0, 0.0, -0.180992),\n",
       "   ('C', 0.0, -1.284084, 0.610593),\n",
       "   ('C', -0.0, 1.284084, 0.610593),\n",
       "   ('H', 0.934212, -1.364836, 1.171004),\n",
       "   ('H', -0.807146, -1.279586, 1.344984),\n",
       "   ('H', -0.101768, -2.141669, -0.049066),\n",
       "   ('H', 0.101768, 2.141669, -0.049066),\n",
       "   ('H', 0.807146, 1.279586, 1.344984),\n",
       "   ('H', -0.934212, 1.364836, 1.171004)],\n",
       "  ['Center Number', 'Atomic Number', 'Atomic Symbol', 'X', 'Y', 'Z'])]"
      ]
     },
     "execution_count": 7,
     "metadata": {},
     "output_type": "execute_result"
    }
   ],
   "source": [
    "# plot energy profile and save it\n",
    "gp.txt_orientation_to_xyz(file_)"
   ]
  }
 ],
 "metadata": {
  "kernelspec": {
   "display_name": ".venv",
   "language": "python",
   "name": "python3"
  },
  "language_info": {
   "codemirror_mode": {
    "name": "ipython",
    "version": 3
   },
   "file_extension": ".py",
   "mimetype": "text/x-python",
   "name": "python",
   "nbconvert_exporter": "python",
   "pygments_lexer": "ipython3",
   "version": "3.10.0"
  }
 },
 "nbformat": 4,
 "nbformat_minor": 2
}
