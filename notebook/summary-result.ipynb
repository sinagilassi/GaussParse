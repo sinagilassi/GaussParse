{
 "cells": [
  {
   "cell_type": "markdown",
   "metadata": {},
   "source": [
    "# Import Libs"
   ]
  },
  {
   "cell_type": "code",
   "execution_count": 1,
   "metadata": {},
   "outputs": [],
   "source": [
    "import GaussParse as gp\n",
    "import os\n",
    "import pandas as pd"
   ]
  },
  {
   "cell_type": "code",
   "execution_count": 2,
   "metadata": {},
   "outputs": [
    {
     "name": "stdout",
     "output_type": "stream",
     "text": [
      "current version: 1.3.4\n"
     ]
    },
    {
     "data": {
      "text/html": [
       "<pre style=\"white-space:pre;overflow-x:auto;line-height:normal;font-family:Menlo,'DejaVu Sans Mono',consolas,'Courier New',monospace\">GaussParse <span style=\"color: #008080; text-decoration-color: #008080; font-weight: bold\">1.3</span>.<span style=\"color: #008080; text-decoration-color: #008080; font-weight: bold\">4</span> is a python package to parse Gaussian output files.\n",
       "</pre>\n"
      ],
      "text/plain": [
       "GaussParse \u001b[1;36m1.3\u001b[0m.\u001b[1;36m4\u001b[0m is a python package to parse Gaussian output files.\n"
      ]
     },
     "metadata": {},
     "output_type": "display_data"
    }
   ],
   "source": [
    "# version\n",
    "print(f\"current version: {gp.__version__}\")\n",
    "# info\n",
    "gp.app_info()"
   ]
  },
  {
   "cell_type": "markdown",
   "metadata": {},
   "source": [
    "# Convert Summary Result File to Excel Format"
   ]
  },
  {
   "cell_type": "code",
   "execution_count": 5,
   "metadata": {},
   "outputs": [
    {
     "name": "stdout",
     "output_type": "stream",
     "text": [
      "file path: e:\\Python Projects\\GaussParse\\notebook\\1,2LO.txt\n"
     ]
    }
   ],
   "source": [
    "# file path\n",
    "file_ = os.path.join(os.getcwd(), \"1,2LO.txt\")\n",
    "print(f\"file path: {file_}\")"
   ]
  },
  {
   "cell_type": "code",
   "execution_count": 7,
   "metadata": {},
   "outputs": [
    {
     "name": "stdout",
     "output_type": "stream",
     "text": [
      "result saved in: (True, {'1,2LO':                                             Parameter  \\\n",
      "0                                            Filename   \n",
      "1                          Overview Tab Data Section:   \n",
      "2                        TS1 (Optimization completed)   \n",
      "3   D:/OneDrive/Project Analysis/Computational Che...   \n",
      "4                                           File Type   \n",
      "5                                    Calculation Type   \n",
      "6                                  Calculation Method   \n",
      "7                                           Basis Set   \n",
      "8                                              Charge   \n",
      "9                                                Spin   \n",
      "10                                          Solvation   \n",
      "11                                          E(RM062X)   \n",
      "12                                  RMS Gradient Norm   \n",
      "13                                     Imaginary Freq   \n",
      "14                                      Dipole Moment   \n",
      "15                                 Polarizability (?)   \n",
      "16                                        Point Group   \n",
      "17  Job cpu time:       0 days  4 hours 19 minutes...   \n",
      "18                           Thermo Tab Data Section:   \n",
      "19                                     Imaginary Freq   \n",
      "20                                        Temperature   \n",
      "21                                           Pressure   \n",
      "22                              Frequencies scaled by   \n",
      "23                             Electronic Energy (EE)   \n",
      "24                       Zero-point Energy Correction   \n",
      "25                       Thermal Correction to Energy   \n",
      "26                     Thermal Correction to Enthalpy   \n",
      "27                  Thermal Correction to Free Energy   \n",
      "28                             EE + Zero-point Energy   \n",
      "29                     EE + Thermal Energy Correction   \n",
      "30                   EE + Thermal Enthalpy Correction   \n",
      "31                EE + Thermal Free Energy Correction   \n",
      "32                                        E (Thermal)   \n",
      "33                                 Heat Capacity (Cv)   \n",
      "34                                        Entropy (S)   \n",
      "35                              Opt Tab Data Section:   \n",
      "36                                        Step number   \n",
      "37                                      Maximum force   \n",
      "38                                          RMS force   \n",
      "39                               Maximum displacement   \n",
      "40                                   RMS displacement   \n",
      "41                            Predicted energy change   \n",
      "\n",
      "                                                Value            Unit  \n",
      "0   D:/OneDrive/Project Analysis/Computational Che...                  \n",
      "1                                                                      \n",
      "2                                                                      \n",
      "3                                                                      \n",
      "4                                                .log                  \n",
      "5                                                FREQ                  \n",
      "6                                              RM062X                  \n",
      "7                                       6-311++G(d,p)                  \n",
      "8                                                 0.0                  \n",
      "9                                             Singlet                  \n",
      "10                               scrf=solvent=acetone                  \n",
      "11                                         -465.80206         Hartree  \n",
      "12                                           0.000002    Hartree/Bohr  \n",
      "13                                                0.0                  \n",
      "14                                           3.090844           Debye  \n",
      "15                                          148.99367            a.u.  \n",
      "16                                                 C1                  \n",
      "17                                                                     \n",
      "18                                                                     \n",
      "19                                                0.0                  \n",
      "20                                             298.15          Kelvin  \n",
      "21                                                1.0             atm  \n",
      "22                                                1.0                  \n",
      "23                                         -465.80206         Hartree  \n",
      "24                                           0.241656         Hartree  \n",
      "25                                           0.252691         Hartree  \n",
      "26                                           0.253636         Hartree  \n",
      "27                                           0.205438         Hartree  \n",
      "28                                          -465.5604         Hartree  \n",
      "29                                         -465.54937         Hartree  \n",
      "30                                         -465.54842         Hartree  \n",
      "31                                         -465.59662         Hartree  \n",
      "32                                            158.566        kcal/mol  \n",
      "33                                             43.502  cal/mol-kelvin  \n",
      "34                                             101.44  cal/mol-kelvin  \n",
      "35                                                                     \n",
      "36                                                1.0                  \n",
      "37                                           0.000002       Converged  \n",
      "38                                                0.0       Converged  \n",
      "39                                           0.000038       Converged  \n",
      "40                                           0.000007       Converged  \n",
      "41                                               -0.0         Hartree  })\n"
     ]
    }
   ],
   "source": [
    "# save in excel\n",
    "res_ = gp.result_summary_to_excel(file_)\n",
    "print(f\"result saved in: {res_}\")"
   ]
  }
 ],
 "metadata": {
  "kernelspec": {
   "display_name": ".venv",
   "language": "python",
   "name": "python3"
  },
  "language_info": {
   "codemirror_mode": {
    "name": "ipython",
    "version": 3
   },
   "file_extension": ".py",
   "mimetype": "text/x-python",
   "name": "python",
   "nbconvert_exporter": "python",
   "pygments_lexer": "ipython3",
   "version": "3.10.0"
  }
 },
 "nbformat": 4,
 "nbformat_minor": 2
}
