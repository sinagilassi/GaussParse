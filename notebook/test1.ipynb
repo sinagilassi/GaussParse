{
 "cells": [
  {
   "cell_type": "markdown",
   "metadata": {},
   "source": [
    "# Import Libs"
   ]
  },
  {
   "cell_type": "code",
   "execution_count": 1,
   "metadata": {},
   "outputs": [],
   "source": [
    "import GaussParse as gp"
   ]
  },
  {
   "cell_type": "code",
   "execution_count": 2,
   "metadata": {},
   "outputs": [
    {
     "name": "stdout",
     "output_type": "stream",
     "text": [
      "current version: 1.3.3\n"
     ]
    },
    {
     "data": {
      "text/html": [
       "<pre style=\"white-space:pre;overflow-x:auto;line-height:normal;font-family:Menlo,'DejaVu Sans Mono',consolas,'Courier New',monospace\">GaussParse <span style=\"color: #008080; text-decoration-color: #008080; font-weight: bold\">1.3</span>.<span style=\"color: #008080; text-decoration-color: #008080; font-weight: bold\">3</span> is a python package to parse Gaussian output files.\n",
       "</pre>\n"
      ],
      "text/plain": [
       "GaussParse \u001b[1;36m1.3\u001b[0m.\u001b[1;36m3\u001b[0m is a python package to parse Gaussian output files.\n"
      ]
     },
     "metadata": {},
     "output_type": "display_data"
    }
   ],
   "source": [
    "# version\n",
    "print(f\"current version: {gp.__version__}\")\n",
    "# info\n",
    "gp.app_info()"
   ]
  },
  {
   "cell_type": "markdown",
   "metadata": {},
   "source": [
    "# NBO Analysis"
   ]
  },
  {
   "cell_type": "code",
   "execution_count": 3,
   "metadata": {},
   "outputs": [
    {
     "ename": "Exception",
     "evalue": "('Operation failed!, ', Exception('Error displaying contents: Template path E:\\\\Python Projects\\\\GaussParse\\\\.venv\\\\Lib\\\\site-packages\\\\GaussParse\\\\templates does not exist.'))",
     "output_type": "error",
     "traceback": [
      "\u001b[1;31m---------------------------------------------------------------------------\u001b[0m",
      "\u001b[1;31mFileNotFoundError\u001b[0m                         Traceback (most recent call last)",
      "File \u001b[1;32me:\\Python Projects\\GaussParse\\.venv\\lib\\site-packages\\GaussParse\\docs\\nbo_parser.py:251\u001b[0m, in \u001b[0;36mNBOParser.display_in_browser\u001b[1;34m(self)\u001b[0m\n\u001b[0;32m    250\u001b[0m     \u001b[38;5;66;03m# display\u001b[39;00m\n\u001b[1;32m--> 251\u001b[0m     \u001b[43msave_and_open_html\u001b[49m\u001b[43m(\u001b[49m\u001b[43mcontents\u001b[49m\u001b[43m)\u001b[49m\n\u001b[0;32m    253\u001b[0m \u001b[38;5;28;01mexcept\u001b[39;00m \u001b[38;5;167;01mException\u001b[39;00m \u001b[38;5;28;01mas\u001b[39;00m e:\n",
      "File \u001b[1;32me:\\Python Projects\\GaussParse\\.venv\\lib\\site-packages\\GaussParse\\docs\\nbo_parser.py:242\u001b[0m, in \u001b[0;36mNBOParser.display_in_browser.<locals>.save_and_open_html\u001b[1;34m(data)\u001b[0m\n\u001b[0;32m    241\u001b[0m \u001b[38;5;28;01mdef\u001b[39;00m\u001b[38;5;250m \u001b[39m\u001b[38;5;21msave_and_open_html\u001b[39m(data):\n\u001b[1;32m--> 242\u001b[0m     html_content \u001b[38;5;241m=\u001b[39m \u001b[43mgenerate_html_template\u001b[49m\u001b[43m(\u001b[49m\u001b[43mdata\u001b[49m\u001b[43m)\u001b[49m\n\u001b[0;32m    243\u001b[0m     \u001b[38;5;28;01mwith\u001b[39;00m tempfile\u001b[38;5;241m.\u001b[39mNamedTemporaryFile(\u001b[38;5;124m'\u001b[39m\u001b[38;5;124mw\u001b[39m\u001b[38;5;124m'\u001b[39m, delete\u001b[38;5;241m=\u001b[39m\u001b[38;5;28;01mFalse\u001b[39;00m, suffix\u001b[38;5;241m=\u001b[39m\u001b[38;5;124m'\u001b[39m\u001b[38;5;124m.html\u001b[39m\u001b[38;5;124m'\u001b[39m) \u001b[38;5;28;01mas\u001b[39;00m temp_file:\n",
      "File \u001b[1;32me:\\Python Projects\\GaussParse\\.venv\\lib\\site-packages\\GaussParse\\docs\\nbo_parser.py:216\u001b[0m, in \u001b[0;36mNBOParser.display_in_browser.<locals>.generate_html_template\u001b[1;34m(data)\u001b[0m\n\u001b[0;32m    215\u001b[0m \u001b[38;5;28;01mif\u001b[39;00m \u001b[38;5;129;01mnot\u001b[39;00m template_path\u001b[38;5;241m.\u001b[39mexists():\n\u001b[1;32m--> 216\u001b[0m     \u001b[38;5;28;01mraise\u001b[39;00m \u001b[38;5;167;01mFileNotFoundError\u001b[39;00m(\n\u001b[0;32m    217\u001b[0m         \u001b[38;5;124mf\u001b[39m\u001b[38;5;124m\"\u001b[39m\u001b[38;5;124mTemplate path \u001b[39m\u001b[38;5;132;01m{\u001b[39;00mtemplate_path\u001b[38;5;132;01m}\u001b[39;00m\u001b[38;5;124m does not exist.\u001b[39m\u001b[38;5;124m\"\u001b[39m)\n\u001b[0;32m    219\u001b[0m \u001b[38;5;66;03m# check template\u001b[39;00m\n",
      "\u001b[1;31mFileNotFoundError\u001b[0m: Template path E:\\Python Projects\\GaussParse\\.venv\\Lib\\site-packages\\GaussParse\\templates does not exist.",
      "\nDuring handling of the above exception, another exception occurred:\n",
      "\u001b[1;31mException\u001b[0m                                 Traceback (most recent call last)",
      "File \u001b[1;32me:\\Python Projects\\GaussParse\\.venv\\lib\\site-packages\\GaussParse\\app.py:311\u001b[0m, in \u001b[0;36mnbo_parser\u001b[1;34m(file_path)\u001b[0m\n\u001b[0;32m    310\u001b[0m     \u001b[38;5;66;03m# NOTE: display in a browser\u001b[39;00m\n\u001b[1;32m--> 311\u001b[0m     \u001b[43mnbo_parser\u001b[49m\u001b[38;5;241;43m.\u001b[39;49m\u001b[43mdisplay_in_browser\u001b[49m\u001b[43m(\u001b[49m\u001b[43m)\u001b[49m\n\u001b[0;32m    313\u001b[0m \u001b[38;5;28;01mexcept\u001b[39;00m \u001b[38;5;167;01mException\u001b[39;00m \u001b[38;5;28;01mas\u001b[39;00m e:\n",
      "File \u001b[1;32me:\\Python Projects\\GaussParse\\.venv\\lib\\site-packages\\GaussParse\\docs\\nbo_parser.py:254\u001b[0m, in \u001b[0;36mNBOParser.display_in_browser\u001b[1;34m(self)\u001b[0m\n\u001b[0;32m    253\u001b[0m \u001b[38;5;28;01mexcept\u001b[39;00m \u001b[38;5;167;01mException\u001b[39;00m \u001b[38;5;28;01mas\u001b[39;00m e:\n\u001b[1;32m--> 254\u001b[0m     \u001b[38;5;28;01mraise\u001b[39;00m \u001b[38;5;167;01mException\u001b[39;00m(\u001b[38;5;124mf\u001b[39m\u001b[38;5;124m\"\u001b[39m\u001b[38;5;124mError displaying contents: \u001b[39m\u001b[38;5;132;01m{\u001b[39;00me\u001b[38;5;132;01m}\u001b[39;00m\u001b[38;5;124m\"\u001b[39m)\n",
      "\u001b[1;31mException\u001b[0m: Error displaying contents: Template path E:\\Python Projects\\GaussParse\\.venv\\Lib\\site-packages\\GaussParse\\templates does not exist.",
      "\nDuring handling of the above exception, another exception occurred:\n",
      "\u001b[1;31mException\u001b[0m                                 Traceback (most recent call last)",
      "Cell \u001b[1;32mIn[3], line 5\u001b[0m\n\u001b[0;32m      2\u001b[0m nbo_file \u001b[38;5;241m=\u001b[39m \u001b[38;5;124mr\u001b[39m\u001b[38;5;124m\"\u001b[39m\u001b[38;5;124mE:\u001b[39m\u001b[38;5;124m\\\u001b[39m\u001b[38;5;124mPython Projects\u001b[39m\u001b[38;5;124m\\\u001b[39m\u001b[38;5;124muniversal-projects\u001b[39m\u001b[38;5;124m\\\u001b[39m\u001b[38;5;124mGaussParse\u001b[39m\u001b[38;5;124m\\\u001b[39m\u001b[38;5;124mnbo_res_two_molecules.log\u001b[39m\u001b[38;5;124m\"\u001b[39m\n\u001b[0;32m      4\u001b[0m \u001b[38;5;66;03m# display\u001b[39;00m\n\u001b[1;32m----> 5\u001b[0m \u001b[43mgp\u001b[49m\u001b[38;5;241;43m.\u001b[39;49m\u001b[43mnbo_parser\u001b[49m\u001b[43m(\u001b[49m\u001b[43mnbo_file\u001b[49m\u001b[43m)\u001b[49m\n",
      "File \u001b[1;32me:\\Python Projects\\GaussParse\\.venv\\lib\\site-packages\\GaussParse\\app.py:314\u001b[0m, in \u001b[0;36mnbo_parser\u001b[1;34m(file_path)\u001b[0m\n\u001b[0;32m    311\u001b[0m     nbo_parser\u001b[38;5;241m.\u001b[39mdisplay_in_browser()\n\u001b[0;32m    313\u001b[0m \u001b[38;5;28;01mexcept\u001b[39;00m \u001b[38;5;167;01mException\u001b[39;00m \u001b[38;5;28;01mas\u001b[39;00m e:\n\u001b[1;32m--> 314\u001b[0m     \u001b[38;5;28;01mraise\u001b[39;00m \u001b[38;5;167;01mException\u001b[39;00m(\u001b[38;5;124m\"\u001b[39m\u001b[38;5;124mOperation failed!, \u001b[39m\u001b[38;5;124m\"\u001b[39m, e)\n",
      "\u001b[1;31mException\u001b[0m: ('Operation failed!, ', Exception('Error displaying contents: Template path E:\\\\Python Projects\\\\GaussParse\\\\.venv\\\\Lib\\\\site-packages\\\\GaussParse\\\\templates does not exist.'))"
     ]
    }
   ],
   "source": [
    "# file\n",
    "nbo_file = r\"E:\\Python Projects\\universal-projects\\GaussParse\\nbo_res_two_molecules.log\"\n",
    "\n",
    "# display\n",
    "gp.nbo_parser(nbo_file)"
   ]
  }
 ],
 "metadata": {
  "kernelspec": {
   "display_name": ".venv (3.10.0)",
   "language": "python",
   "name": "python3"
  },
  "language_info": {
   "codemirror_mode": {
    "name": "ipython",
    "version": 3
   },
   "file_extension": ".py",
   "mimetype": "text/x-python",
   "name": "python",
   "nbconvert_exporter": "python",
   "pygments_lexer": "ipython3",
   "version": "3.10.0"
  }
 },
 "nbformat": 4,
 "nbformat_minor": 2
}
